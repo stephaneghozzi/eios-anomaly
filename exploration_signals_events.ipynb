{
 "cells": [
  {
   "cell_type": "markdown",
   "metadata": {},
   "source": [
    "# Exploration of signals and events"
   ]
  },
  {
   "cell_type": "code",
   "execution_count": 1,
   "metadata": {},
   "outputs": [],
   "source": [
    "# 79 characters:\n",
    "# -----------------------------------------------------------------------------\n",
    "# 72 characters (docstrings or comments):\n",
    "# ----------------------------------------------------------------------"
   ]
  },
  {
   "cell_type": "code",
   "execution_count": 2,
   "metadata": {},
   "outputs": [
    {
     "name": "stdout",
     "output_type": "stream",
     "text": [
      "Exception reporting mode: Plain\n"
     ]
    }
   ],
   "source": [
    "import pandas as pd\n",
    "import numpy as np\n",
    "import random\n",
    "import datetime\n",
    "import re\n",
    "import pickle\n",
    "import os\n",
    "\n",
    "import altair as alt\n",
    "alt.renderers.set_embed_options(theme='dark')\n",
    "\n",
    "import matplotlib as mpl \n",
    "import matplotlib.pyplot as plt\n",
    "from matplotlib_venn import venn3, venn3_circles\n",
    "# mpl.rcParams['text.color'] = 'white'\n",
    "\n",
    "from IPython.display import display\n",
    "pd.options.display.max_columns = None\n",
    "%xmode Plain\n",
    "\n",
    "plot_dir = 'out/signals_data'\n",
    "if not os.path.exists(plot_dir):\n",
    "    os.makedirs(plot_dir)\n",
    "\n",
    "read_eios_from_date = pd.Timestamp(2017, 11, 1, 0)"
   ]
  },
  {
   "cell_type": "markdown",
   "metadata": {},
   "source": [
    "## Signals list\n",
    "\n",
    "It doesn't have indications of risk or severity. The (still experimental? or discountinued?) sheet \"Activity Tracker\" (number of articles read, number of emails received or sent, ...) might be interesting but iz is unclear how it is filed, is not directly relevant and has data only from 1 January 2019 to 1 February 2019.\n",
    "\n",
    "It doesn't have indications of hazard type (infectious, nuclear, ...) either.\n",
    "\n",
    "Idea: distinguish between \"new\" and \"update\" signals."
   ]
  },
  {
   "cell_type": "code",
   "execution_count": 3,
   "metadata": {},
   "outputs": [],
   "source": [
    "signals_table = pd.read_excel('../data/dva_era/DailyLists-20190929-SG.xlsx', \n",
    "                              sheet_name='Signals')"
   ]
  },
  {
   "cell_type": "code",
   "execution_count": null,
   "metadata": {},
   "outputs": [],
   "source": [
    "# Remove trailing empty rows\n",
    "signals_table_corr = signals_table.copy()\n",
    "signals_table_corr = signals_table_corr.loc[signals_table_corr.DATE.notna(),:]\n",
    "\n",
    "# Remove blanks from column names\n",
    "signals_table_corr.columns = signals_table_corr.columns.str.replace(' ', '')\n",
    "\n",
    "# Clean types\n",
    "int_cols = ['ID','DailyDVAList','DailyDG','DailyWHEDAEMM','InEMS','RegionID',\n",
    "            'CountryID','SourceTypeID']\n",
    "select_int_cols = signals_table_corr.columns.isin(int_cols)\n",
    "signals_table_corr.loc[:,select_int_cols] = (\n",
    "    signals_table_corr.loc[:,select_int_cols].astype('Int64')\n",
    ")\n",
    "date_cols = ['DATE','ShowFrom','ShowTo']\n",
    "for col in date_cols:\n",
    "    isnot_date = [(type(dat) is not datetime.datetime) \n",
    "                  & (type(dat) is not pd.Timestamp) \n",
    "                  for dat in signals_table_corr.loc[:,col]]\n",
    "    signals_table_corr.loc[isnot_date,col] = np.nan\n",
    "\n",
    "select_date_cols = signals_table_corr.columns.isin(date_cols)\n",
    "signals_table_corr.loc[:,select_date_cols] = (signals_table_corr\n",
    "                                              .loc[:,select_date_cols]\n",
    "                                              .astype('datetime64[ns]'))\n",
    "\n",
    "str_cols = signals_table_corr.columns[\n",
    "    ~signals_table_corr.columns.isin(int_cols+date_cols)\n",
    "]\n",
    "select_str_cols = signals_table_corr.columns.isin(str_cols)\n",
    "signals_table_corr.loc[:,select_str_cols] = (\n",
    "    signals_table_corr.loc[:,select_str_cols].astype(str)\n",
    ")\n",
    "\n",
    "# Try and remove some disease and country duplicates by setting lower\n",
    "# case and removing spaces\n",
    "signals_table_corr['disease'] = (signals_table_corr['Disease-Condition']\n",
    "                                 .astype(str)\n",
    "                                 .str.lower()\n",
    "                                 .str.replace(' ',''))\n",
    "signals_table_corr['country'] = (signals_table_corr['CountryAffected']\n",
    "                                 .astype(str)\n",
    "                                 .str.lower()\n",
    "                                 .str.replace(' ',''))\n",
    "\n",
    "signals_table_corr.reindex()\n",
    "\n",
    "# Keep only signals after first article in the EIOS dataset\n",
    "signals_table_corr = signals_table_corr.loc[signals_table_corr.DATE >= read_eios_from_date]\n",
    "\n",
    "display(signals_table_corr.tail())"
   ]
  },
  {
   "cell_type": "markdown",
   "metadata": {},
   "source": [
    "### Diseases"
   ]
  },
  {
   "cell_type": "code",
   "execution_count": 5,
   "metadata": {},
   "outputs": [
    {
     "name": "stdout",
     "output_type": "stream",
     "text": [
      "              disease  count\n",
      "0             measles    138\n",
      "1             cholera    132\n",
      "2              dengue     87\n",
      "3         yellowfever     79\n",
      "4  undiagnoseddisease     55\n",
      "5          lassafever     43\n",
      "6             malaria     35\n",
      "7     riftvalleyfever     35\n",
      "8            mers-cov     33\n",
      "9          diphtheria     32\n",
      "number of diseases = 313\n"
     ]
    }
   ],
   "source": [
    "disease_count = signals_table_corr['disease'].value_counts().to_frame() \n",
    "disease_count.reset_index(inplace=True)\n",
    "disease_count.rename(columns = {'index':'disease','disease':'count'}, \n",
    "                     inplace=True)\n",
    "print(disease_count.head(10))\n",
    "print('number of diseases =', disease_count.shape[0])"
   ]
  },
  {
   "cell_type": "code",
   "execution_count": 6,
   "metadata": {},
   "outputs": [
    {
     "data": {
      "application/vnd.vegalite.v3+json": {
       "$schema": "https://vega.github.io/schema/vega-lite/v3.3.0.json",
       "config": {
        "mark": {
         "tooltip": null
        },
        "view": {
         "height": 300,
         "width": 400
        }
       },
       "data": {
        "name": "data-e0615eeca04edd2d4924808e80cd6bba"
       },
       "datasets": {
        "data-e0615eeca04edd2d4924808e80cd6bba": [
         {
          "count": 138,
          "disease": "measles"
         },
         {
          "count": 132,
          "disease": "cholera"
         },
         {
          "count": 87,
          "disease": "dengue"
         },
         {
          "count": 79,
          "disease": "yellowfever"
         },
         {
          "count": 55,
          "disease": "undiagnoseddisease"
         },
         {
          "count": 43,
          "disease": "lassafever"
         },
         {
          "count": 35,
          "disease": "malaria"
         },
         {
          "count": 35,
          "disease": "riftvalleyfever"
         },
         {
          "count": 33,
          "disease": "mers-cov"
         },
         {
          "count": 32,
          "disease": "diphtheria"
         },
         {
          "count": 30,
          "disease": "cchf"
         },
         {
          "count": 26,
          "disease": "monkeypox"
         },
         {
          "count": 22,
          "disease": "chikungunya"
         },
         {
          "count": 21,
          "disease": "hepatitisa"
         },
         {
          "count": 20,
          "disease": "polio"
         },
         {
          "count": 20,
          "disease": "meningitis"
         },
         {
          "count": 19,
          "disease": "anthrax"
         },
         {
          "count": 17,
          "disease": "ebola"
         },
         {
          "count": 16,
          "disease": "typhoidfever"
         },
         {
          "count": 16,
          "disease": "cvdpv2"
         }
        ]
       },
       "encoding": {
        "color": {
         "condition": {
          "selection": {
           "not": "selector001"
          },
          "value": "#1f77b4"
         },
         "value": "#aec7e8"
        },
        "tooltip": [
         {
          "field": "disease",
          "type": "nominal"
         },
         {
          "field": "count",
          "type": "quantitative"
         }
        ],
        "x": {
         "field": "disease",
         "sort": null,
         "type": "nominal"
        },
        "y": {
         "field": "count",
         "type": "quantitative"
        }
       },
       "mark": "bar",
       "selection": {
        "selector001": {
         "fields": [
          "disease"
         ],
         "on": "mouseover",
         "type": "single"
        }
       },
       "title": "top 20 diseases in signals"
      },
      "image/png": "[encoded data removed]",
      "text/plain": [
       "<VegaLite 3 object>\n",
       "\n",
       "If you see this message, it means the renderer has not been properly enabled\n",
       "for the frontend that you are using. For more information, see\n",
       "https://altair-viz.github.io/user_guide/troubleshooting.html\n"
      ]
     },
     "metadata": {
      "application/vnd.vegalite.v3+json": {
       "embed_options": {
        "theme": "dark"
       }
      }
     },
     "output_type": "display_data"
    }
   ],
   "source": [
    "highlight = alt.selection(type = 'single', on = 'mouseover', \n",
    "                          fields = ['disease'])\n",
    "disease_count_plot = alt.Chart(disease_count.iloc[0:20],\n",
    "                               title = 'top 20 diseases in signals').mark_bar().encode(\n",
    "    x = alt.Y('disease', sort = None),\n",
    "    y = 'count',\n",
    "    tooltip = ['disease', 'count'],\n",
    "    color = alt.condition(~highlight, alt.value('#1f77b4'), \n",
    "                          alt.value('#aec7e8'))\n",
    ").add_selection(\n",
    "    highlight\n",
    ")\n",
    "display(disease_count_plot)\n",
    "disease_count_plot.save(plot_dir+'/signals_disease_count.html')"
   ]
  },
  {
   "cell_type": "markdown",
   "metadata": {},
   "source": [
    "### Countries"
   ]
  },
  {
   "cell_type": "code",
   "execution_count": 7,
   "metadata": {},
   "outputs": [
    {
     "name": "stdout",
     "output_type": "stream",
     "text": [
      "                             country  count\n",
      "0                            nigeria     82\n",
      "1                             uganda     63\n",
      "2  democraticrepublicofthecongo(the)     58\n",
      "3                              india     54\n",
      "4                             brazil     49\n",
      "5                           pakistan     42\n",
      "6                              kenya     40\n",
      "7         unitedstatesofamerica(the)     37\n",
      "8                              china     31\n",
      "9                        saudiarabia     27\n",
      "number of countries = 182\n"
     ]
    }
   ],
   "source": [
    "country_count = signals_table_corr['country'].value_counts().to_frame() \n",
    "country_count.reset_index(inplace=True)\n",
    "country_count.rename(columns = {'index':'country', 'country':'count'}, \n",
    "                     inplace=True)\n",
    "print(country_count.head(10))\n",
    "print('number of countries =', country_count.shape[0])"
   ]
  },
  {
   "cell_type": "code",
   "execution_count": 8,
   "metadata": {},
   "outputs": [
    {
     "data": {
      "application/vnd.vegalite.v3+json": {
       "$schema": "https://vega.github.io/schema/vega-lite/v3.3.0.json",
       "config": {
        "mark": {
         "tooltip": null
        },
        "view": {
         "height": 300,
         "width": 400
        }
       },
       "data": {
        "name": "data-34e830bda6947326ca5a5943bed57c75"
       },
       "datasets": {
        "data-34e830bda6947326ca5a5943bed57c75": [
         {
          "count": 82,
          "country": "nigeria"
         },
         {
          "count": 63,
          "country": "uganda"
         },
         {
          "count": 58,
          "country": "democraticrepublicofthecongo(the)"
         },
         {
          "count": 54,
          "country": "india"
         },
         {
          "count": 49,
          "country": "brazil"
         },
         {
          "count": 42,
          "country": "pakistan"
         },
         {
          "count": 40,
          "country": "kenya"
         },
         {
          "count": 37,
          "country": "unitedstatesofamerica(the)"
         },
         {
          "count": 31,
          "country": "china"
         },
         {
          "count": 27,
          "country": "saudiarabia"
         },
         {
          "count": 24,
          "country": "sudan(the)"
         },
         {
          "count": 23,
          "country": "syrianarabrepublic(the)"
         },
         {
          "count": 23,
          "country": "venezuela(bolivarianrepublicof)"
         },
         {
          "count": 23,
          "country": "unitedkingdom"
         },
         {
          "count": 21,
          "country": "afghanistan"
         },
         {
          "count": 20,
          "country": "cameroon"
         },
         {
          "count": 19,
          "country": "liberia"
         },
         {
          "count": 19,
          "country": "france"
         },
         {
          "count": 19,
          "country": "ukraine"
         },
         {
          "count": 18,
          "country": "southsudan"
         }
        ]
       },
       "encoding": {
        "color": {
         "condition": {
          "selection": {
           "not": "selector002"
          },
          "value": "#1f77b4"
         },
         "value": "#aec7e8"
        },
        "tooltip": [
         {
          "field": "country",
          "type": "nominal"
         },
         {
          "field": "count",
          "type": "quantitative"
         }
        ],
        "x": {
         "field": "country",
         "sort": null,
         "type": "nominal"
        },
        "y": {
         "field": "count",
         "type": "quantitative"
        }
       },
       "mark": "bar",
       "selection": {
        "selector002": {
         "fields": [
          "country"
         ],
         "on": "mouseover",
         "type": "single"
        }
       },
       "title": "top 20 countries in signals"
      },
      "image/png": "[encoded data removed]",
      "text/plain": [
       "<VegaLite 3 object>\n",
       "\n",
       "If you see this message, it means the renderer has not been properly enabled\n",
       "for the frontend that you are using. For more information, see\n",
       "https://altair-viz.github.io/user_guide/troubleshooting.html\n"
      ]
     },
     "metadata": {
      "application/vnd.vegalite.v3+json": {
       "embed_options": {
        "theme": "dark"
       }
      }
     },
     "output_type": "display_data"
    }
   ],
   "source": [
    "highlight = alt.selection(type = 'single', on = 'mouseover', \n",
    "                          fields = ['country'])\n",
    "country_count_plot = alt.Chart(country_count.iloc[0:20],\n",
    "                               title = 'top 20 countries in signals').mark_bar().encode(\n",
    "    x = alt.Y('country', sort = None),\n",
    "    y = 'count',\n",
    "    tooltip = ['country', 'count'],\n",
    "    color = alt.condition(~highlight, alt.value('#1f77b4'),\n",
    "                          alt.value('#aec7e8'))\n",
    ").add_selection(\n",
    "    highlight\n",
    ")\n",
    "display(country_count_plot)\n",
    "country_count_plot.save(plot_dir+'/signals_country_count.html')"
   ]
  },
  {
   "cell_type": "markdown",
   "metadata": {},
   "source": [
    "### Dates"
   ]
  },
  {
   "cell_type": "code",
   "execution_count": 9,
   "metadata": {},
   "outputs": [],
   "source": [
    "# day\n",
    "signals_table_corr['DATE_day'] = signals_table_corr['DATE']\n",
    "signals_table_corr.loc[signals_table_corr.DATE.notna(),'DATE_day'] = [\n",
    "    datetime.datetime(dat.year, dat.month, dat.day) \n",
    "    for dat in signals_table_corr.DATE if pd.notna(dat)\n",
    "]\n",
    "signals_day_count = (signals_table_corr.DATE_day\n",
    "                     .loc[signals_table_corr.DATE_day.notna()]\n",
    "                     .value_counts().to_frame())\n",
    "idx_day = pd.date_range(min(signals_day_count.index.values),\n",
    "                        max(signals_day_count.index.values))\n",
    "signals_day_count = signals_day_count.reindex(idx_day, fill_value = 0)\n",
    "signals_day_count.index.name = 'date'\n",
    "signals_day_count.reset_index(inplace=True)\n",
    "signals_day_count.rename(columns = {'date':'date', 'DATE_day':'mult'},\n",
    "                         inplace=True)\n",
    "\n",
    "# week\n",
    "signals_table_corr['DATE_week'] = signals_table_corr['DATE']\n",
    "signals_table_corr.loc[signals_table_corr.DATE.notna(),'DATE_week'] = [\n",
    "    pd.to_datetime(str(dat.year)+'-'+str(dat.week)+'-1',format = '%Y-%W-%w')\n",
    "    for dat in signals_table_corr.DATE if pd.notna(dat)\n",
    "]\n",
    "signals_week_count = signals_table_corr.DATE_week.value_counts().to_frame() \n",
    "idx_week = pd.date_range(min(signals_week_count.index.values), \n",
    "                         max(signals_week_count.index.values), \n",
    "                         freq='7D')\n",
    "signals_week_count = signals_week_count.reindex(idx_week, fill_value=0)\n",
    "signals_week_count.index.name = 'date'\n",
    "signals_week_count.reset_index(inplace=True)\n",
    "signals_week_count.rename(columns = {'date':'date', 'DATE_week':'mult'},\n",
    "                          inplace=True)\n",
    "\n",
    "# month\n",
    "signals_table_corr['DATE_month'] = signals_table_corr['DATE']\n",
    "signals_table_corr.loc[signals_table_corr.DATE.notna(),'DATE_month'] = [\n",
    "    datetime.datetime(dat.year, dat.month, 1) \n",
    "    for dat in signals_table_corr.DATE if pd.notna(dat)\n",
    "]\n",
    "signals_month_count = signals_table_corr.DATE_month.value_counts().to_frame() \n",
    "idx_month = pd.date_range(min(signals_month_count.index.values),\n",
    "                          max(signals_month_count.index.values),\n",
    "                          freq='MS')\n",
    "signals_month_count = signals_month_count.reindex(idx_month, fill_value=0)\n",
    "signals_month_count.index.name = 'date'\n",
    "signals_month_count.reset_index(inplace=True)\n",
    "signals_month_count.rename(columns = {'date':'date', 'DATE_month':'mult'},\n",
    "                           inplace=True)"
   ]
  },
  {
   "cell_type": "code",
   "execution_count": 10,
   "metadata": {},
   "outputs": [],
   "source": [
    "# week and disease\n",
    "most_common_diseases = disease_count.head(10).disease\n",
    "signals_week_disease_count = (\n",
    "    signals_table_corr.loc[\n",
    "        signals_table_corr.disease.isin(most_common_diseases) \n",
    "        & signals_table_corr.DATE_week.notnull(),\n",
    "        ['DATE_week','disease']]\n",
    "    .copy()\n",
    ")\n",
    "signals_week_disease_count.set_index(['DATE_week','disease'], inplace=True)\n",
    "signals_week_disease_count = (signals_week_disease_count\n",
    "                              .groupby(['DATE_week','disease'])\n",
    "                              .size())\n",
    "\n",
    "idx_wd_date = [i[0] for i in signals_week_disease_count.index]\n",
    "idx_wd_date = pd.date_range(min(idx_wd_date), max(idx_wd_date), freq='7D')\n",
    "\n",
    "signals_week_disease_count = (\n",
    "    signals_week_disease_count.reindex(\n",
    "        pd.MultiIndex.from_product((idx_wd_date, most_common_diseases)),\n",
    "        fill_value = 0)\n",
    ")\n",
    "signals_week_disease_count = signals_week_disease_count.to_frame()\n",
    "signals_week_disease_count.index.names = ['date','disease']\n",
    "signals_week_disease_count.columns = ['count']\n",
    "signals_week_disease_count.reset_index(inplace = True)"
   ]
  },
  {
   "cell_type": "code",
   "execution_count": 11,
   "metadata": {},
   "outputs": [],
   "source": [
    "# week and country\n",
    "most_common_countries = country_count.head(10).country\n",
    "signals_week_country_count = (\n",
    "    signals_table_corr.loc[\n",
    "        signals_table_corr.country.isin(most_common_countries) \n",
    "        & signals_table_corr.DATE_week.notnull(),\n",
    "        ['DATE_week','country']]\n",
    "    .copy()\n",
    ")\n",
    "signals_week_country_count.set_index(['DATE_week','country'], inplace=True)\n",
    "signals_week_country_count = (signals_week_country_count\n",
    "                              .groupby(['DATE_week','country'])\n",
    "                              .size())\n",
    "\n",
    "idx_wd_date = [i[0] for i in signals_week_country_count.index]\n",
    "idx_wd_date = pd.date_range(min(idx_wd_date), max(idx_wd_date), freq='7D')\n",
    "\n",
    "signals_week_country_count = (\n",
    "    signals_week_country_count.reindex(\n",
    "        pd.MultiIndex.from_product((idx_wd_date, most_common_countries)),\n",
    "        fill_value = 0)\n",
    ")\n",
    "signals_week_country_count = signals_week_country_count.to_frame()\n",
    "signals_week_country_count.index.names = ['date','country']\n",
    "signals_week_country_count.columns = ['count']\n",
    "signals_week_country_count.reset_index(inplace = True)"
   ]
  },
  {
   "cell_type": "code",
   "execution_count": 12,
   "metadata": {},
   "outputs": [
    {
     "data": {
      "application/vnd.vegalite.v3+json": {
       "$schema": "https://vega.github.io/schema/vega-lite/v3.3.0.json",
       "config": {
        "mark": {
         "tooltip": null
        },
        "view": {
         "height": 300,
         "width": 400
        }
       },
       "data": {
        "name": "data-d344b6586c010aec13979b705aae5d32"
       },
       "datasets": {
        "data-d344b6586c010aec13979b705aae5d32": [
         {
          "date": "2017-11-01T00:00:00",
          "mult": 7
         },
         {
          "date": "2017-11-02T00:00:00",
          "mult": 5
         },
         {
          "date": "2017-11-03T00:00:00",
          "mult": 10
         },
         {
          "date": "2017-11-04T00:00:00",
          "mult": 0
         },
         {
          "date": "2017-11-05T00:00:00",
          "mult": 5
         },
         {
          "date": "2017-11-06T00:00:00",
          "mult": 14
         },
         {
          "date": "2017-11-07T00:00:00",
          "mult": 4
         },
         {
          "date": "2017-11-08T00:00:00",
          "mult": 9
         },
         {
          "date": "2017-11-09T00:00:00",
          "mult": 11
         },
         {
          "date": "2017-11-10T00:00:00",
          "mult": 8
         },
         {
          "date": "2017-11-11T00:00:00",
          "mult": 0
         },
         {
          "date": "2017-11-12T00:00:00",
          "mult": 1
         },
         {
          "date": "2017-11-13T00:00:00",
          "mult": 3
         },
         {
          "date": "2017-11-14T00:00:00",
          "mult": 13
         },
         {
          "date": "2017-11-15T00:00:00",
          "mult": 14
         },
         {
          "date": "2017-11-16T00:00:00",
          "mult": 11
         },
         {
          "date": "2017-11-17T00:00:00",
          "mult": 8
         },
         {
          "date": "2017-11-18T00:00:00",
          "mult": 0
         },
         {
          "date": "2017-11-19T00:00:00",
          "mult": 0
         },
         {
          "date": "2017-11-20T00:00:00",
          "mult": 15
         },
         {
          "date": "2017-11-21T00:00:00",
          "mult": 10
         },
         {
          "date": "2017-11-22T00:00:00",
          "mult": 6
         },
         {
          "date": "2017-11-23T00:00:00",
          "mult": 2
         },
         {
          "date": "2017-11-24T00:00:00",
          "mult": 5
         },
         {
          "date": "2017-11-25T00:00:00",
          "mult": 0
         },
         {
          "date": "2017-11-26T00:00:00",
          "mult": 2
         },
         {
          "date": "2017-11-27T00:00:00",
          "mult": 7
         },
         {
          "date": "2017-11-28T00:00:00",
          "mult": 3
         },
         {
          "date": "2017-11-29T00:00:00",
          "mult": 4
         },
         {
          "date": "2017-11-30T00:00:00",
          "mult": 8
         },
         {
          "date": "2017-12-01T00:00:00",
          "mult": 2
         },
         {
          "date": "2017-12-02T00:00:00",
          "mult": 0
         },
         {
          "date": "2017-12-03T00:00:00",
          "mult": 0
         },
         {
          "date": "2017-12-04T00:00:00",
          "mult": 7
         },
         {
          "date": "2017-12-05T00:00:00",
          "mult": 3
         },
         {
          "date": "2017-12-06T00:00:00",
          "mult": 2
         },
         {
          "date": "2017-12-07T00:00:00",
          "mult": 4
         },
         {
          "date": "2017-12-08T00:00:00",
          "mult": 2
         },
         {
          "date": "2017-12-09T00:00:00",
          "mult": 0
         },
         {
          "date": "2017-12-10T00:00:00",
          "mult": 0
         },
         {
          "date": "2017-12-11T00:00:00",
          "mult": 4
         },
         {
          "date": "2017-12-12T00:00:00",
          "mult": 4
         },
         {
          "date": "2017-12-13T00:00:00",
          "mult": 7
         },
         {
          "date": "2017-12-14T00:00:00",
          "mult": 5
         },
         {
          "date": "2017-12-15T00:00:00",
          "mult": 3
         },
         {
          "date": "2017-12-16T00:00:00",
          "mult": 0
         },
         {
          "date": "2017-12-17T00:00:00",
          "mult": 0
         },
         {
          "date": "2017-12-18T00:00:00",
          "mult": 3
         },
         {
          "date": "2017-12-19T00:00:00",
          "mult": 4
         },
         {
          "date": "2017-12-20T00:00:00",
          "mult": 3
         },
         {
          "date": "2017-12-21T00:00:00",
          "mult": 3
         },
         {
          "date": "2017-12-22T00:00:00",
          "mult": 0
         },
         {
          "date": "2017-12-23T00:00:00",
          "mult": 0
         },
         {
          "date": "2017-12-24T00:00:00",
          "mult": 0
         },
         {
          "date": "2017-12-25T00:00:00",
          "mult": 2
         },
         {
          "date": "2017-12-26T00:00:00",
          "mult": 0
         },
         {
          "date": "2017-12-27T00:00:00",
          "mult": 3
         },
         {
          "date": "2017-12-28T00:00:00",
          "mult": 0
         },
         {
          "date": "2017-12-29T00:00:00",
          "mult": 0
         },
         {
          "date": "2017-12-30T00:00:00",
          "mult": 0
         },
         {
          "date": "2017-12-31T00:00:00",
          "mult": 0
         },
         {
          "date": "2018-01-01T00:00:00",
          "mult": 0
         },
         {
          "date": "2018-01-02T00:00:00",
          "mult": 5
         },
         {
          "date": "2018-01-03T00:00:00",
          "mult": 6
         },
         {
          "date": "2018-01-04T00:00:00",
          "mult": 1
         },
         {
          "date": "2018-01-05T00:00:00",
          "mult": 1
         },
         {
          "date": "2018-01-06T00:00:00",
          "mult": 0
         },
         {
          "date": "2018-01-07T00:00:00",
          "mult": 0
         },
         {
          "date": "2018-01-08T00:00:00",
          "mult": 6
         },
         {
          "date": "2018-01-09T00:00:00",
          "mult": 3
         },
         {
          "date": "2018-01-10T00:00:00",
          "mult": 11
         },
         {
          "date": "2018-01-11T00:00:00",
          "mult": 9
         },
         {
          "date": "2018-01-12T00:00:00",
          "mult": 4
         },
         {
          "date": "2018-01-13T00:00:00",
          "mult": 5
         },
         {
          "date": "2018-01-14T00:00:00",
          "mult": 2
         },
         {
          "date": "2018-01-15T00:00:00",
          "mult": 10
         },
         {
          "date": "2018-01-16T00:00:00",
          "mult": 6
         },
         {
          "date": "2018-01-17T00:00:00",
          "mult": 5
         },
         {
          "date": "2018-01-18T00:00:00",
          "mult": 5
         },
         {
          "date": "2018-01-19T00:00:00",
          "mult": 4
         },
         {
          "date": "2018-01-20T00:00:00",
          "mult": 0
         },
         {
          "date": "2018-01-21T00:00:00",
          "mult": 6
         },
         {
          "date": "2018-01-22T00:00:00",
          "mult": 8
         },
         {
          "date": "2018-01-23T00:00:00",
          "mult": 5
         },
         {
          "date": "2018-01-24T00:00:00",
          "mult": 4
         },
         {
          "date": "2018-01-25T00:00:00",
          "mult": 2
         },
         {
          "date": "2018-01-26T00:00:00",
          "mult": 5
         },
         {
          "date": "2018-01-27T00:00:00",
          "mult": 1
         },
         {
          "date": "2018-01-28T00:00:00",
          "mult": 3
         },
         {
          "date": "2018-01-29T00:00:00",
          "mult": 3
         },
         {
          "date": "2018-01-30T00:00:00",
          "mult": 3
         },
         {
          "date": "2018-01-31T00:00:00",
          "mult": 4
         },
         {
          "date": "2018-02-01T00:00:00",
          "mult": 4
         },
         {
          "date": "2018-02-02T00:00:00",
          "mult": 0
         },
         {
          "date": "2018-02-03T00:00:00",
          "mult": 0
         },
         {
          "date": "2018-02-04T00:00:00",
          "mult": 0
         },
         {
          "date": "2018-02-05T00:00:00",
          "mult": 8
         },
         {
          "date": "2018-02-06T00:00:00",
          "mult": 10
         },
         {
          "date": "2018-02-07T00:00:00",
          "mult": 7
         },
         {
          "date": "2018-02-08T00:00:00",
          "mult": 3
         },
         {
          "date": "2018-02-09T00:00:00",
          "mult": 3
         },
         {
          "date": "2018-02-10T00:00:00",
          "mult": 0
         },
         {
          "date": "2018-02-11T00:00:00",
          "mult": 0
         },
         {
          "date": "2018-02-12T00:00:00",
          "mult": 4
         },
         {
          "date": "2018-02-13T00:00:00",
          "mult": 1
         },
         {
          "date": "2018-02-14T00:00:00",
          "mult": 3
         },
         {
          "date": "2018-02-15T00:00:00",
          "mult": 3
         },
         {
          "date": "2018-02-16T00:00:00",
          "mult": 3
         },
         {
          "date": "2018-02-17T00:00:00",
          "mult": 0
         },
         {
          "date": "2018-02-18T00:00:00",
          "mult": 0
         },
         {
          "date": "2018-02-19T00:00:00",
          "mult": 4
         },
         {
          "date": "2018-02-20T00:00:00",
          "mult": 2
         },
         {
          "date": "2018-02-21T00:00:00",
          "mult": 3
         },
         {
          "date": "2018-02-22T00:00:00",
          "mult": 2
         },
         {
          "date": "2018-02-23T00:00:00",
          "mult": 2
         },
         {
          "date": "2018-02-24T00:00:00",
          "mult": 0
         },
         {
          "date": "2018-02-25T00:00:00",
          "mult": 0
         },
         {
          "date": "2018-02-26T00:00:00",
          "mult": 5
         },
         {
          "date": "2018-02-27T00:00:00",
          "mult": 1
         },
         {
          "date": "2018-02-28T00:00:00",
          "mult": 5
         },
         {
          "date": "2018-03-01T00:00:00",
          "mult": 2
         },
         {
          "date": "2018-03-02T00:00:00",
          "mult": 1
         },
         {
          "date": "2018-03-03T00:00:00",
          "mult": 0
         },
         {
          "date": "2018-03-04T00:00:00",
          "mult": 1
         },
         {
          "date": "2018-03-05T00:00:00",
          "mult": 6
         },
         {
          "date": "2018-03-06T00:00:00",
          "mult": 4
         },
         {
          "date": "2018-03-07T00:00:00",
          "mult": 6
         },
         {
          "date": "2018-03-08T00:00:00",
          "mult": 4
         },
         {
          "date": "2018-03-09T00:00:00",
          "mult": 2
         },
         {
          "date": "2018-03-10T00:00:00",
          "mult": 0
         },
         {
          "date": "2018-03-11T00:00:00",
          "mult": 3
         },
         {
          "date": "2018-03-12T00:00:00",
          "mult": 3
         },
         {
          "date": "2018-03-13T00:00:00",
          "mult": 2
         },
         {
          "date": "2018-03-14T00:00:00",
          "mult": 2
         },
         {
          "date": "2018-03-15T00:00:00",
          "mult": 4
         },
         {
          "date": "2018-03-16T00:00:00",
          "mult": 4
         },
         {
          "date": "2018-03-17T00:00:00",
          "mult": 0
         },
         {
          "date": "2018-03-18T00:00:00",
          "mult": 0
         },
         {
          "date": "2018-03-19T00:00:00",
          "mult": 4
         },
         {
          "date": "2018-03-20T00:00:00",
          "mult": 3
         },
         {
          "date": "2018-03-21T00:00:00",
          "mult": 3
         },
         {
          "date": "2018-03-22T00:00:00",
          "mult": 3
         },
         {
          "date": "2018-03-23T00:00:00",
          "mult": 1
         },
         {
          "date": "2018-03-24T00:00:00",
          "mult": 0
         },
         {
          "date": "2018-03-25T00:00:00",
          "mult": 0
         },
         {
          "date": "2018-03-26T00:00:00",
          "mult": 4
         },
         {
          "date": "2018-03-27T00:00:00",
          "mult": 7
         },
         {
          "date": "2018-03-28T00:00:00",
          "mult": 4
         },
         {
          "date": "2018-03-29T00:00:00",
          "mult": 1
         },
         {
          "date": "2018-03-30T00:00:00",
          "mult": 0
         },
         {
          "date": "2018-03-31T00:00:00",
          "mult": 0
         },
         {
          "date": "2018-04-01T00:00:00",
          "mult": 0
         },
         {
          "date": "2018-04-02T00:00:00",
          "mult": 0
         },
         {
          "date": "2018-04-03T00:00:00",
          "mult": 9
         },
         {
          "date": "2018-04-04T00:00:00",
          "mult": 6
         },
         {
          "date": "2018-04-05T00:00:00",
          "mult": 0
         },
         {
          "date": "2018-04-06T00:00:00",
          "mult": 2
         },
         {
          "date": "2018-04-07T00:00:00",
          "mult": 0
         },
         {
          "date": "2018-04-08T00:00:00",
          "mult": 0
         },
         {
          "date": "2018-04-09T00:00:00",
          "mult": 6
         },
         {
          "date": "2018-04-10T00:00:00",
          "mult": 1
         },
         {
          "date": "2018-04-11T00:00:00",
          "mult": 2
         },
         {
          "date": "2018-04-12T00:00:00",
          "mult": 2
         },
         {
          "date": "2018-04-13T00:00:00",
          "mult": 2
         },
         {
          "date": "2018-04-14T00:00:00",
          "mult": 0
         },
         {
          "date": "2018-04-15T00:00:00",
          "mult": 0
         },
         {
          "date": "2018-04-16T00:00:00",
          "mult": 5
         },
         {
          "date": "2018-04-17T00:00:00",
          "mult": 4
         },
         {
          "date": "2018-04-18T00:00:00",
          "mult": 3
         },
         {
          "date": "2018-04-19T00:00:00",
          "mult": 6
         },
         {
          "date": "2018-04-20T00:00:00",
          "mult": 4
         },
         {
          "date": "2018-04-21T00:00:00",
          "mult": 0
         },
         {
          "date": "2018-04-22T00:00:00",
          "mult": 3
         },
         {
          "date": "2018-04-23T00:00:00",
          "mult": 2
         },
         {
          "date": "2018-04-24T00:00:00",
          "mult": 2
         },
         {
          "date": "2018-04-25T00:00:00",
          "mult": 5
         },
         {
          "date": "2018-04-26T00:00:00",
          "mult": 5
         },
         {
          "date": "2018-04-27T00:00:00",
          "mult": 5
         },
         {
          "date": "2018-04-28T00:00:00",
          "mult": 1
         },
         {
          "date": "2018-04-29T00:00:00",
          "mult": 1
         },
         {
          "date": "2018-04-30T00:00:00",
          "mult": 5
         },
         {
          "date": "2018-05-01T00:00:00",
          "mult": 4
         },
         {
          "date": "2018-05-02T00:00:00",
          "mult": 2
         },
         {
          "date": "2018-05-03T00:00:00",
          "mult": 2
         },
         {
          "date": "2018-05-04T00:00:00",
          "mult": 4
         },
         {
          "date": "2018-05-05T00:00:00",
          "mult": 0
         },
         {
          "date": "2018-05-06T00:00:00",
          "mult": 6
         },
         {
          "date": "2018-05-07T00:00:00",
          "mult": 6
         },
         {
          "date": "2018-05-08T00:00:00",
          "mult": 3
         },
         {
          "date": "2018-05-09T00:00:00",
          "mult": 5
         },
         {
          "date": "2018-05-10T00:00:00",
          "mult": 4
         },
         {
          "date": "2018-05-11T00:00:00",
          "mult": 4
         },
         {
          "date": "2018-05-12T00:00:00",
          "mult": 0
         },
         {
          "date": "2018-05-13T00:00:00",
          "mult": 0
         },
         {
          "date": "2018-05-14T00:00:00",
          "mult": 4
         },
         {
          "date": "2018-05-15T00:00:00",
          "mult": 4
         },
         {
          "date": "2018-05-16T00:00:00",
          "mult": 11
         },
         {
          "date": "2018-05-17T00:00:00",
          "mult": 7
         },
         {
          "date": "2018-05-18T00:00:00",
          "mult": 2
         },
         {
          "date": "2018-05-19T00:00:00",
          "mult": 0
         },
         {
          "date": "2018-05-20T00:00:00",
          "mult": 1
         },
         {
          "date": "2018-05-21T00:00:00",
          "mult": 7
         },
         {
          "date": "2018-05-22T00:00:00",
          "mult": 4
         },
         {
          "date": "2018-05-23T00:00:00",
          "mult": 7
         },
         {
          "date": "2018-05-24T00:00:00",
          "mult": 5
         },
         {
          "date": "2018-05-25T00:00:00",
          "mult": 6
         },
         {
          "date": "2018-05-26T00:00:00",
          "mult": 0
         },
         {
          "date": "2018-05-27T00:00:00",
          "mult": 0
         },
         {
          "date": "2018-05-28T00:00:00",
          "mult": 3
         },
         {
          "date": "2018-05-29T00:00:00",
          "mult": 4
         },
         {
          "date": "2018-05-30T00:00:00",
          "mult": 3
         },
         {
          "date": "2018-05-31T00:00:00",
          "mult": 4
         },
         {
          "date": "2018-06-01T00:00:00",
          "mult": 2
         },
         {
          "date": "2018-06-02T00:00:00",
          "mult": 0
         },
         {
          "date": "2018-06-03T00:00:00",
          "mult": 3
         },
         {
          "date": "2018-06-04T00:00:00",
          "mult": 8
         },
         {
          "date": "2018-06-05T00:00:00",
          "mult": 12
         },
         {
          "date": "2018-06-06T00:00:00",
          "mult": 4
         },
         {
          "date": "2018-06-07T00:00:00",
          "mult": 5
         },
         {
          "date": "2018-06-08T00:00:00",
          "mult": 3
         },
         {
          "date": "2018-06-09T00:00:00",
          "mult": 0
         },
         {
          "date": "2018-06-10T00:00:00",
          "mult": 3
         },
         {
          "date": "2018-06-11T00:00:00",
          "mult": 3
         },
         {
          "date": "2018-06-12T00:00:00",
          "mult": 2
         },
         {
          "date": "2018-06-13T00:00:00",
          "mult": 5
         },
         {
          "date": "2018-06-14T00:00:00",
          "mult": 4
         },
         {
          "date": "2018-06-15T00:00:00",
          "mult": 3
         },
         {
          "date": "2018-06-16T00:00:00",
          "mult": 3
         },
         {
          "date": "2018-06-17T00:00:00",
          "mult": 0
         },
         {
          "date": "2018-06-18T00:00:00",
          "mult": 0
         },
         {
          "date": "2018-06-19T00:00:00",
          "mult": 1
         },
         {
          "date": "2018-06-20T00:00:00",
          "mult": 2
         },
         {
          "date": "2018-06-21T00:00:00",
          "mult": 2
         },
         {
          "date": "2018-06-22T00:00:00",
          "mult": 3
         },
         {
          "date": "2018-06-23T00:00:00",
          "mult": 1
         },
         {
          "date": "2018-06-24T00:00:00",
          "mult": 0
         },
         {
          "date": "2018-06-25T00:00:00",
          "mult": 5
         },
         {
          "date": "2018-06-26T00:00:00",
          "mult": 3
         },
         {
          "date": "2018-06-27T00:00:00",
          "mult": 1
         },
         {
          "date": "2018-06-28T00:00:00",
          "mult": 4
         },
         {
          "date": "2018-06-29T00:00:00",
          "mult": 2
         },
         {
          "date": "2018-06-30T00:00:00",
          "mult": 4
         },
         {
          "date": "2018-07-01T00:00:00",
          "mult": 2
         },
         {
          "date": "2018-07-02T00:00:00",
          "mult": 2
         },
         {
          "date": "2018-07-03T00:00:00",
          "mult": 3
         },
         {
          "date": "2018-07-04T00:00:00",
          "mult": 4
         },
         {
          "date": "2018-07-05T00:00:00",
          "mult": 4
         },
         {
          "date": "2018-07-06T00:00:00",
          "mult": 1
         },
         {
          "date": "2018-07-07T00:00:00",
          "mult": 0
         },
         {
          "date": "2018-07-08T00:00:00",
          "mult": 5
         },
         {
          "date": "2018-07-09T00:00:00",
          "mult": 5
         },
         {
          "date": "2018-07-10T00:00:00",
          "mult": 1
         },
         {
          "date": "2018-07-11T00:00:00",
          "mult": 3
         },
         {
          "date": "2018-07-12T00:00:00",
          "mult": 3
         },
         {
          "date": "2018-07-13T00:00:00",
          "mult": 1
         },
         {
          "date": "2018-07-14T00:00:00",
          "mult": 2
         },
         {
          "date": "2018-07-15T00:00:00",
          "mult": 1
         },
         {
          "date": "2018-07-16T00:00:00",
          "mult": 1
         },
         {
          "date": "2018-07-17T00:00:00",
          "mult": 3
         },
         {
          "date": "2018-07-18T00:00:00",
          "mult": 2
         },
         {
          "date": "2018-07-19T00:00:00",
          "mult": 2
         },
         {
          "date": "2018-07-20T00:00:00",
          "mult": 2
         },
         {
          "date": "2018-07-21T00:00:00",
          "mult": 0
         },
         {
          "date": "2018-07-22T00:00:00",
          "mult": 1
         },
         {
          "date": "2018-07-23T00:00:00",
          "mult": 2
         },
         {
          "date": "2018-07-24T00:00:00",
          "mult": 1
         },
         {
          "date": "2018-07-25T00:00:00",
          "mult": 4
         },
         {
          "date": "2018-07-26T00:00:00",
          "mult": 1
         },
         {
          "date": "2018-07-27T00:00:00",
          "mult": 3
         },
         {
          "date": "2018-07-28T00:00:00",
          "mult": 0
         },
         {
          "date": "2018-07-29T00:00:00",
          "mult": 0
         },
         {
          "date": "2018-07-30T00:00:00",
          "mult": 1
         },
         {
          "date": "2018-07-31T00:00:00",
          "mult": 4
         },
         {
          "date": "2018-08-01T00:00:00",
          "mult": 2
         },
         {
          "date": "2018-08-02T00:00:00",
          "mult": 1
         },
         {
          "date": "2018-08-03T00:00:00",
          "mult": 3
         },
         {
          "date": "2018-08-04T00:00:00",
          "mult": 1
         },
         {
          "date": "2018-08-05T00:00:00",
          "mult": 2
         },
         {
          "date": "2018-08-06T00:00:00",
          "mult": 5
         },
         {
          "date": "2018-08-07T00:00:00",
          "mult": 3
         },
         {
          "date": "2018-08-08T00:00:00",
          "mult": 3
         },
         {
          "date": "2018-08-09T00:00:00",
          "mult": 3
         },
         {
          "date": "2018-08-10T00:00:00",
          "mult": 4
         },
         {
          "date": "2018-08-11T00:00:00",
          "mult": 0
         },
         {
          "date": "2018-08-12T00:00:00",
          "mult": 2
         },
         {
          "date": "2018-08-13T00:00:00",
          "mult": 0
         },
         {
          "date": "2018-08-14T00:00:00",
          "mult": 1
         },
         {
          "date": "2018-08-15T00:00:00",
          "mult": 6
         },
         {
          "date": "2018-08-16T00:00:00",
          "mult": 0
         },
         {
          "date": "2018-08-17T00:00:00",
          "mult": 4
         },
         {
          "date": "2018-08-18T00:00:00",
          "mult": 0
         },
         {
          "date": "2018-08-19T00:00:00",
          "mult": 2
         },
         {
          "date": "2018-08-20T00:00:00",
          "mult": 2
         },
         {
          "date": "2018-08-21T00:00:00",
          "mult": 1
         },
         {
          "date": "2018-08-22T00:00:00",
          "mult": 4
         },
         {
          "date": "2018-08-23T00:00:00",
          "mult": 1
         },
         {
          "date": "2018-08-24T00:00:00",
          "mult": 3
         },
         {
          "date": "2018-08-25T00:00:00",
          "mult": 1
         },
         {
          "date": "2018-08-26T00:00:00",
          "mult": 0
         },
         {
          "date": "2018-08-27T00:00:00",
          "mult": 1
         },
         {
          "date": "2018-08-28T00:00:00",
          "mult": 2
         },
         {
          "date": "2018-08-29T00:00:00",
          "mult": 1
         },
         {
          "date": "2018-08-30T00:00:00",
          "mult": 3
         },
         {
          "date": "2018-08-31T00:00:00",
          "mult": 4
         },
         {
          "date": "2018-09-01T00:00:00",
          "mult": 0
         },
         {
          "date": "2018-09-02T00:00:00",
          "mult": 0
         },
         {
          "date": "2018-09-03T00:00:00",
          "mult": 3
         },
         {
          "date": "2018-09-04T00:00:00",
          "mult": 0
         },
         {
          "date": "2018-09-05T00:00:00",
          "mult": 1
         },
         {
          "date": "2018-09-06T00:00:00",
          "mult": 2
         },
         {
          "date": "2018-09-07T00:00:00",
          "mult": 4
         },
         {
          "date": "2018-09-08T00:00:00",
          "mult": 0
         },
         {
          "date": "2018-09-09T00:00:00",
          "mult": 2
         },
         {
          "date": "2018-09-10T00:00:00",
          "mult": 1
         },
         {
          "date": "2018-09-11T00:00:00",
          "mult": 3
         },
         {
          "date": "2018-09-12T00:00:00",
          "mult": 1
         },
         {
          "date": "2018-09-13T00:00:00",
          "mult": 4
         },
         {
          "date": "2018-09-14T00:00:00",
          "mult": 1
         },
         {
          "date": "2018-09-15T00:00:00",
          "mult": 0
         },
         {
          "date": "2018-09-16T00:00:00",
          "mult": 0
         },
         {
          "date": "2018-09-17T00:00:00",
          "mult": 1
         },
         {
          "date": "2018-09-18T00:00:00",
          "mult": 1
         },
         {
          "date": "2018-09-19T00:00:00",
          "mult": 0
         },
         {
          "date": "2018-09-20T00:00:00",
          "mult": 1
         },
         {
          "date": "2018-09-21T00:00:00",
          "mult": 5
         },
         {
          "date": "2018-09-22T00:00:00",
          "mult": 0
         },
         {
          "date": "2018-09-23T00:00:00",
          "mult": 0
         },
         {
          "date": "2018-09-24T00:00:00",
          "mult": 1
         },
         {
          "date": "2018-09-25T00:00:00",
          "mult": 0
         },
         {
          "date": "2018-09-26T00:00:00",
          "mult": 4
         },
         {
          "date": "2018-09-27T00:00:00",
          "mult": 2
         },
         {
          "date": "2018-09-28T00:00:00",
          "mult": 2
         },
         {
          "date": "2018-09-29T00:00:00",
          "mult": 3
         },
         {
          "date": "2018-09-30T00:00:00",
          "mult": 2
         },
         {
          "date": "2018-10-01T00:00:00",
          "mult": 5
         },
         {
          "date": "2018-10-02T00:00:00",
          "mult": 0
         },
         {
          "date": "2018-10-03T00:00:00",
          "mult": 2
         },
         {
          "date": "2018-10-04T00:00:00",
          "mult": 2
         },
         {
          "date": "2018-10-05T00:00:00",
          "mult": 3
         },
         {
          "date": "2018-10-06T00:00:00",
          "mult": 0
         },
         {
          "date": "2018-10-07T00:00:00",
          "mult": 0
         },
         {
          "date": "2018-10-08T00:00:00",
          "mult": 4
         },
         {
          "date": "2018-10-09T00:00:00",
          "mult": 3
         },
         {
          "date": "2018-10-10T00:00:00",
          "mult": 2
         },
         {
          "date": "2018-10-11T00:00:00",
          "mult": 0
         },
         {
          "date": "2018-10-12T00:00:00",
          "mult": 2
         },
         {
          "date": "2018-10-13T00:00:00",
          "mult": 3
         },
         {
          "date": "2018-10-14T00:00:00",
          "mult": 0
         },
         {
          "date": "2018-10-15T00:00:00",
          "mult": 2
         },
         {
          "date": "2018-10-16T00:00:00",
          "mult": 1
         },
         {
          "date": "2018-10-17T00:00:00",
          "mult": 1
         },
         {
          "date": "2018-10-18T00:00:00",
          "mult": 0
         },
         {
          "date": "2018-10-19T00:00:00",
          "mult": 1
         },
         {
          "date": "2018-10-20T00:00:00",
          "mult": 0
         },
         {
          "date": "2018-10-21T00:00:00",
          "mult": 0
         },
         {
          "date": "2018-10-22T00:00:00",
          "mult": 2
         },
         {
          "date": "2018-10-23T00:00:00",
          "mult": 1
         },
         {
          "date": "2018-10-24T00:00:00",
          "mult": 1
         },
         {
          "date": "2018-10-25T00:00:00",
          "mult": 0
         },
         {
          "date": "2018-10-26T00:00:00",
          "mult": 2
         },
         {
          "date": "2018-10-27T00:00:00",
          "mult": 0
         },
         {
          "date": "2018-10-28T00:00:00",
          "mult": 2
         },
         {
          "date": "2018-10-29T00:00:00",
          "mult": 2
         },
         {
          "date": "2018-10-30T00:00:00",
          "mult": 0
         },
         {
          "date": "2018-10-31T00:00:00",
          "mult": 0
         },
         {
          "date": "2018-11-01T00:00:00",
          "mult": 1
         },
         {
          "date": "2018-11-02T00:00:00",
          "mult": 1
         },
         {
          "date": "2018-11-03T00:00:00",
          "mult": 0
         },
         {
          "date": "2018-11-04T00:00:00",
          "mult": 0
         },
         {
          "date": "2018-11-05T00:00:00",
          "mult": 5
         },
         {
          "date": "2018-11-06T00:00:00",
          "mult": 0
         },
         {
          "date": "2018-11-07T00:00:00",
          "mult": 1
         },
         {
          "date": "2018-11-08T00:00:00",
          "mult": 1
         },
         {
          "date": "2018-11-09T00:00:00",
          "mult": 1
         },
         {
          "date": "2018-11-10T00:00:00",
          "mult": 0
         },
         {
          "date": "2018-11-11T00:00:00",
          "mult": 1
         },
         {
          "date": "2018-11-12T00:00:00",
          "mult": 1
         },
         {
          "date": "2018-11-13T00:00:00",
          "mult": 1
         },
         {
          "date": "2018-11-14T00:00:00",
          "mult": 1
         },
         {
          "date": "2018-11-15T00:00:00",
          "mult": 3
         },
         {
          "date": "2018-11-16T00:00:00",
          "mult": 3
         },
         {
          "date": "2018-11-17T00:00:00",
          "mult": 0
         },
         {
          "date": "2018-11-18T00:00:00",
          "mult": 0
         },
         {
          "date": "2018-11-19T00:00:00",
          "mult": 1
         },
         {
          "date": "2018-11-20T00:00:00",
          "mult": 2
         },
         {
          "date": "2018-11-21T00:00:00",
          "mult": 0
         },
         {
          "date": "2018-11-22T00:00:00",
          "mult": 2
         },
         {
          "date": "2018-11-23T00:00:00",
          "mult": 2
         },
         {
          "date": "2018-11-24T00:00:00",
          "mult": 0
         },
         {
          "date": "2018-11-25T00:00:00",
          "mult": 3
         },
         {
          "date": "2018-11-26T00:00:00",
          "mult": 1
         },
         {
          "date": "2018-11-27T00:00:00",
          "mult": 0
         },
         {
          "date": "2018-11-28T00:00:00",
          "mult": 1
         },
         {
          "date": "2018-11-29T00:00:00",
          "mult": 1
         },
         {
          "date": "2018-11-30T00:00:00",
          "mult": 3
         },
         {
          "date": "2018-12-01T00:00:00",
          "mult": 0
         },
         {
          "date": "2018-12-02T00:00:00",
          "mult": 0
         },
         {
          "date": "2018-12-03T00:00:00",
          "mult": 0
         },
         {
          "date": "2018-12-04T00:00:00",
          "mult": 0
         },
         {
          "date": "2018-12-05T00:00:00",
          "mult": 2
         },
         {
          "date": "2018-12-06T00:00:00",
          "mult": 0
         },
         {
          "date": "2018-12-07T00:00:00",
          "mult": 4
         },
         {
          "date": "2018-12-08T00:00:00",
          "mult": 0
         },
         {
          "date": "2018-12-09T00:00:00",
          "mult": 0
         },
         {
          "date": "2018-12-10T00:00:00",
          "mult": 5
         },
         {
          "date": "2018-12-11T00:00:00",
          "mult": 1
         },
         {
          "date": "2018-12-12T00:00:00",
          "mult": 0
         },
         {
          "date": "2018-12-13T00:00:00",
          "mult": 1
         },
         {
          "date": "2018-12-14T00:00:00",
          "mult": 1
         },
         {
          "date": "2018-12-15T00:00:00",
          "mult": 0
         },
         {
          "date": "2018-12-16T00:00:00",
          "mult": 0
         },
         {
          "date": "2018-12-17T00:00:00",
          "mult": 3
         },
         {
          "date": "2018-12-18T00:00:00",
          "mult": 2
         },
         {
          "date": "2018-12-19T00:00:00",
          "mult": 0
         },
         {
          "date": "2018-12-20T00:00:00",
          "mult": 2
         },
         {
          "date": "2018-12-21T00:00:00",
          "mult": 0
         },
         {
          "date": "2018-12-22T00:00:00",
          "mult": 0
         },
         {
          "date": "2018-12-23T00:00:00",
          "mult": 1
         },
         {
          "date": "2018-12-24T00:00:00",
          "mult": 1
         },
         {
          "date": "2018-12-25T00:00:00",
          "mult": 0
         },
         {
          "date": "2018-12-26T00:00:00",
          "mult": 1
         },
         {
          "date": "2018-12-27T00:00:00",
          "mult": 2
         },
         {
          "date": "2018-12-28T00:00:00",
          "mult": 1
         },
         {
          "date": "2018-12-29T00:00:00",
          "mult": 0
         },
         {
          "date": "2018-12-30T00:00:00",
          "mult": 0
         },
         {
          "date": "2018-12-31T00:00:00",
          "mult": 0
         },
         {
          "date": "2019-01-01T00:00:00",
          "mult": 1
         },
         {
          "date": "2019-01-02T00:00:00",
          "mult": 1
         },
         {
          "date": "2019-01-03T00:00:00",
          "mult": 1
         },
         {
          "date": "2019-01-04T00:00:00",
          "mult": 2
         },
         {
          "date": "2019-01-05T00:00:00",
          "mult": 0
         },
         {
          "date": "2019-01-06T00:00:00",
          "mult": 0
         },
         {
          "date": "2019-01-07T00:00:00",
          "mult": 2
         },
         {
          "date": "2019-01-08T00:00:00",
          "mult": 0
         },
         {
          "date": "2019-01-09T00:00:00",
          "mult": 3
         },
         {
          "date": "2019-01-10T00:00:00",
          "mult": 3
         },
         {
          "date": "2019-01-11T00:00:00",
          "mult": 0
         },
         {
          "date": "2019-01-12T00:00:00",
          "mult": 0
         },
         {
          "date": "2019-01-13T00:00:00",
          "mult": 0
         },
         {
          "date": "2019-01-14T00:00:00",
          "mult": 0
         },
         {
          "date": "2019-01-15T00:00:00",
          "mult": 3
         },
         {
          "date": "2019-01-16T00:00:00",
          "mult": 7
         },
         {
          "date": "2019-01-17T00:00:00",
          "mult": 2
         },
         {
          "date": "2019-01-18T00:00:00",
          "mult": 2
         },
         {
          "date": "2019-01-19T00:00:00",
          "mult": 0
         },
         {
          "date": "2019-01-20T00:00:00",
          "mult": 0
         },
         {
          "date": "2019-01-21T00:00:00",
          "mult": 4
         },
         {
          "date": "2019-01-22T00:00:00",
          "mult": 2
         },
         {
          "date": "2019-01-23T00:00:00",
          "mult": 2
         },
         {
          "date": "2019-01-24T00:00:00",
          "mult": 2
         },
         {
          "date": "2019-01-25T00:00:00",
          "mult": 8
         },
         {
          "date": "2019-01-26T00:00:00",
          "mult": 0
         },
         {
          "date": "2019-01-27T00:00:00",
          "mult": 5
         },
         {
          "date": "2019-01-28T00:00:00",
          "mult": 2
         },
         {
          "date": "2019-01-29T00:00:00",
          "mult": 1
         },
         {
          "date": "2019-01-30T00:00:00",
          "mult": 2
         },
         {
          "date": "2019-01-31T00:00:00",
          "mult": 7
         },
         {
          "date": "2019-02-01T00:00:00",
          "mult": 1
         },
         {
          "date": "2019-02-02T00:00:00",
          "mult": 0
         },
         {
          "date": "2019-02-03T00:00:00",
          "mult": 2
         },
         {
          "date": "2019-02-04T00:00:00",
          "mult": 1
         },
         {
          "date": "2019-02-05T00:00:00",
          "mult": 3
         },
         {
          "date": "2019-02-06T00:00:00",
          "mult": 4
         },
         {
          "date": "2019-02-07T00:00:00",
          "mult": 4
         },
         {
          "date": "2019-02-08T00:00:00",
          "mult": 3
         },
         {
          "date": "2019-02-09T00:00:00",
          "mult": 0
         },
         {
          "date": "2019-02-10T00:00:00",
          "mult": 0
         },
         {
          "date": "2019-02-11T00:00:00",
          "mult": 3
         },
         {
          "date": "2019-02-12T00:00:00",
          "mult": 3
         },
         {
          "date": "2019-02-13T00:00:00",
          "mult": 5
         },
         {
          "date": "2019-02-14T00:00:00",
          "mult": 6
         },
         {
          "date": "2019-02-15T00:00:00",
          "mult": 2
         },
         {
          "date": "2019-02-16T00:00:00",
          "mult": 0
         },
         {
          "date": "2019-02-17T00:00:00",
          "mult": 1
         },
         {
          "date": "2019-02-18T00:00:00",
          "mult": 0
         },
         {
          "date": "2019-02-19T00:00:00",
          "mult": 3
         },
         {
          "date": "2019-02-20T00:00:00",
          "mult": 2
         },
         {
          "date": "2019-02-21T00:00:00",
          "mult": 1
         },
         {
          "date": "2019-02-22T00:00:00",
          "mult": 2
         },
         {
          "date": "2019-02-23T00:00:00",
          "mult": 0
         },
         {
          "date": "2019-02-24T00:00:00",
          "mult": 3
         },
         {
          "date": "2019-02-25T00:00:00",
          "mult": 3
         },
         {
          "date": "2019-02-26T00:00:00",
          "mult": 2
         },
         {
          "date": "2019-02-27T00:00:00",
          "mult": 4
         },
         {
          "date": "2019-02-28T00:00:00",
          "mult": 3
         },
         {
          "date": "2019-03-01T00:00:00",
          "mult": 2
         },
         {
          "date": "2019-03-02T00:00:00",
          "mult": 0
         },
         {
          "date": "2019-03-03T00:00:00",
          "mult": 0
         },
         {
          "date": "2019-03-04T00:00:00",
          "mult": 3
         },
         {
          "date": "2019-03-05T00:00:00",
          "mult": 2
         },
         {
          "date": "2019-03-06T00:00:00",
          "mult": 1
         },
         {
          "date": "2019-03-07T00:00:00",
          "mult": 6
         },
         {
          "date": "2019-03-08T00:00:00",
          "mult": 5
         },
         {
          "date": "2019-03-09T00:00:00",
          "mult": 0
         },
         {
          "date": "2019-03-10T00:00:00",
          "mult": 1
         },
         {
          "date": "2019-03-11T00:00:00",
          "mult": 1
         },
         {
          "date": "2019-03-12T00:00:00",
          "mult": 2
         },
         {
          "date": "2019-03-13T00:00:00",
          "mult": 4
         },
         {
          "date": "2019-03-14T00:00:00",
          "mult": 2
         },
         {
          "date": "2019-03-15T00:00:00",
          "mult": 3
         },
         {
          "date": "2019-03-16T00:00:00",
          "mult": 0
         },
         {
          "date": "2019-03-17T00:00:00",
          "mult": 5
         },
         {
          "date": "2019-03-18T00:00:00",
          "mult": 3
         },
         {
          "date": "2019-03-19T00:00:00",
          "mult": 1
         },
         {
          "date": "2019-03-20T00:00:00",
          "mult": 2
         },
         {
          "date": "2019-03-21T00:00:00",
          "mult": 2
         },
         {
          "date": "2019-03-22T00:00:00",
          "mult": 1
         },
         {
          "date": "2019-03-23T00:00:00",
          "mult": 0
         },
         {
          "date": "2019-03-24T00:00:00",
          "mult": 1
         },
         {
          "date": "2019-03-25T00:00:00",
          "mult": 1
         },
         {
          "date": "2019-03-26T00:00:00",
          "mult": 1
         },
         {
          "date": "2019-03-27T00:00:00",
          "mult": 2
         },
         {
          "date": "2019-03-28T00:00:00",
          "mult": 2
         },
         {
          "date": "2019-03-29T00:00:00",
          "mult": 2
         },
         {
          "date": "2019-03-30T00:00:00",
          "mult": 1
         },
         {
          "date": "2019-03-31T00:00:00",
          "mult": 1
         },
         {
          "date": "2019-04-01T00:00:00",
          "mult": 3
         },
         {
          "date": "2019-04-02T00:00:00",
          "mult": 2
         },
         {
          "date": "2019-04-03T00:00:00",
          "mult": 0
         },
         {
          "date": "2019-04-04T00:00:00",
          "mult": 4
         },
         {
          "date": "2019-04-05T00:00:00",
          "mult": 3
         },
         {
          "date": "2019-04-06T00:00:00",
          "mult": 0
         },
         {
          "date": "2019-04-07T00:00:00",
          "mult": 0
         },
         {
          "date": "2019-04-08T00:00:00",
          "mult": 1
         },
         {
          "date": "2019-04-09T00:00:00",
          "mult": 2
         },
         {
          "date": "2019-04-10T00:00:00",
          "mult": 1
         },
         {
          "date": "2019-04-11T00:00:00",
          "mult": 3
         },
         {
          "date": "2019-04-12T00:00:00",
          "mult": 2
         },
         {
          "date": "2019-04-13T00:00:00",
          "mult": 0
         },
         {
          "date": "2019-04-14T00:00:00",
          "mult": 0
         },
         {
          "date": "2019-04-15T00:00:00",
          "mult": 2
         },
         {
          "date": "2019-04-16T00:00:00",
          "mult": 1
         },
         {
          "date": "2019-04-17T00:00:00",
          "mult": 0
         },
         {
          "date": "2019-04-18T00:00:00",
          "mult": 4
         },
         {
          "date": "2019-04-19T00:00:00",
          "mult": 1
         },
         {
          "date": "2019-04-20T00:00:00",
          "mult": 1
         },
         {
          "date": "2019-04-21T00:00:00",
          "mult": 0
         },
         {
          "date": "2019-04-22T00:00:00",
          "mult": 0
         },
         {
          "date": "2019-04-23T00:00:00",
          "mult": 2
         },
         {
          "date": "2019-04-24T00:00:00",
          "mult": 3
         },
         {
          "date": "2019-04-25T00:00:00",
          "mult": 1
         },
         {
          "date": "2019-04-26T00:00:00",
          "mult": 3
         },
         {
          "date": "2019-04-27T00:00:00",
          "mult": 0
         },
         {
          "date": "2019-04-28T00:00:00",
          "mult": 0
         },
         {
          "date": "2019-04-29T00:00:00",
          "mult": 3
         },
         {
          "date": "2019-04-30T00:00:00",
          "mult": 1
         },
         {
          "date": "2019-05-01T00:00:00",
          "mult": 2
         },
         {
          "date": "2019-05-02T00:00:00",
          "mult": 2
         },
         {
          "date": "2019-05-03T00:00:00",
          "mult": 1
         },
         {
          "date": "2019-05-04T00:00:00",
          "mult": 0
         },
         {
          "date": "2019-05-05T00:00:00",
          "mult": 0
         },
         {
          "date": "2019-05-06T00:00:00",
          "mult": 1
         },
         {
          "date": "2019-05-07T00:00:00",
          "mult": 1
         },
         {
          "date": "2019-05-08T00:00:00",
          "mult": 1
         },
         {
          "date": "2019-05-09T00:00:00",
          "mult": 5
         },
         {
          "date": "2019-05-10T00:00:00",
          "mult": 1
         },
         {
          "date": "2019-05-11T00:00:00",
          "mult": 2
         },
         {
          "date": "2019-05-12T00:00:00",
          "mult": 0
         },
         {
          "date": "2019-05-13T00:00:00",
          "mult": 0
         },
         {
          "date": "2019-05-14T00:00:00",
          "mult": 1
         },
         {
          "date": "2019-05-15T00:00:00",
          "mult": 1
         },
         {
          "date": "2019-05-16T00:00:00",
          "mult": 2
         },
         {
          "date": "2019-05-17T00:00:00",
          "mult": 2
         },
         {
          "date": "2019-05-18T00:00:00",
          "mult": 0
         },
         {
          "date": "2019-05-19T00:00:00",
          "mult": 1
         },
         {
          "date": "2019-05-20T00:00:00",
          "mult": 0
         },
         {
          "date": "2019-05-21T00:00:00",
          "mult": 7
         },
         {
          "date": "2019-05-22T00:00:00",
          "mult": 3
         },
         {
          "date": "2019-05-23T00:00:00",
          "mult": 0
         },
         {
          "date": "2019-05-24T00:00:00",
          "mult": 1
         },
         {
          "date": "2019-05-25T00:00:00",
          "mult": 0
         },
         {
          "date": "2019-05-26T00:00:00",
          "mult": 2
         },
         {
          "date": "2019-05-27T00:00:00",
          "mult": 1
         },
         {
          "date": "2019-05-28T00:00:00",
          "mult": 0
         },
         {
          "date": "2019-05-29T00:00:00",
          "mult": 1
         },
         {
          "date": "2019-05-30T00:00:00",
          "mult": 4
         },
         {
          "date": "2019-05-31T00:00:00",
          "mult": 2
         },
         {
          "date": "2019-06-01T00:00:00",
          "mult": 0
         },
         {
          "date": "2019-06-02T00:00:00",
          "mult": 1
         },
         {
          "date": "2019-06-03T00:00:00",
          "mult": 3
         },
         {
          "date": "2019-06-04T00:00:00",
          "mult": 2
         },
         {
          "date": "2019-06-05T00:00:00",
          "mult": 3
         },
         {
          "date": "2019-06-06T00:00:00",
          "mult": 3
         },
         {
          "date": "2019-06-07T00:00:00",
          "mult": 1
         },
         {
          "date": "2019-06-08T00:00:00",
          "mult": 0
         },
         {
          "date": "2019-06-09T00:00:00",
          "mult": 0
         },
         {
          "date": "2019-06-10T00:00:00",
          "mult": 3
         },
         {
          "date": "2019-06-11T00:00:00",
          "mult": 2
         },
         {
          "date": "2019-06-12T00:00:00",
          "mult": 1
         },
         {
          "date": "2019-06-13T00:00:00",
          "mult": 2
         },
         {
          "date": "2019-06-14T00:00:00",
          "mult": 1
         },
         {
          "date": "2019-06-15T00:00:00",
          "mult": 0
         },
         {
          "date": "2019-06-16T00:00:00",
          "mult": 3
         },
         {
          "date": "2019-06-17T00:00:00",
          "mult": 1
         },
         {
          "date": "2019-06-18T00:00:00",
          "mult": 1
         },
         {
          "date": "2019-06-19T00:00:00",
          "mult": 4
         },
         {
          "date": "2019-06-20T00:00:00",
          "mult": 2
         },
         {
          "date": "2019-06-21T00:00:00",
          "mult": 1
         },
         {
          "date": "2019-06-22T00:00:00",
          "mult": 0
         },
         {
          "date": "2019-06-23T00:00:00",
          "mult": 0
         },
         {
          "date": "2019-06-24T00:00:00",
          "mult": 4
         },
         {
          "date": "2019-06-25T00:00:00",
          "mult": 3
         },
         {
          "date": "2019-06-26T00:00:00",
          "mult": 2
         },
         {
          "date": "2019-06-27T00:00:00",
          "mult": 2
         },
         {
          "date": "2019-06-28T00:00:00",
          "mult": 0
         },
         {
          "date": "2019-06-29T00:00:00",
          "mult": 2
         },
         {
          "date": "2019-06-30T00:00:00",
          "mult": 0
         },
         {
          "date": "2019-07-01T00:00:00",
          "mult": 1
         },
         {
          "date": "2019-07-02T00:00:00",
          "mult": 6
         },
         {
          "date": "2019-07-03T00:00:00",
          "mult": 0
         },
         {
          "date": "2019-07-04T00:00:00",
          "mult": 1
         },
         {
          "date": "2019-07-05T00:00:00",
          "mult": 1
         },
         {
          "date": "2019-07-06T00:00:00",
          "mult": 2
         },
         {
          "date": "2019-07-07T00:00:00",
          "mult": 0
         },
         {
          "date": "2019-07-08T00:00:00",
          "mult": 2
         },
         {
          "date": "2019-07-09T00:00:00",
          "mult": 2
         },
         {
          "date": "2019-07-10T00:00:00",
          "mult": 0
         },
         {
          "date": "2019-07-11T00:00:00",
          "mult": 3
         },
         {
          "date": "2019-07-12T00:00:00",
          "mult": 1
         },
         {
          "date": "2019-07-13T00:00:00",
          "mult": 0
         },
         {
          "date": "2019-07-14T00:00:00",
          "mult": 2
         },
         {
          "date": "2019-07-15T00:00:00",
          "mult": 3
         },
         {
          "date": "2019-07-16T00:00:00",
          "mult": 5
         },
         {
          "date": "2019-07-17T00:00:00",
          "mult": 2
         },
         {
          "date": "2019-07-18T00:00:00",
          "mult": 0
         },
         {
          "date": "2019-07-19T00:00:00",
          "mult": 2
         },
         {
          "date": "2019-07-20T00:00:00",
          "mult": 0
         },
         {
          "date": "2019-07-21T00:00:00",
          "mult": 0
         },
         {
          "date": "2019-07-22T00:00:00",
          "mult": 7
         },
         {
          "date": "2019-07-23T00:00:00",
          "mult": 2
         },
         {
          "date": "2019-07-24T00:00:00",
          "mult": 2
         },
         {
          "date": "2019-07-25T00:00:00",
          "mult": 3
         },
         {
          "date": "2019-07-26T00:00:00",
          "mult": 3
         },
         {
          "date": "2019-07-27T00:00:00",
          "mult": 0
         },
         {
          "date": "2019-07-28T00:00:00",
          "mult": 4
         },
         {
          "date": "2019-07-29T00:00:00",
          "mult": 1
         },
         {
          "date": "2019-07-30T00:00:00",
          "mult": 3
         },
         {
          "date": "2019-07-31T00:00:00",
          "mult": 1
         },
         {
          "date": "2019-08-01T00:00:00",
          "mult": 1
         },
         {
          "date": "2019-08-02T00:00:00",
          "mult": 4
         },
         {
          "date": "2019-08-03T00:00:00",
          "mult": 0
         },
         {
          "date": "2019-08-04T00:00:00",
          "mult": 2
         },
         {
          "date": "2019-08-05T00:00:00",
          "mult": 3
         },
         {
          "date": "2019-08-06T00:00:00",
          "mult": 0
         },
         {
          "date": "2019-08-07T00:00:00",
          "mult": 3
         },
         {
          "date": "2019-08-08T00:00:00",
          "mult": 3
         },
         {
          "date": "2019-08-09T00:00:00",
          "mult": 0
         },
         {
          "date": "2019-08-10T00:00:00",
          "mult": 0
         },
         {
          "date": "2019-08-11T00:00:00",
          "mult": 0
         },
         {
          "date": "2019-08-12T00:00:00",
          "mult": 0
         },
         {
          "date": "2019-08-13T00:00:00",
          "mult": 0
         },
         {
          "date": "2019-08-14T00:00:00",
          "mult": 1
         },
         {
          "date": "2019-08-15T00:00:00",
          "mult": 1
         },
         {
          "date": "2019-08-16T00:00:00",
          "mult": 2
         },
         {
          "date": "2019-08-17T00:00:00",
          "mult": 0
         },
         {
          "date": "2019-08-18T00:00:00",
          "mult": 0
         },
         {
          "date": "2019-08-19T00:00:00",
          "mult": 3
         },
         {
          "date": "2019-08-20T00:00:00",
          "mult": 0
         },
         {
          "date": "2019-08-21T00:00:00",
          "mult": 5
         },
         {
          "date": "2019-08-22T00:00:00",
          "mult": 0
         },
         {
          "date": "2019-08-23T00:00:00",
          "mult": 0
         },
         {
          "date": "2019-08-24T00:00:00",
          "mult": 3
         },
         {
          "date": "2019-08-25T00:00:00",
          "mult": 0
         },
         {
          "date": "2019-08-26T00:00:00",
          "mult": 3
         },
         {
          "date": "2019-08-27T00:00:00",
          "mult": 4
         },
         {
          "date": "2019-08-28T00:00:00",
          "mult": 2
         },
         {
          "date": "2019-08-29T00:00:00",
          "mult": 2
         },
         {
          "date": "2019-08-30T00:00:00",
          "mult": 0
         },
         {
          "date": "2019-08-31T00:00:00",
          "mult": 0
         },
         {
          "date": "2019-09-01T00:00:00",
          "mult": 0
         },
         {
          "date": "2019-09-02T00:00:00",
          "mult": 3
         },
         {
          "date": "2019-09-03T00:00:00",
          "mult": 1
         },
         {
          "date": "2019-09-04T00:00:00",
          "mult": 0
         },
         {
          "date": "2019-09-05T00:00:00",
          "mult": 1
         },
         {
          "date": "2019-09-06T00:00:00",
          "mult": 6
         },
         {
          "date": "2019-09-07T00:00:00",
          "mult": 1
         },
         {
          "date": "2019-09-08T00:00:00",
          "mult": 0
         },
         {
          "date": "2019-09-09T00:00:00",
          "mult": 3
         },
         {
          "date": "2019-09-10T00:00:00",
          "mult": 1
         },
         {
          "date": "2019-09-11T00:00:00",
          "mult": 1
         },
         {
          "date": "2019-09-12T00:00:00",
          "mult": 2
         },
         {
          "date": "2019-09-13T00:00:00",
          "mult": 0
         },
         {
          "date": "2019-09-14T00:00:00",
          "mult": 3
         },
         {
          "date": "2019-09-15T00:00:00",
          "mult": 0
         },
         {
          "date": "2019-09-16T00:00:00",
          "mult": 1
         },
         {
          "date": "2019-09-17T00:00:00",
          "mult": 1
         },
         {
          "date": "2019-09-18T00:00:00",
          "mult": 2
         },
         {
          "date": "2019-09-19T00:00:00",
          "mult": 2
         },
         {
          "date": "2019-09-20T00:00:00",
          "mult": 4
         },
         {
          "date": "2019-09-21T00:00:00",
          "mult": 0
         },
         {
          "date": "2019-09-22T00:00:00",
          "mult": 0
         },
         {
          "date": "2019-09-23T00:00:00",
          "mult": 2
         },
         {
          "date": "2019-09-24T00:00:00",
          "mult": 5
         },
         {
          "date": "2019-09-25T00:00:00",
          "mult": 1
         },
         {
          "date": "2019-09-26T00:00:00",
          "mult": 2
         },
         {
          "date": "2019-09-27T00:00:00",
          "mult": 3
         }
        ]
       },
       "height": 400,
       "layer": [
        {
         "encoding": {
          "x": {
           "field": "date",
           "sort": null,
           "type": "temporal"
          },
          "y": {
           "field": "mult",
           "type": "quantitative"
          }
         },
         "mark": {
          "size": 1,
          "type": "line"
         },
         "selection": {
          "selector004": {
           "bind": "scales",
           "encodings": [
            "x"
           ],
           "type": "interval"
          }
         }
        },
        {
         "encoding": {
          "color": {
           "condition": {
            "selection": {
             "not": "selector003"
            },
            "value": "#1f77b4"
           },
           "value": "#aec7e8"
          },
          "tooltip": [
           {
            "field": "date",
            "type": "temporal"
           },
           {
            "field": "mult",
            "type": "quantitative"
           }
          ],
          "x": {
           "field": "date",
           "sort": null,
           "type": "temporal"
          },
          "y": {
           "field": "mult",
           "type": "quantitative"
          }
         },
         "mark": {
          "size": 25,
          "type": "circle"
         },
         "selection": {
          "selector003": {
           "fields": [
            "date"
           ],
           "on": "mouseover",
           "type": "single"
          }
         },
         "title": "signals daily count"
        }
       ],
       "width": 600
      },
      "image/png": "[encoded data removed]",
      "text/plain": [
       "<VegaLite 3 object>\n",
       "\n",
       "If you see this message, it means the renderer has not been properly enabled\n",
       "for the frontend that you are using. For more information, see\n",
       "https://altair-viz.github.io/user_guide/troubleshooting.html\n"
      ]
     },
     "metadata": {
      "application/vnd.vegalite.v3+json": {
       "embed_options": {
        "theme": "dark"
       }
      }
     },
     "output_type": "display_data"
    },
    {
     "data": {
      "application/vnd.vegalite.v3+json": {
       "$schema": "https://vega.github.io/schema/vega-lite/v3.3.0.json",
       "config": {
        "mark": {
         "tooltip": null
        },
        "view": {
         "height": 300,
         "width": 400
        }
       },
       "data": {
        "name": "data-bdbbf6a088048a47260e17aab7f430fc"
       },
       "datasets": {
        "data-bdbbf6a088048a47260e17aab7f430fc": [
         {
          "date": "2017-10-30T00:00:00",
          "mult": 27
         },
         {
          "date": "2017-11-06T00:00:00",
          "mult": 47
         },
         {
          "date": "2017-11-13T00:00:00",
          "mult": 49
         },
         {
          "date": "2017-11-20T00:00:00",
          "mult": 40
         },
         {
          "date": "2017-11-27T00:00:00",
          "mult": 24
         },
         {
          "date": "2017-12-04T00:00:00",
          "mult": 18
         },
         {
          "date": "2017-12-11T00:00:00",
          "mult": 23
         },
         {
          "date": "2017-12-18T00:00:00",
          "mult": 13
         },
         {
          "date": "2017-12-25T00:00:00",
          "mult": 5
         },
         {
          "date": "2018-01-01T00:00:00",
          "mult": 13
         },
         {
          "date": "2018-01-08T00:00:00",
          "mult": 40
         },
         {
          "date": "2018-01-15T00:00:00",
          "mult": 36
         },
         {
          "date": "2018-01-22T00:00:00",
          "mult": 28
         },
         {
          "date": "2018-01-29T00:00:00",
          "mult": 14
         },
         {
          "date": "2018-02-05T00:00:00",
          "mult": 31
         },
         {
          "date": "2018-02-12T00:00:00",
          "mult": 14
         },
         {
          "date": "2018-02-19T00:00:00",
          "mult": 13
         },
         {
          "date": "2018-02-26T00:00:00",
          "mult": 15
         },
         {
          "date": "2018-03-05T00:00:00",
          "mult": 25
         },
         {
          "date": "2018-03-12T00:00:00",
          "mult": 15
         },
         {
          "date": "2018-03-19T00:00:00",
          "mult": 14
         },
         {
          "date": "2018-03-26T00:00:00",
          "mult": 16
         },
         {
          "date": "2018-04-02T00:00:00",
          "mult": 17
         },
         {
          "date": "2018-04-09T00:00:00",
          "mult": 13
         },
         {
          "date": "2018-04-16T00:00:00",
          "mult": 25
         },
         {
          "date": "2018-04-23T00:00:00",
          "mult": 21
         },
         {
          "date": "2018-04-30T00:00:00",
          "mult": 23
         },
         {
          "date": "2018-05-07T00:00:00",
          "mult": 22
         },
         {
          "date": "2018-05-14T00:00:00",
          "mult": 29
         },
         {
          "date": "2018-05-21T00:00:00",
          "mult": 29
         },
         {
          "date": "2018-05-28T00:00:00",
          "mult": 19
         },
         {
          "date": "2018-06-04T00:00:00",
          "mult": 35
         },
         {
          "date": "2018-06-11T00:00:00",
          "mult": 20
         },
         {
          "date": "2018-06-18T00:00:00",
          "mult": 9
         },
         {
          "date": "2018-06-25T00:00:00",
          "mult": 21
         },
         {
          "date": "2018-07-02T00:00:00",
          "mult": 19
         },
         {
          "date": "2018-07-09T00:00:00",
          "mult": 16
         },
         {
          "date": "2018-07-16T00:00:00",
          "mult": 11
         },
         {
          "date": "2018-07-23T00:00:00",
          "mult": 11
         },
         {
          "date": "2018-07-30T00:00:00",
          "mult": 14
         },
         {
          "date": "2018-08-06T00:00:00",
          "mult": 20
         },
         {
          "date": "2018-08-13T00:00:00",
          "mult": 13
         },
         {
          "date": "2018-08-20T00:00:00",
          "mult": 12
         },
         {
          "date": "2018-08-27T00:00:00",
          "mult": 11
         },
         {
          "date": "2018-09-03T00:00:00",
          "mult": 12
         },
         {
          "date": "2018-09-10T00:00:00",
          "mult": 10
         },
         {
          "date": "2018-09-17T00:00:00",
          "mult": 8
         },
         {
          "date": "2018-09-24T00:00:00",
          "mult": 14
         },
         {
          "date": "2018-10-01T00:00:00",
          "mult": 12
         },
         {
          "date": "2018-10-08T00:00:00",
          "mult": 14
         },
         {
          "date": "2018-10-15T00:00:00",
          "mult": 5
         },
         {
          "date": "2018-10-22T00:00:00",
          "mult": 8
         },
         {
          "date": "2018-10-29T00:00:00",
          "mult": 4
         },
         {
          "date": "2018-11-05T00:00:00",
          "mult": 9
         },
         {
          "date": "2018-11-12T00:00:00",
          "mult": 9
         },
         {
          "date": "2018-11-19T00:00:00",
          "mult": 10
         },
         {
          "date": "2018-11-26T00:00:00",
          "mult": 6
         },
         {
          "date": "2018-12-03T00:00:00",
          "mult": 6
         },
         {
          "date": "2018-12-10T00:00:00",
          "mult": 8
         },
         {
          "date": "2018-12-17T00:00:00",
          "mult": 8
         },
         {
          "date": "2018-12-24T00:00:00",
          "mult": 5
         },
         {
          "date": "2018-12-31T00:00:00",
          "mult": 0
         },
         {
          "date": "2019-01-07T00:00:00",
          "mult": 5
         },
         {
          "date": "2019-01-14T00:00:00",
          "mult": 8
         },
         {
          "date": "2019-01-21T00:00:00",
          "mult": 14
         },
         {
          "date": "2019-01-28T00:00:00",
          "mult": 23
         },
         {
          "date": "2019-02-04T00:00:00",
          "mult": 15
         },
         {
          "date": "2019-02-11T00:00:00",
          "mult": 15
         },
         {
          "date": "2019-02-18T00:00:00",
          "mult": 20
         },
         {
          "date": "2019-02-25T00:00:00",
          "mult": 11
         },
         {
          "date": "2019-03-04T00:00:00",
          "mult": 14
         },
         {
          "date": "2019-03-11T00:00:00",
          "mult": 18
         },
         {
          "date": "2019-03-18T00:00:00",
          "mult": 17
         },
         {
          "date": "2019-03-25T00:00:00",
          "mult": 10
         },
         {
          "date": "2019-04-01T00:00:00",
          "mult": 10
         },
         {
          "date": "2019-04-08T00:00:00",
          "mult": 12
         },
         {
          "date": "2019-04-15T00:00:00",
          "mult": 9
         },
         {
          "date": "2019-04-22T00:00:00",
          "mult": 9
         },
         {
          "date": "2019-04-29T00:00:00",
          "mult": 9
         },
         {
          "date": "2019-05-06T00:00:00",
          "mult": 9
         },
         {
          "date": "2019-05-13T00:00:00",
          "mult": 11
         },
         {
          "date": "2019-05-20T00:00:00",
          "mult": 7
         },
         {
          "date": "2019-05-27T00:00:00",
          "mult": 13
         },
         {
          "date": "2019-06-03T00:00:00",
          "mult": 9
         },
         {
          "date": "2019-06-10T00:00:00",
          "mult": 12
         },
         {
          "date": "2019-06-17T00:00:00",
          "mult": 12
         },
         {
          "date": "2019-06-24T00:00:00",
          "mult": 9
         },
         {
          "date": "2019-07-01T00:00:00",
          "mult": 13
         },
         {
          "date": "2019-07-08T00:00:00",
          "mult": 11
         },
         {
          "date": "2019-07-15T00:00:00",
          "mult": 10
         },
         {
          "date": "2019-07-22T00:00:00",
          "mult": 12
         },
         {
          "date": "2019-07-29T00:00:00",
          "mult": 21
         },
         {
          "date": "2019-08-05T00:00:00",
          "mult": 12
         },
         {
          "date": "2019-08-12T00:00:00",
          "mult": 9
         },
         {
          "date": "2019-08-19T00:00:00",
          "mult": 4
         },
         {
          "date": "2019-08-26T00:00:00",
          "mult": 11
         },
         {
          "date": "2019-09-02T00:00:00",
          "mult": 11
         },
         {
          "date": "2019-09-09T00:00:00",
          "mult": 12
         },
         {
          "date": "2019-09-16T00:00:00",
          "mult": 10
         },
         {
          "date": "2019-09-23T00:00:00",
          "mult": 10
         },
         {
          "date": "2019-09-30T00:00:00",
          "mult": 13
         }
        ]
       },
       "height": 400,
       "layer": [
        {
         "encoding": {
          "x": {
           "field": "date",
           "sort": null,
           "type": "temporal"
          },
          "y": {
           "field": "mult",
           "type": "quantitative"
          }
         },
         "mark": {
          "size": 1,
          "type": "line"
         },
         "selection": {
          "selector005": {
           "bind": "scales",
           "encodings": [
            "x"
           ],
           "type": "interval"
          }
         }
        },
        {
         "encoding": {
          "color": {
           "condition": {
            "selection": {
             "not": "selector003"
            },
            "value": "#1f77b4"
           },
           "value": "#aec7e8"
          },
          "tooltip": [
           {
            "field": "date",
            "type": "temporal"
           },
           {
            "field": "mult",
            "type": "quantitative"
           }
          ],
          "x": {
           "field": "date",
           "sort": null,
           "type": "temporal"
          },
          "y": {
           "field": "mult",
           "type": "quantitative"
          }
         },
         "mark": {
          "size": 25,
          "type": "circle"
         },
         "selection": {
          "selector003": {
           "fields": [
            "date"
           ],
           "on": "mouseover",
           "type": "single"
          }
         },
         "title": "signals weekly count"
        }
       ],
       "width": 600
      },
      "image/png": "[encoded data removed]",
      "text/plain": [
       "<VegaLite 3 object>\n",
       "\n",
       "If you see this message, it means the renderer has not been properly enabled\n",
       "for the frontend that you are using. For more information, see\n",
       "https://altair-viz.github.io/user_guide/troubleshooting.html\n"
      ]
     },
     "metadata": {
      "application/vnd.vegalite.v3+json": {
       "embed_options": {
        "theme": "dark"
       }
      }
     },
     "output_type": "display_data"
    },
    {
     "data": {
      "application/vnd.vegalite.v3+json": {
       "$schema": "https://vega.github.io/schema/vega-lite/v3.3.0.json",
       "config": {
        "mark": {
         "tooltip": null
        },
        "view": {
         "height": 300,
         "width": 400
        }
       },
       "data": {
        "name": "data-b10c6bf557bdac9d670f81426022d3de"
       },
       "datasets": {
        "data-b10c6bf557bdac9d670f81426022d3de": [
         {
          "date": "2017-11-01T00:00:00",
          "mult": 185
         },
         {
          "date": "2017-12-01T00:00:00",
          "mult": 61
         },
         {
          "date": "2018-01-01T00:00:00",
          "mult": 127
         },
         {
          "date": "2018-02-01T00:00:00",
          "mult": 73
         },
         {
          "date": "2018-03-01T00:00:00",
          "mult": 74
         },
         {
          "date": "2018-04-01T00:00:00",
          "mult": 81
         },
         {
          "date": "2018-05-01T00:00:00",
          "mult": 112
         },
         {
          "date": "2018-06-01T00:00:00",
          "mult": 88
         },
         {
          "date": "2018-07-01T00:00:00",
          "mult": 64
         },
         {
          "date": "2018-08-01T00:00:00",
          "mult": 65
         },
         {
          "date": "2018-09-01T00:00:00",
          "mult": 44
         },
         {
          "date": "2018-10-01T00:00:00",
          "mult": 41
         },
         {
          "date": "2018-11-01T00:00:00",
          "mult": 36
         },
         {
          "date": "2018-12-01T00:00:00",
          "mult": 27
         },
         {
          "date": "2019-01-01T00:00:00",
          "mult": 62
         },
         {
          "date": "2019-02-01T00:00:00",
          "mult": 61
         },
         {
          "date": "2019-03-01T00:00:00",
          "mult": 57
         },
         {
          "date": "2019-04-01T00:00:00",
          "mult": 43
         },
         {
          "date": "2019-05-01T00:00:00",
          "mult": 44
         },
         {
          "date": "2019-06-01T00:00:00",
          "mult": 47
         },
         {
          "date": "2019-07-01T00:00:00",
          "mult": 59
         },
         {
          "date": "2019-08-01T00:00:00",
          "mult": 42
         },
         {
          "date": "2019-09-01T00:00:00",
          "mult": 45
         }
        ]
       },
       "height": 400,
       "layer": [
        {
         "encoding": {
          "x": {
           "field": "date",
           "sort": null,
           "type": "temporal"
          },
          "y": {
           "field": "mult",
           "type": "quantitative"
          }
         },
         "mark": {
          "size": 1,
          "type": "line"
         },
         "selection": {
          "selector006": {
           "bind": "scales",
           "encodings": [
            "x"
           ],
           "type": "interval"
          }
         }
        },
        {
         "encoding": {
          "color": {
           "condition": {
            "selection": {
             "not": "selector003"
            },
            "value": "#1f77b4"
           },
           "value": "#aec7e8"
          },
          "tooltip": [
           {
            "field": "date",
            "type": "temporal"
           },
           {
            "field": "mult",
            "type": "quantitative"
           }
          ],
          "x": {
           "field": "date",
           "sort": null,
           "type": "temporal"
          },
          "y": {
           "field": "mult",
           "type": "quantitative"
          }
         },
         "mark": {
          "size": 25,
          "type": "circle"
         },
         "selection": {
          "selector003": {
           "fields": [
            "date"
           ],
           "on": "mouseover",
           "type": "single"
          }
         },
         "title": "signals monthly count"
        }
       ],
       "width": 600
      },
      "image/png": "[encoded data removed]",
      "text/plain": [
       "<VegaLite 3 object>\n",
       "\n",
       "If you see this message, it means the renderer has not been properly enabled\n",
       "for the frontend that you are using. For more information, see\n",
       "https://altair-viz.github.io/user_guide/troubleshooting.html\n"
      ]
     },
     "metadata": {
      "application/vnd.vegalite.v3+json": {
       "embed_options": {
        "theme": "dark"
       }
      }
     },
     "output_type": "display_data"
    },
    {
     "data": {
      "application/vnd.vegalite.v3+json": {
       "$schema": "https://vega.github.io/schema/vega-lite/v3.3.0.json",
       "config": {
        "mark": {
         "tooltip": null
        },
        "view": {
         "height": 300,
         "width": 400
        }
       },
       "data": {
        "name": "data-af4d219114d7fefc29494f2a27cf7488"
       },
       "datasets": {
        "data-af4d219114d7fefc29494f2a27cf7488": [
         {
          "count": 0,
          "date": "2017-10-30T00:00:00",
          "disease": "measles"
         },
         {
          "count": 3,
          "date": "2017-10-30T00:00:00",
          "disease": "cholera"
         },
         {
          "count": 1,
          "date": "2017-10-30T00:00:00",
          "disease": "dengue"
         },
         {
          "count": 0,
          "date": "2017-10-30T00:00:00",
          "disease": "yellowfever"
         },
         {
          "count": 1,
          "date": "2017-10-30T00:00:00",
          "disease": "undiagnoseddisease"
         },
         {
          "count": 1,
          "date": "2017-10-30T00:00:00",
          "disease": "lassafever"
         },
         {
          "count": 1,
          "date": "2017-10-30T00:00:00",
          "disease": "malaria"
         },
         {
          "count": 0,
          "date": "2017-10-30T00:00:00",
          "disease": "riftvalleyfever"
         },
         {
          "count": 2,
          "date": "2017-10-30T00:00:00",
          "disease": "mers-cov"
         },
         {
          "count": 2,
          "date": "2017-10-30T00:00:00",
          "disease": "diphtheria"
         },
         {
          "count": 5,
          "date": "2017-11-06T00:00:00",
          "disease": "measles"
         },
         {
          "count": 4,
          "date": "2017-11-06T00:00:00",
          "disease": "cholera"
         },
         {
          "count": 5,
          "date": "2017-11-06T00:00:00",
          "disease": "dengue"
         },
         {
          "count": 3,
          "date": "2017-11-06T00:00:00",
          "disease": "yellowfever"
         },
         {
          "count": 2,
          "date": "2017-11-06T00:00:00",
          "disease": "undiagnoseddisease"
         },
         {
          "count": 1,
          "date": "2017-11-06T00:00:00",
          "disease": "lassafever"
         },
         {
          "count": 3,
          "date": "2017-11-06T00:00:00",
          "disease": "malaria"
         },
         {
          "count": 0,
          "date": "2017-11-06T00:00:00",
          "disease": "riftvalleyfever"
         },
         {
          "count": 2,
          "date": "2017-11-06T00:00:00",
          "disease": "mers-cov"
         },
         {
          "count": 1,
          "date": "2017-11-06T00:00:00",
          "disease": "diphtheria"
         },
         {
          "count": 4,
          "date": "2017-11-13T00:00:00",
          "disease": "measles"
         },
         {
          "count": 6,
          "date": "2017-11-13T00:00:00",
          "disease": "cholera"
         },
         {
          "count": 4,
          "date": "2017-11-13T00:00:00",
          "disease": "dengue"
         },
         {
          "count": 0,
          "date": "2017-11-13T00:00:00",
          "disease": "yellowfever"
         },
         {
          "count": 7,
          "date": "2017-11-13T00:00:00",
          "disease": "undiagnoseddisease"
         },
         {
          "count": 0,
          "date": "2017-11-13T00:00:00",
          "disease": "lassafever"
         },
         {
          "count": 1,
          "date": "2017-11-13T00:00:00",
          "disease": "malaria"
         },
         {
          "count": 0,
          "date": "2017-11-13T00:00:00",
          "disease": "riftvalleyfever"
         },
         {
          "count": 2,
          "date": "2017-11-13T00:00:00",
          "disease": "mers-cov"
         },
         {
          "count": 3,
          "date": "2017-11-13T00:00:00",
          "disease": "diphtheria"
         },
         {
          "count": 0,
          "date": "2017-11-20T00:00:00",
          "disease": "measles"
         },
         {
          "count": 4,
          "date": "2017-11-20T00:00:00",
          "disease": "cholera"
         },
         {
          "count": 4,
          "date": "2017-11-20T00:00:00",
          "disease": "dengue"
         },
         {
          "count": 0,
          "date": "2017-11-20T00:00:00",
          "disease": "yellowfever"
         },
         {
          "count": 0,
          "date": "2017-11-20T00:00:00",
          "disease": "undiagnoseddisease"
         },
         {
          "count": 2,
          "date": "2017-11-20T00:00:00",
          "disease": "lassafever"
         },
         {
          "count": 1,
          "date": "2017-11-20T00:00:00",
          "disease": "malaria"
         },
         {
          "count": 1,
          "date": "2017-11-20T00:00:00",
          "disease": "riftvalleyfever"
         },
         {
          "count": 1,
          "date": "2017-11-20T00:00:00",
          "disease": "mers-cov"
         },
         {
          "count": 2,
          "date": "2017-11-20T00:00:00",
          "disease": "diphtheria"
         },
         {
          "count": 1,
          "date": "2017-11-27T00:00:00",
          "disease": "measles"
         },
         {
          "count": 2,
          "date": "2017-11-27T00:00:00",
          "disease": "cholera"
         },
         {
          "count": 1,
          "date": "2017-11-27T00:00:00",
          "disease": "dengue"
         },
         {
          "count": 2,
          "date": "2017-11-27T00:00:00",
          "disease": "yellowfever"
         },
         {
          "count": 2,
          "date": "2017-11-27T00:00:00",
          "disease": "undiagnoseddisease"
         },
         {
          "count": 0,
          "date": "2017-11-27T00:00:00",
          "disease": "lassafever"
         },
         {
          "count": 0,
          "date": "2017-11-27T00:00:00",
          "disease": "malaria"
         },
         {
          "count": 2,
          "date": "2017-11-27T00:00:00",
          "disease": "riftvalleyfever"
         },
         {
          "count": 1,
          "date": "2017-11-27T00:00:00",
          "disease": "mers-cov"
         },
         {
          "count": 1,
          "date": "2017-11-27T00:00:00",
          "disease": "diphtheria"
         },
         {
          "count": 2,
          "date": "2017-12-04T00:00:00",
          "disease": "measles"
         },
         {
          "count": 0,
          "date": "2017-12-04T00:00:00",
          "disease": "cholera"
         },
         {
          "count": 1,
          "date": "2017-12-04T00:00:00",
          "disease": "dengue"
         },
         {
          "count": 2,
          "date": "2017-12-04T00:00:00",
          "disease": "yellowfever"
         },
         {
          "count": 2,
          "date": "2017-12-04T00:00:00",
          "disease": "undiagnoseddisease"
         },
         {
          "count": 1,
          "date": "2017-12-04T00:00:00",
          "disease": "lassafever"
         },
         {
          "count": 1,
          "date": "2017-12-04T00:00:00",
          "disease": "malaria"
         },
         {
          "count": 0,
          "date": "2017-12-04T00:00:00",
          "disease": "riftvalleyfever"
         },
         {
          "count": 0,
          "date": "2017-12-04T00:00:00",
          "disease": "mers-cov"
         },
         {
          "count": 2,
          "date": "2017-12-04T00:00:00",
          "disease": "diphtheria"
         },
         {
          "count": 1,
          "date": "2017-12-11T00:00:00",
          "disease": "measles"
         },
         {
          "count": 0,
          "date": "2017-12-11T00:00:00",
          "disease": "cholera"
         },
         {
          "count": 0,
          "date": "2017-12-11T00:00:00",
          "disease": "dengue"
         },
         {
          "count": 2,
          "date": "2017-12-11T00:00:00",
          "disease": "yellowfever"
         },
         {
          "count": 1,
          "date": "2017-12-11T00:00:00",
          "disease": "undiagnoseddisease"
         },
         {
          "count": 0,
          "date": "2017-12-11T00:00:00",
          "disease": "lassafever"
         },
         {
          "count": 1,
          "date": "2017-12-11T00:00:00",
          "disease": "malaria"
         },
         {
          "count": 1,
          "date": "2017-12-11T00:00:00",
          "disease": "riftvalleyfever"
         },
         {
          "count": 1,
          "date": "2017-12-11T00:00:00",
          "disease": "mers-cov"
         },
         {
          "count": 3,
          "date": "2017-12-11T00:00:00",
          "disease": "diphtheria"
         },
         {
          "count": 1,
          "date": "2017-12-18T00:00:00",
          "disease": "measles"
         },
         {
          "count": 1,
          "date": "2017-12-18T00:00:00",
          "disease": "cholera"
         },
         {
          "count": 0,
          "date": "2017-12-18T00:00:00",
          "disease": "dengue"
         },
         {
          "count": 1,
          "date": "2017-12-18T00:00:00",
          "disease": "yellowfever"
         },
         {
          "count": 0,
          "date": "2017-12-18T00:00:00",
          "disease": "undiagnoseddisease"
         },
         {
          "count": 0,
          "date": "2017-12-18T00:00:00",
          "disease": "lassafever"
         },
         {
          "count": 0,
          "date": "2017-12-18T00:00:00",
          "disease": "malaria"
         },
         {
          "count": 0,
          "date": "2017-12-18T00:00:00",
          "disease": "riftvalleyfever"
         },
         {
          "count": 0,
          "date": "2017-12-18T00:00:00",
          "disease": "mers-cov"
         },
         {
          "count": 1,
          "date": "2017-12-18T00:00:00",
          "disease": "diphtheria"
         },
         {
          "count": 0,
          "date": "2017-12-25T00:00:00",
          "disease": "measles"
         },
         {
          "count": 1,
          "date": "2017-12-25T00:00:00",
          "disease": "cholera"
         },
         {
          "count": 1,
          "date": "2017-12-25T00:00:00",
          "disease": "dengue"
         },
         {
          "count": 1,
          "date": "2017-12-25T00:00:00",
          "disease": "yellowfever"
         },
         {
          "count": 0,
          "date": "2017-12-25T00:00:00",
          "disease": "undiagnoseddisease"
         },
         {
          "count": 0,
          "date": "2017-12-25T00:00:00",
          "disease": "lassafever"
         },
         {
          "count": 0,
          "date": "2017-12-25T00:00:00",
          "disease": "malaria"
         },
         {
          "count": 0,
          "date": "2017-12-25T00:00:00",
          "disease": "riftvalleyfever"
         },
         {
          "count": 0,
          "date": "2017-12-25T00:00:00",
          "disease": "mers-cov"
         },
         {
          "count": 0,
          "date": "2017-12-25T00:00:00",
          "disease": "diphtheria"
         },
         {
          "count": 0,
          "date": "2018-01-01T00:00:00",
          "disease": "measles"
         },
         {
          "count": 3,
          "date": "2018-01-01T00:00:00",
          "disease": "cholera"
         },
         {
          "count": 0,
          "date": "2018-01-01T00:00:00",
          "disease": "dengue"
         },
         {
          "count": 0,
          "date": "2018-01-01T00:00:00",
          "disease": "yellowfever"
         },
         {
          "count": 2,
          "date": "2018-01-01T00:00:00",
          "disease": "undiagnoseddisease"
         },
         {
          "count": 0,
          "date": "2018-01-01T00:00:00",
          "disease": "lassafever"
         },
         {
          "count": 0,
          "date": "2018-01-01T00:00:00",
          "disease": "malaria"
         },
         {
          "count": 1,
          "date": "2018-01-01T00:00:00",
          "disease": "riftvalleyfever"
         },
         {
          "count": 1,
          "date": "2018-01-01T00:00:00",
          "disease": "mers-cov"
         },
         {
          "count": 0,
          "date": "2018-01-01T00:00:00",
          "disease": "diphtheria"
         },
         {
          "count": 2,
          "date": "2018-01-08T00:00:00",
          "disease": "measles"
         },
         {
          "count": 1,
          "date": "2018-01-08T00:00:00",
          "disease": "cholera"
         },
         {
          "count": 0,
          "date": "2018-01-08T00:00:00",
          "disease": "dengue"
         },
         {
          "count": 4,
          "date": "2018-01-08T00:00:00",
          "disease": "yellowfever"
         },
         {
          "count": 2,
          "date": "2018-01-08T00:00:00",
          "disease": "undiagnoseddisease"
         },
         {
          "count": 0,
          "date": "2018-01-08T00:00:00",
          "disease": "lassafever"
         },
         {
          "count": 0,
          "date": "2018-01-08T00:00:00",
          "disease": "malaria"
         },
         {
          "count": 0,
          "date": "2018-01-08T00:00:00",
          "disease": "riftvalleyfever"
         },
         {
          "count": 2,
          "date": "2018-01-08T00:00:00",
          "disease": "mers-cov"
         },
         {
          "count": 0,
          "date": "2018-01-08T00:00:00",
          "disease": "diphtheria"
         },
         {
          "count": 5,
          "date": "2018-01-15T00:00:00",
          "disease": "measles"
         },
         {
          "count": 1,
          "date": "2018-01-15T00:00:00",
          "disease": "cholera"
         },
         {
          "count": 0,
          "date": "2018-01-15T00:00:00",
          "disease": "dengue"
         },
         {
          "count": 4,
          "date": "2018-01-15T00:00:00",
          "disease": "yellowfever"
         },
         {
          "count": 3,
          "date": "2018-01-15T00:00:00",
          "disease": "undiagnoseddisease"
         },
         {
          "count": 2,
          "date": "2018-01-15T00:00:00",
          "disease": "lassafever"
         },
         {
          "count": 0,
          "date": "2018-01-15T00:00:00",
          "disease": "malaria"
         },
         {
          "count": 0,
          "date": "2018-01-15T00:00:00",
          "disease": "riftvalleyfever"
         },
         {
          "count": 0,
          "date": "2018-01-15T00:00:00",
          "disease": "mers-cov"
         },
         {
          "count": 0,
          "date": "2018-01-15T00:00:00",
          "disease": "diphtheria"
         },
         {
          "count": 3,
          "date": "2018-01-22T00:00:00",
          "disease": "measles"
         },
         {
          "count": 0,
          "date": "2018-01-22T00:00:00",
          "disease": "cholera"
         },
         {
          "count": 0,
          "date": "2018-01-22T00:00:00",
          "disease": "dengue"
         },
         {
          "count": 0,
          "date": "2018-01-22T00:00:00",
          "disease": "yellowfever"
         },
         {
          "count": 1,
          "date": "2018-01-22T00:00:00",
          "disease": "undiagnoseddisease"
         },
         {
          "count": 2,
          "date": "2018-01-22T00:00:00",
          "disease": "lassafever"
         },
         {
          "count": 0,
          "date": "2018-01-22T00:00:00",
          "disease": "malaria"
         },
         {
          "count": 2,
          "date": "2018-01-22T00:00:00",
          "disease": "riftvalleyfever"
         },
         {
          "count": 1,
          "date": "2018-01-22T00:00:00",
          "disease": "mers-cov"
         },
         {
          "count": 2,
          "date": "2018-01-22T00:00:00",
          "disease": "diphtheria"
         },
         {
          "count": 0,
          "date": "2018-01-29T00:00:00",
          "disease": "measles"
         },
         {
          "count": 1,
          "date": "2018-01-29T00:00:00",
          "disease": "cholera"
         },
         {
          "count": 0,
          "date": "2018-01-29T00:00:00",
          "disease": "dengue"
         },
         {
          "count": 1,
          "date": "2018-01-29T00:00:00",
          "disease": "yellowfever"
         },
         {
          "count": 0,
          "date": "2018-01-29T00:00:00",
          "disease": "undiagnoseddisease"
         },
         {
          "count": 2,
          "date": "2018-01-29T00:00:00",
          "disease": "lassafever"
         },
         {
          "count": 0,
          "date": "2018-01-29T00:00:00",
          "disease": "malaria"
         },
         {
          "count": 1,
          "date": "2018-01-29T00:00:00",
          "disease": "riftvalleyfever"
         },
         {
          "count": 0,
          "date": "2018-01-29T00:00:00",
          "disease": "mers-cov"
         },
         {
          "count": 0,
          "date": "2018-01-29T00:00:00",
          "disease": "diphtheria"
         },
         {
          "count": 4,
          "date": "2018-02-05T00:00:00",
          "disease": "measles"
         },
         {
          "count": 2,
          "date": "2018-02-05T00:00:00",
          "disease": "cholera"
         },
         {
          "count": 2,
          "date": "2018-02-05T00:00:00",
          "disease": "dengue"
         },
         {
          "count": 2,
          "date": "2018-02-05T00:00:00",
          "disease": "yellowfever"
         },
         {
          "count": 0,
          "date": "2018-02-05T00:00:00",
          "disease": "undiagnoseddisease"
         },
         {
          "count": 1,
          "date": "2018-02-05T00:00:00",
          "disease": "lassafever"
         },
         {
          "count": 0,
          "date": "2018-02-05T00:00:00",
          "disease": "malaria"
         },
         {
          "count": 0,
          "date": "2018-02-05T00:00:00",
          "disease": "riftvalleyfever"
         },
         {
          "count": 1,
          "date": "2018-02-05T00:00:00",
          "disease": "mers-cov"
         },
         {
          "count": 0,
          "date": "2018-02-05T00:00:00",
          "disease": "diphtheria"
         },
         {
          "count": 2,
          "date": "2018-02-12T00:00:00",
          "disease": "measles"
         },
         {
          "count": 1,
          "date": "2018-02-12T00:00:00",
          "disease": "cholera"
         },
         {
          "count": 0,
          "date": "2018-02-12T00:00:00",
          "disease": "dengue"
         },
         {
          "count": 0,
          "date": "2018-02-12T00:00:00",
          "disease": "yellowfever"
         },
         {
          "count": 0,
          "date": "2018-02-12T00:00:00",
          "disease": "undiagnoseddisease"
         },
         {
          "count": 0,
          "date": "2018-02-12T00:00:00",
          "disease": "lassafever"
         },
         {
          "count": 0,
          "date": "2018-02-12T00:00:00",
          "disease": "malaria"
         },
         {
          "count": 1,
          "date": "2018-02-12T00:00:00",
          "disease": "riftvalleyfever"
         },
         {
          "count": 0,
          "date": "2018-02-12T00:00:00",
          "disease": "mers-cov"
         },
         {
          "count": 0,
          "date": "2018-02-12T00:00:00",
          "disease": "diphtheria"
         },
         {
          "count": 1,
          "date": "2018-02-19T00:00:00",
          "disease": "measles"
         },
         {
          "count": 1,
          "date": "2018-02-19T00:00:00",
          "disease": "cholera"
         },
         {
          "count": 0,
          "date": "2018-02-19T00:00:00",
          "disease": "dengue"
         },
         {
          "count": 3,
          "date": "2018-02-19T00:00:00",
          "disease": "yellowfever"
         },
         {
          "count": 0,
          "date": "2018-02-19T00:00:00",
          "disease": "undiagnoseddisease"
         },
         {
          "count": 0,
          "date": "2018-02-19T00:00:00",
          "disease": "lassafever"
         },
         {
          "count": 0,
          "date": "2018-02-19T00:00:00",
          "disease": "malaria"
         },
         {
          "count": 0,
          "date": "2018-02-19T00:00:00",
          "disease": "riftvalleyfever"
         },
         {
          "count": 0,
          "date": "2018-02-19T00:00:00",
          "disease": "mers-cov"
         },
         {
          "count": 0,
          "date": "2018-02-19T00:00:00",
          "disease": "diphtheria"
         },
         {
          "count": 1,
          "date": "2018-02-26T00:00:00",
          "disease": "measles"
         },
         {
          "count": 0,
          "date": "2018-02-26T00:00:00",
          "disease": "cholera"
         },
         {
          "count": 0,
          "date": "2018-02-26T00:00:00",
          "disease": "dengue"
         },
         {
          "count": 3,
          "date": "2018-02-26T00:00:00",
          "disease": "yellowfever"
         },
         {
          "count": 0,
          "date": "2018-02-26T00:00:00",
          "disease": "undiagnoseddisease"
         },
         {
          "count": 1,
          "date": "2018-02-26T00:00:00",
          "disease": "lassafever"
         },
         {
          "count": 2,
          "date": "2018-02-26T00:00:00",
          "disease": "malaria"
         },
         {
          "count": 0,
          "date": "2018-02-26T00:00:00",
          "disease": "riftvalleyfever"
         },
         {
          "count": 0,
          "date": "2018-02-26T00:00:00",
          "disease": "mers-cov"
         },
         {
          "count": 0,
          "date": "2018-02-26T00:00:00",
          "disease": "diphtheria"
         },
         {
          "count": 2,
          "date": "2018-03-05T00:00:00",
          "disease": "measles"
         },
         {
          "count": 5,
          "date": "2018-03-05T00:00:00",
          "disease": "cholera"
         },
         {
          "count": 0,
          "date": "2018-03-05T00:00:00",
          "disease": "dengue"
         },
         {
          "count": 1,
          "date": "2018-03-05T00:00:00",
          "disease": "yellowfever"
         },
         {
          "count": 0,
          "date": "2018-03-05T00:00:00",
          "disease": "undiagnoseddisease"
         },
         {
          "count": 1,
          "date": "2018-03-05T00:00:00",
          "disease": "lassafever"
         },
         {
          "count": 0,
          "date": "2018-03-05T00:00:00",
          "disease": "malaria"
         },
         {
          "count": 1,
          "date": "2018-03-05T00:00:00",
          "disease": "riftvalleyfever"
         },
         {
          "count": 2,
          "date": "2018-03-05T00:00:00",
          "disease": "mers-cov"
         },
         {
          "count": 0,
          "date": "2018-03-05T00:00:00",
          "disease": "diphtheria"
         },
         {
          "count": 4,
          "date": "2018-03-12T00:00:00",
          "disease": "measles"
         },
         {
          "count": 0,
          "date": "2018-03-12T00:00:00",
          "disease": "cholera"
         },
         {
          "count": 0,
          "date": "2018-03-12T00:00:00",
          "disease": "dengue"
         },
         {
          "count": 1,
          "date": "2018-03-12T00:00:00",
          "disease": "yellowfever"
         },
         {
          "count": 0,
          "date": "2018-03-12T00:00:00",
          "disease": "undiagnoseddisease"
         },
         {
          "count": 1,
          "date": "2018-03-12T00:00:00",
          "disease": "lassafever"
         },
         {
          "count": 1,
          "date": "2018-03-12T00:00:00",
          "disease": "malaria"
         },
         {
          "count": 0,
          "date": "2018-03-12T00:00:00",
          "disease": "riftvalleyfever"
         },
         {
          "count": 0,
          "date": "2018-03-12T00:00:00",
          "disease": "mers-cov"
         },
         {
          "count": 0,
          "date": "2018-03-12T00:00:00",
          "disease": "diphtheria"
         },
         {
          "count": 2,
          "date": "2018-03-19T00:00:00",
          "disease": "measles"
         },
         {
          "count": 1,
          "date": "2018-03-19T00:00:00",
          "disease": "cholera"
         },
         {
          "count": 2,
          "date": "2018-03-19T00:00:00",
          "disease": "dengue"
         },
         {
          "count": 0,
          "date": "2018-03-19T00:00:00",
          "disease": "yellowfever"
         },
         {
          "count": 0,
          "date": "2018-03-19T00:00:00",
          "disease": "undiagnoseddisease"
         },
         {
          "count": 1,
          "date": "2018-03-19T00:00:00",
          "disease": "lassafever"
         },
         {
          "count": 0,
          "date": "2018-03-19T00:00:00",
          "disease": "malaria"
         },
         {
          "count": 0,
          "date": "2018-03-19T00:00:00",
          "disease": "riftvalleyfever"
         },
         {
          "count": 0,
          "date": "2018-03-19T00:00:00",
          "disease": "mers-cov"
         },
         {
          "count": 0,
          "date": "2018-03-19T00:00:00",
          "disease": "diphtheria"
         },
         {
          "count": 2,
          "date": "2018-03-26T00:00:00",
          "disease": "measles"
         },
         {
          "count": 1,
          "date": "2018-03-26T00:00:00",
          "disease": "cholera"
         },
         {
          "count": 0,
          "date": "2018-03-26T00:00:00",
          "disease": "dengue"
         },
         {
          "count": 1,
          "date": "2018-03-26T00:00:00",
          "disease": "yellowfever"
         },
         {
          "count": 0,
          "date": "2018-03-26T00:00:00",
          "disease": "undiagnoseddisease"
         },
         {
          "count": 0,
          "date": "2018-03-26T00:00:00",
          "disease": "lassafever"
         },
         {
          "count": 1,
          "date": "2018-03-26T00:00:00",
          "disease": "malaria"
         },
         {
          "count": 0,
          "date": "2018-03-26T00:00:00",
          "disease": "riftvalleyfever"
         },
         {
          "count": 0,
          "date": "2018-03-26T00:00:00",
          "disease": "mers-cov"
         },
         {
          "count": 0,
          "date": "2018-03-26T00:00:00",
          "disease": "diphtheria"
         },
         {
          "count": 4,
          "date": "2018-04-02T00:00:00",
          "disease": "measles"
         },
         {
          "count": 4,
          "date": "2018-04-02T00:00:00",
          "disease": "cholera"
         },
         {
          "count": 0,
          "date": "2018-04-02T00:00:00",
          "disease": "dengue"
         },
         {
          "count": 0,
          "date": "2018-04-02T00:00:00",
          "disease": "yellowfever"
         },
         {
          "count": 1,
          "date": "2018-04-02T00:00:00",
          "disease": "undiagnoseddisease"
         },
         {
          "count": 2,
          "date": "2018-04-02T00:00:00",
          "disease": "lassafever"
         },
         {
          "count": 0,
          "date": "2018-04-02T00:00:00",
          "disease": "malaria"
         },
         {
          "count": 0,
          "date": "2018-04-02T00:00:00",
          "disease": "riftvalleyfever"
         },
         {
          "count": 0,
          "date": "2018-04-02T00:00:00",
          "disease": "mers-cov"
         },
         {
          "count": 0,
          "date": "2018-04-02T00:00:00",
          "disease": "diphtheria"
         },
         {
          "count": 0,
          "date": "2018-04-09T00:00:00",
          "disease": "measles"
         },
         {
          "count": 0,
          "date": "2018-04-09T00:00:00",
          "disease": "cholera"
         },
         {
          "count": 2,
          "date": "2018-04-09T00:00:00",
          "disease": "dengue"
         },
         {
          "count": 0,
          "date": "2018-04-09T00:00:00",
          "disease": "yellowfever"
         },
         {
          "count": 0,
          "date": "2018-04-09T00:00:00",
          "disease": "undiagnoseddisease"
         },
         {
          "count": 0,
          "date": "2018-04-09T00:00:00",
          "disease": "lassafever"
         },
         {
          "count": 0,
          "date": "2018-04-09T00:00:00",
          "disease": "malaria"
         },
         {
          "count": 0,
          "date": "2018-04-09T00:00:00",
          "disease": "riftvalleyfever"
         },
         {
          "count": 0,
          "date": "2018-04-09T00:00:00",
          "disease": "mers-cov"
         },
         {
          "count": 1,
          "date": "2018-04-09T00:00:00",
          "disease": "diphtheria"
         },
         {
          "count": 4,
          "date": "2018-04-16T00:00:00",
          "disease": "measles"
         },
         {
          "count": 3,
          "date": "2018-04-16T00:00:00",
          "disease": "cholera"
         },
         {
          "count": 0,
          "date": "2018-04-16T00:00:00",
          "disease": "dengue"
         },
         {
          "count": 0,
          "date": "2018-04-16T00:00:00",
          "disease": "yellowfever"
         },
         {
          "count": 0,
          "date": "2018-04-16T00:00:00",
          "disease": "undiagnoseddisease"
         },
         {
          "count": 1,
          "date": "2018-04-16T00:00:00",
          "disease": "lassafever"
         },
         {
          "count": 1,
          "date": "2018-04-16T00:00:00",
          "disease": "malaria"
         },
         {
          "count": 0,
          "date": "2018-04-16T00:00:00",
          "disease": "riftvalleyfever"
         },
         {
          "count": 0,
          "date": "2018-04-16T00:00:00",
          "disease": "mers-cov"
         },
         {
          "count": 0,
          "date": "2018-04-16T00:00:00",
          "disease": "diphtheria"
         },
         {
          "count": 3,
          "date": "2018-04-23T00:00:00",
          "disease": "measles"
         },
         {
          "count": 0,
          "date": "2018-04-23T00:00:00",
          "disease": "cholera"
         },
         {
          "count": 0,
          "date": "2018-04-23T00:00:00",
          "disease": "dengue"
         },
         {
          "count": 0,
          "date": "2018-04-23T00:00:00",
          "disease": "yellowfever"
         },
         {
          "count": 0,
          "date": "2018-04-23T00:00:00",
          "disease": "undiagnoseddisease"
         },
         {
          "count": 0,
          "date": "2018-04-23T00:00:00",
          "disease": "lassafever"
         },
         {
          "count": 4,
          "date": "2018-04-23T00:00:00",
          "disease": "malaria"
         },
         {
          "count": 0,
          "date": "2018-04-23T00:00:00",
          "disease": "riftvalleyfever"
         },
         {
          "count": 0,
          "date": "2018-04-23T00:00:00",
          "disease": "mers-cov"
         },
         {
          "count": 0,
          "date": "2018-04-23T00:00:00",
          "disease": "diphtheria"
         },
         {
          "count": 2,
          "date": "2018-04-30T00:00:00",
          "disease": "measles"
         },
         {
          "count": 0,
          "date": "2018-04-30T00:00:00",
          "disease": "cholera"
         },
         {
          "count": 2,
          "date": "2018-04-30T00:00:00",
          "disease": "dengue"
         },
         {
          "count": 3,
          "date": "2018-04-30T00:00:00",
          "disease": "yellowfever"
         },
         {
          "count": 0,
          "date": "2018-04-30T00:00:00",
          "disease": "undiagnoseddisease"
         },
         {
          "count": 0,
          "date": "2018-04-30T00:00:00",
          "disease": "lassafever"
         },
         {
          "count": 1,
          "date": "2018-04-30T00:00:00",
          "disease": "malaria"
         },
         {
          "count": 0,
          "date": "2018-04-30T00:00:00",
          "disease": "riftvalleyfever"
         },
         {
          "count": 1,
          "date": "2018-04-30T00:00:00",
          "disease": "mers-cov"
         },
         {
          "count": 1,
          "date": "2018-04-30T00:00:00",
          "disease": "diphtheria"
         },
         {
          "count": 1,
          "date": "2018-05-07T00:00:00",
          "disease": "measles"
         },
         {
          "count": 2,
          "date": "2018-05-07T00:00:00",
          "disease": "cholera"
         },
         {
          "count": 1,
          "date": "2018-05-07T00:00:00",
          "disease": "dengue"
         },
         {
          "count": 0,
          "date": "2018-05-07T00:00:00",
          "disease": "yellowfever"
         },
         {
          "count": 1,
          "date": "2018-05-07T00:00:00",
          "disease": "undiagnoseddisease"
         },
         {
          "count": 3,
          "date": "2018-05-07T00:00:00",
          "disease": "lassafever"
         },
         {
          "count": 2,
          "date": "2018-05-07T00:00:00",
          "disease": "malaria"
         },
         {
          "count": 0,
          "date": "2018-05-07T00:00:00",
          "disease": "riftvalleyfever"
         },
         {
          "count": 1,
          "date": "2018-05-07T00:00:00",
          "disease": "mers-cov"
         },
         {
          "count": 0,
          "date": "2018-05-07T00:00:00",
          "disease": "diphtheria"
         },
         {
          "count": 6,
          "date": "2018-05-14T00:00:00",
          "disease": "measles"
         },
         {
          "count": 1,
          "date": "2018-05-14T00:00:00",
          "disease": "cholera"
         },
         {
          "count": 1,
          "date": "2018-05-14T00:00:00",
          "disease": "dengue"
         },
         {
          "count": 0,
          "date": "2018-05-14T00:00:00",
          "disease": "yellowfever"
         },
         {
          "count": 0,
          "date": "2018-05-14T00:00:00",
          "disease": "undiagnoseddisease"
         },
         {
          "count": 2,
          "date": "2018-05-14T00:00:00",
          "disease": "lassafever"
         },
         {
          "count": 0,
          "date": "2018-05-14T00:00:00",
          "disease": "malaria"
         },
         {
          "count": 2,
          "date": "2018-05-14T00:00:00",
          "disease": "riftvalleyfever"
         },
         {
          "count": 1,
          "date": "2018-05-14T00:00:00",
          "disease": "mers-cov"
         },
         {
          "count": 0,
          "date": "2018-05-14T00:00:00",
          "disease": "diphtheria"
         },
         {
          "count": 3,
          "date": "2018-05-21T00:00:00",
          "disease": "measles"
         },
         {
          "count": 5,
          "date": "2018-05-21T00:00:00",
          "disease": "cholera"
         },
         {
          "count": 3,
          "date": "2018-05-21T00:00:00",
          "disease": "dengue"
         },
         {
          "count": 0,
          "date": "2018-05-21T00:00:00",
          "disease": "yellowfever"
         },
         {
          "count": 2,
          "date": "2018-05-21T00:00:00",
          "disease": "undiagnoseddisease"
         },
         {
          "count": 0,
          "date": "2018-05-21T00:00:00",
          "disease": "lassafever"
         },
         {
          "count": 1,
          "date": "2018-05-21T00:00:00",
          "disease": "malaria"
         },
         {
          "count": 0,
          "date": "2018-05-21T00:00:00",
          "disease": "riftvalleyfever"
         },
         {
          "count": 0,
          "date": "2018-05-21T00:00:00",
          "disease": "mers-cov"
         },
         {
          "count": 0,
          "date": "2018-05-21T00:00:00",
          "disease": "diphtheria"
         },
         {
          "count": 2,
          "date": "2018-05-28T00:00:00",
          "disease": "measles"
         },
         {
          "count": 2,
          "date": "2018-05-28T00:00:00",
          "disease": "cholera"
         },
         {
          "count": 0,
          "date": "2018-05-28T00:00:00",
          "disease": "dengue"
         },
         {
          "count": 0,
          "date": "2018-05-28T00:00:00",
          "disease": "yellowfever"
         },
         {
          "count": 1,
          "date": "2018-05-28T00:00:00",
          "disease": "undiagnoseddisease"
         },
         {
          "count": 0,
          "date": "2018-05-28T00:00:00",
          "disease": "lassafever"
         },
         {
          "count": 0,
          "date": "2018-05-28T00:00:00",
          "disease": "malaria"
         },
         {
          "count": 0,
          "date": "2018-05-28T00:00:00",
          "disease": "riftvalleyfever"
         },
         {
          "count": 2,
          "date": "2018-05-28T00:00:00",
          "disease": "mers-cov"
         },
         {
          "count": 0,
          "date": "2018-05-28T00:00:00",
          "disease": "diphtheria"
         },
         {
          "count": 1,
          "date": "2018-06-04T00:00:00",
          "disease": "measles"
         },
         {
          "count": 5,
          "date": "2018-06-04T00:00:00",
          "disease": "cholera"
         },
         {
          "count": 3,
          "date": "2018-06-04T00:00:00",
          "disease": "dengue"
         },
         {
          "count": 0,
          "date": "2018-06-04T00:00:00",
          "disease": "yellowfever"
         },
         {
          "count": 2,
          "date": "2018-06-04T00:00:00",
          "disease": "undiagnoseddisease"
         },
         {
          "count": 1,
          "date": "2018-06-04T00:00:00",
          "disease": "lassafever"
         },
         {
          "count": 0,
          "date": "2018-06-04T00:00:00",
          "disease": "malaria"
         },
         {
          "count": 4,
          "date": "2018-06-04T00:00:00",
          "disease": "riftvalleyfever"
         },
         {
          "count": 0,
          "date": "2018-06-04T00:00:00",
          "disease": "mers-cov"
         },
         {
          "count": 0,
          "date": "2018-06-04T00:00:00",
          "disease": "diphtheria"
         },
         {
          "count": 5,
          "date": "2018-06-11T00:00:00",
          "disease": "measles"
         },
         {
          "count": 2,
          "date": "2018-06-11T00:00:00",
          "disease": "cholera"
         },
         {
          "count": 1,
          "date": "2018-06-11T00:00:00",
          "disease": "dengue"
         },
         {
          "count": 0,
          "date": "2018-06-11T00:00:00",
          "disease": "yellowfever"
         },
         {
          "count": 0,
          "date": "2018-06-11T00:00:00",
          "disease": "undiagnoseddisease"
         },
         {
          "count": 1,
          "date": "2018-06-11T00:00:00",
          "disease": "lassafever"
         },
         {
          "count": 1,
          "date": "2018-06-11T00:00:00",
          "disease": "malaria"
         },
         {
          "count": 2,
          "date": "2018-06-11T00:00:00",
          "disease": "riftvalleyfever"
         },
         {
          "count": 1,
          "date": "2018-06-11T00:00:00",
          "disease": "mers-cov"
         },
         {
          "count": 0,
          "date": "2018-06-11T00:00:00",
          "disease": "diphtheria"
         },
         {
          "count": 0,
          "date": "2018-06-18T00:00:00",
          "disease": "measles"
         },
         {
          "count": 1,
          "date": "2018-06-18T00:00:00",
          "disease": "cholera"
         },
         {
          "count": 0,
          "date": "2018-06-18T00:00:00",
          "disease": "dengue"
         },
         {
          "count": 1,
          "date": "2018-06-18T00:00:00",
          "disease": "yellowfever"
         },
         {
          "count": 1,
          "date": "2018-06-18T00:00:00",
          "disease": "undiagnoseddisease"
         },
         {
          "count": 0,
          "date": "2018-06-18T00:00:00",
          "disease": "lassafever"
         },
         {
          "count": 0,
          "date": "2018-06-18T00:00:00",
          "disease": "malaria"
         },
         {
          "count": 1,
          "date": "2018-06-18T00:00:00",
          "disease": "riftvalleyfever"
         },
         {
          "count": 0,
          "date": "2018-06-18T00:00:00",
          "disease": "mers-cov"
         },
         {
          "count": 1,
          "date": "2018-06-18T00:00:00",
          "disease": "diphtheria"
         },
         {
          "count": 0,
          "date": "2018-06-25T00:00:00",
          "disease": "measles"
         },
         {
          "count": 5,
          "date": "2018-06-25T00:00:00",
          "disease": "cholera"
         },
         {
          "count": 1,
          "date": "2018-06-25T00:00:00",
          "disease": "dengue"
         },
         {
          "count": 0,
          "date": "2018-06-25T00:00:00",
          "disease": "yellowfever"
         },
         {
          "count": 0,
          "date": "2018-06-25T00:00:00",
          "disease": "undiagnoseddisease"
         },
         {
          "count": 1,
          "date": "2018-06-25T00:00:00",
          "disease": "lassafever"
         },
         {
          "count": 0,
          "date": "2018-06-25T00:00:00",
          "disease": "malaria"
         },
         {
          "count": 2,
          "date": "2018-06-25T00:00:00",
          "disease": "riftvalleyfever"
         },
         {
          "count": 0,
          "date": "2018-06-25T00:00:00",
          "disease": "mers-cov"
         },
         {
          "count": 0,
          "date": "2018-06-25T00:00:00",
          "disease": "diphtheria"
         },
         {
          "count": 1,
          "date": "2018-07-02T00:00:00",
          "disease": "measles"
         },
         {
          "count": 2,
          "date": "2018-07-02T00:00:00",
          "disease": "cholera"
         },
         {
          "count": 1,
          "date": "2018-07-02T00:00:00",
          "disease": "dengue"
         },
         {
          "count": 2,
          "date": "2018-07-02T00:00:00",
          "disease": "yellowfever"
         },
         {
          "count": 1,
          "date": "2018-07-02T00:00:00",
          "disease": "undiagnoseddisease"
         },
         {
          "count": 0,
          "date": "2018-07-02T00:00:00",
          "disease": "lassafever"
         },
         {
          "count": 0,
          "date": "2018-07-02T00:00:00",
          "disease": "malaria"
         },
         {
          "count": 1,
          "date": "2018-07-02T00:00:00",
          "disease": "riftvalleyfever"
         },
         {
          "count": 0,
          "date": "2018-07-02T00:00:00",
          "disease": "mers-cov"
         },
         {
          "count": 0,
          "date": "2018-07-02T00:00:00",
          "disease": "diphtheria"
         },
         {
          "count": 1,
          "date": "2018-07-09T00:00:00",
          "disease": "measles"
         },
         {
          "count": 5,
          "date": "2018-07-09T00:00:00",
          "disease": "cholera"
         },
         {
          "count": 0,
          "date": "2018-07-09T00:00:00",
          "disease": "dengue"
         },
         {
          "count": 0,
          "date": "2018-07-09T00:00:00",
          "disease": "yellowfever"
         },
         {
          "count": 1,
          "date": "2018-07-09T00:00:00",
          "disease": "undiagnoseddisease"
         },
         {
          "count": 0,
          "date": "2018-07-09T00:00:00",
          "disease": "lassafever"
         },
         {
          "count": 0,
          "date": "2018-07-09T00:00:00",
          "disease": "malaria"
         },
         {
          "count": 1,
          "date": "2018-07-09T00:00:00",
          "disease": "riftvalleyfever"
         },
         {
          "count": 0,
          "date": "2018-07-09T00:00:00",
          "disease": "mers-cov"
         },
         {
          "count": 2,
          "date": "2018-07-09T00:00:00",
          "disease": "diphtheria"
         },
         {
          "count": 2,
          "date": "2018-07-16T00:00:00",
          "disease": "measles"
         },
         {
          "count": 2,
          "date": "2018-07-16T00:00:00",
          "disease": "cholera"
         },
         {
          "count": 0,
          "date": "2018-07-16T00:00:00",
          "disease": "dengue"
         },
         {
          "count": 0,
          "date": "2018-07-16T00:00:00",
          "disease": "yellowfever"
         },
         {
          "count": 1,
          "date": "2018-07-16T00:00:00",
          "disease": "undiagnoseddisease"
         },
         {
          "count": 0,
          "date": "2018-07-16T00:00:00",
          "disease": "lassafever"
         },
         {
          "count": 0,
          "date": "2018-07-16T00:00:00",
          "disease": "malaria"
         },
         {
          "count": 1,
          "date": "2018-07-16T00:00:00",
          "disease": "riftvalleyfever"
         },
         {
          "count": 0,
          "date": "2018-07-16T00:00:00",
          "disease": "mers-cov"
         },
         {
          "count": 0,
          "date": "2018-07-16T00:00:00",
          "disease": "diphtheria"
         },
         {
          "count": 0,
          "date": "2018-07-23T00:00:00",
          "disease": "measles"
         },
         {
          "count": 2,
          "date": "2018-07-23T00:00:00",
          "disease": "cholera"
         },
         {
          "count": 0,
          "date": "2018-07-23T00:00:00",
          "disease": "dengue"
         },
         {
          "count": 0,
          "date": "2018-07-23T00:00:00",
          "disease": "yellowfever"
         },
         {
          "count": 4,
          "date": "2018-07-23T00:00:00",
          "disease": "undiagnoseddisease"
         },
         {
          "count": 0,
          "date": "2018-07-23T00:00:00",
          "disease": "lassafever"
         },
         {
          "count": 0,
          "date": "2018-07-23T00:00:00",
          "disease": "malaria"
         },
         {
          "count": 0,
          "date": "2018-07-23T00:00:00",
          "disease": "riftvalleyfever"
         },
         {
          "count": 0,
          "date": "2018-07-23T00:00:00",
          "disease": "mers-cov"
         },
         {
          "count": 1,
          "date": "2018-07-23T00:00:00",
          "disease": "diphtheria"
         },
         {
          "count": 0,
          "date": "2018-07-30T00:00:00",
          "disease": "measles"
         },
         {
          "count": 2,
          "date": "2018-07-30T00:00:00",
          "disease": "cholera"
         },
         {
          "count": 0,
          "date": "2018-07-30T00:00:00",
          "disease": "dengue"
         },
         {
          "count": 1,
          "date": "2018-07-30T00:00:00",
          "disease": "yellowfever"
         },
         {
          "count": 3,
          "date": "2018-07-30T00:00:00",
          "disease": "undiagnoseddisease"
         },
         {
          "count": 0,
          "date": "2018-07-30T00:00:00",
          "disease": "lassafever"
         },
         {
          "count": 0,
          "date": "2018-07-30T00:00:00",
          "disease": "malaria"
         },
         {
          "count": 0,
          "date": "2018-07-30T00:00:00",
          "disease": "riftvalleyfever"
         },
         {
          "count": 0,
          "date": "2018-07-30T00:00:00",
          "disease": "mers-cov"
         },
         {
          "count": 0,
          "date": "2018-07-30T00:00:00",
          "disease": "diphtheria"
         },
         {
          "count": 0,
          "date": "2018-08-06T00:00:00",
          "disease": "measles"
         },
         {
          "count": 0,
          "date": "2018-08-06T00:00:00",
          "disease": "cholera"
         },
         {
          "count": 0,
          "date": "2018-08-06T00:00:00",
          "disease": "dengue"
         },
         {
          "count": 0,
          "date": "2018-08-06T00:00:00",
          "disease": "yellowfever"
         },
         {
          "count": 3,
          "date": "2018-08-06T00:00:00",
          "disease": "undiagnoseddisease"
         },
         {
          "count": 1,
          "date": "2018-08-06T00:00:00",
          "disease": "lassafever"
         },
         {
          "count": 1,
          "date": "2018-08-06T00:00:00",
          "disease": "malaria"
         },
         {
          "count": 0,
          "date": "2018-08-06T00:00:00",
          "disease": "riftvalleyfever"
         },
         {
          "count": 1,
          "date": "2018-08-06T00:00:00",
          "disease": "mers-cov"
         },
         {
          "count": 0,
          "date": "2018-08-06T00:00:00",
          "disease": "diphtheria"
         },
         {
          "count": 1,
          "date": "2018-08-13T00:00:00",
          "disease": "measles"
         },
         {
          "count": 1,
          "date": "2018-08-13T00:00:00",
          "disease": "cholera"
         },
         {
          "count": 0,
          "date": "2018-08-13T00:00:00",
          "disease": "dengue"
         },
         {
          "count": 3,
          "date": "2018-08-13T00:00:00",
          "disease": "yellowfever"
         },
         {
          "count": 1,
          "date": "2018-08-13T00:00:00",
          "disease": "undiagnoseddisease"
         },
         {
          "count": 0,
          "date": "2018-08-13T00:00:00",
          "disease": "lassafever"
         },
         {
          "count": 0,
          "date": "2018-08-13T00:00:00",
          "disease": "malaria"
         },
         {
          "count": 0,
          "date": "2018-08-13T00:00:00",
          "disease": "riftvalleyfever"
         },
         {
          "count": 0,
          "date": "2018-08-13T00:00:00",
          "disease": "mers-cov"
         },
         {
          "count": 0,
          "date": "2018-08-13T00:00:00",
          "disease": "diphtheria"
         },
         {
          "count": 1,
          "date": "2018-08-20T00:00:00",
          "disease": "measles"
         },
         {
          "count": 1,
          "date": "2018-08-20T00:00:00",
          "disease": "cholera"
         },
         {
          "count": 1,
          "date": "2018-08-20T00:00:00",
          "disease": "dengue"
         },
         {
          "count": 2,
          "date": "2018-08-20T00:00:00",
          "disease": "yellowfever"
         },
         {
          "count": 1,
          "date": "2018-08-20T00:00:00",
          "disease": "undiagnoseddisease"
         },
         {
          "count": 0,
          "date": "2018-08-20T00:00:00",
          "disease": "lassafever"
         },
         {
          "count": 0,
          "date": "2018-08-20T00:00:00",
          "disease": "malaria"
         },
         {
          "count": 0,
          "date": "2018-08-20T00:00:00",
          "disease": "riftvalleyfever"
         },
         {
          "count": 1,
          "date": "2018-08-20T00:00:00",
          "disease": "mers-cov"
         },
         {
          "count": 0,
          "date": "2018-08-20T00:00:00",
          "disease": "diphtheria"
         },
         {
          "count": 0,
          "date": "2018-08-27T00:00:00",
          "disease": "measles"
         },
         {
          "count": 0,
          "date": "2018-08-27T00:00:00",
          "disease": "cholera"
         },
         {
          "count": 0,
          "date": "2018-08-27T00:00:00",
          "disease": "dengue"
         },
         {
          "count": 1,
          "date": "2018-08-27T00:00:00",
          "disease": "yellowfever"
         },
         {
          "count": 0,
          "date": "2018-08-27T00:00:00",
          "disease": "undiagnoseddisease"
         },
         {
          "count": 0,
          "date": "2018-08-27T00:00:00",
          "disease": "lassafever"
         },
         {
          "count": 0,
          "date": "2018-08-27T00:00:00",
          "disease": "malaria"
         },
         {
          "count": 0,
          "date": "2018-08-27T00:00:00",
          "disease": "riftvalleyfever"
         },
         {
          "count": 0,
          "date": "2018-08-27T00:00:00",
          "disease": "mers-cov"
         },
         {
          "count": 0,
          "date": "2018-08-27T00:00:00",
          "disease": "diphtheria"
         },
         {
          "count": 0,
          "date": "2018-09-03T00:00:00",
          "disease": "measles"
         },
         {
          "count": 2,
          "date": "2018-09-03T00:00:00",
          "disease": "cholera"
         },
         {
          "count": 0,
          "date": "2018-09-03T00:00:00",
          "disease": "dengue"
         },
         {
          "count": 0,
          "date": "2018-09-03T00:00:00",
          "disease": "yellowfever"
         },
         {
          "count": 1,
          "date": "2018-09-03T00:00:00",
          "disease": "undiagnoseddisease"
         },
         {
          "count": 0,
          "date": "2018-09-03T00:00:00",
          "disease": "lassafever"
         },
         {
          "count": 0,
          "date": "2018-09-03T00:00:00",
          "disease": "malaria"
         },
         {
          "count": 0,
          "date": "2018-09-03T00:00:00",
          "disease": "riftvalleyfever"
         },
         {
          "count": 2,
          "date": "2018-09-03T00:00:00",
          "disease": "mers-cov"
         },
         {
          "count": 0,
          "date": "2018-09-03T00:00:00",
          "disease": "diphtheria"
         },
         {
          "count": 0,
          "date": "2018-09-10T00:00:00",
          "disease": "measles"
         },
         {
          "count": 2,
          "date": "2018-09-10T00:00:00",
          "disease": "cholera"
         },
         {
          "count": 0,
          "date": "2018-09-10T00:00:00",
          "disease": "dengue"
         },
         {
          "count": 0,
          "date": "2018-09-10T00:00:00",
          "disease": "yellowfever"
         },
         {
          "count": 2,
          "date": "2018-09-10T00:00:00",
          "disease": "undiagnoseddisease"
         },
         {
          "count": 0,
          "date": "2018-09-10T00:00:00",
          "disease": "lassafever"
         },
         {
          "count": 0,
          "date": "2018-09-10T00:00:00",
          "disease": "malaria"
         },
         {
          "count": 0,
          "date": "2018-09-10T00:00:00",
          "disease": "riftvalleyfever"
         },
         {
          "count": 0,
          "date": "2018-09-10T00:00:00",
          "disease": "mers-cov"
         },
         {
          "count": 0,
          "date": "2018-09-10T00:00:00",
          "disease": "diphtheria"
         },
         {
          "count": 0,
          "date": "2018-09-17T00:00:00",
          "disease": "measles"
         },
         {
          "count": 3,
          "date": "2018-09-17T00:00:00",
          "disease": "cholera"
         },
         {
          "count": 0,
          "date": "2018-09-17T00:00:00",
          "disease": "dengue"
         },
         {
          "count": 0,
          "date": "2018-09-17T00:00:00",
          "disease": "yellowfever"
         },
         {
          "count": 0,
          "date": "2018-09-17T00:00:00",
          "disease": "undiagnoseddisease"
         },
         {
          "count": 0,
          "date": "2018-09-17T00:00:00",
          "disease": "lassafever"
         },
         {
          "count": 0,
          "date": "2018-09-17T00:00:00",
          "disease": "malaria"
         },
         {
          "count": 0,
          "date": "2018-09-17T00:00:00",
          "disease": "riftvalleyfever"
         },
         {
          "count": 1,
          "date": "2018-09-17T00:00:00",
          "disease": "mers-cov"
         },
         {
          "count": 0,
          "date": "2018-09-17T00:00:00",
          "disease": "diphtheria"
         },
         {
          "count": 0,
          "date": "2018-09-24T00:00:00",
          "disease": "measles"
         },
         {
          "count": 1,
          "date": "2018-09-24T00:00:00",
          "disease": "cholera"
         },
         {
          "count": 0,
          "date": "2018-09-24T00:00:00",
          "disease": "dengue"
         },
         {
          "count": 3,
          "date": "2018-09-24T00:00:00",
          "disease": "yellowfever"
         },
         {
          "count": 0,
          "date": "2018-09-24T00:00:00",
          "disease": "undiagnoseddisease"
         },
         {
          "count": 0,
          "date": "2018-09-24T00:00:00",
          "disease": "lassafever"
         },
         {
          "count": 0,
          "date": "2018-09-24T00:00:00",
          "disease": "malaria"
         },
         {
          "count": 0,
          "date": "2018-09-24T00:00:00",
          "disease": "riftvalleyfever"
         },
         {
          "count": 0,
          "date": "2018-09-24T00:00:00",
          "disease": "mers-cov"
         },
         {
          "count": 0,
          "date": "2018-09-24T00:00:00",
          "disease": "diphtheria"
         },
         {
          "count": 0,
          "date": "2018-10-01T00:00:00",
          "disease": "measles"
         },
         {
          "count": 1,
          "date": "2018-10-01T00:00:00",
          "disease": "cholera"
         },
         {
          "count": 0,
          "date": "2018-10-01T00:00:00",
          "disease": "dengue"
         },
         {
          "count": 2,
          "date": "2018-10-01T00:00:00",
          "disease": "yellowfever"
         },
         {
          "count": 0,
          "date": "2018-10-01T00:00:00",
          "disease": "undiagnoseddisease"
         },
         {
          "count": 0,
          "date": "2018-10-01T00:00:00",
          "disease": "lassafever"
         },
         {
          "count": 0,
          "date": "2018-10-01T00:00:00",
          "disease": "malaria"
         },
         {
          "count": 0,
          "date": "2018-10-01T00:00:00",
          "disease": "riftvalleyfever"
         },
         {
          "count": 0,
          "date": "2018-10-01T00:00:00",
          "disease": "mers-cov"
         },
         {
          "count": 0,
          "date": "2018-10-01T00:00:00",
          "disease": "diphtheria"
         },
         {
          "count": 0,
          "date": "2018-10-08T00:00:00",
          "disease": "measles"
         },
         {
          "count": 3,
          "date": "2018-10-08T00:00:00",
          "disease": "cholera"
         },
         {
          "count": 2,
          "date": "2018-10-08T00:00:00",
          "disease": "dengue"
         },
         {
          "count": 3,
          "date": "2018-10-08T00:00:00",
          "disease": "yellowfever"
         },
         {
          "count": 0,
          "date": "2018-10-08T00:00:00",
          "disease": "undiagnoseddisease"
         },
         {
          "count": 0,
          "date": "2018-10-08T00:00:00",
          "disease": "lassafever"
         },
         {
          "count": 1,
          "date": "2018-10-08T00:00:00",
          "disease": "malaria"
         },
         {
          "count": 0,
          "date": "2018-10-08T00:00:00",
          "disease": "riftvalleyfever"
         },
         {
          "count": 0,
          "date": "2018-10-08T00:00:00",
          "disease": "mers-cov"
         },
         {
          "count": 0,
          "date": "2018-10-08T00:00:00",
          "disease": "diphtheria"
         },
         {
          "count": 1,
          "date": "2018-10-15T00:00:00",
          "disease": "measles"
         },
         {
          "count": 0,
          "date": "2018-10-15T00:00:00",
          "disease": "cholera"
         },
         {
          "count": 0,
          "date": "2018-10-15T00:00:00",
          "disease": "dengue"
         },
         {
          "count": 1,
          "date": "2018-10-15T00:00:00",
          "disease": "yellowfever"
         },
         {
          "count": 0,
          "date": "2018-10-15T00:00:00",
          "disease": "undiagnoseddisease"
         },
         {
          "count": 0,
          "date": "2018-10-15T00:00:00",
          "disease": "lassafever"
         },
         {
          "count": 0,
          "date": "2018-10-15T00:00:00",
          "disease": "malaria"
         },
         {
          "count": 1,
          "date": "2018-10-15T00:00:00",
          "disease": "riftvalleyfever"
         },
         {
          "count": 0,
          "date": "2018-10-15T00:00:00",
          "disease": "mers-cov"
         },
         {
          "count": 0,
          "date": "2018-10-15T00:00:00",
          "disease": "diphtheria"
         },
         {
          "count": 0,
          "date": "2018-10-22T00:00:00",
          "disease": "measles"
         },
         {
          "count": 0,
          "date": "2018-10-22T00:00:00",
          "disease": "cholera"
         },
         {
          "count": 0,
          "date": "2018-10-22T00:00:00",
          "disease": "dengue"
         },
         {
          "count": 1,
          "date": "2018-10-22T00:00:00",
          "disease": "yellowfever"
         },
         {
          "count": 0,
          "date": "2018-10-22T00:00:00",
          "disease": "undiagnoseddisease"
         },
         {
          "count": 0,
          "date": "2018-10-22T00:00:00",
          "disease": "lassafever"
         },
         {
          "count": 0,
          "date": "2018-10-22T00:00:00",
          "disease": "malaria"
         },
         {
          "count": 0,
          "date": "2018-10-22T00:00:00",
          "disease": "riftvalleyfever"
         },
         {
          "count": 0,
          "date": "2018-10-22T00:00:00",
          "disease": "mers-cov"
         },
         {
          "count": 0,
          "date": "2018-10-22T00:00:00",
          "disease": "diphtheria"
         },
         {
          "count": 1,
          "date": "2018-10-29T00:00:00",
          "disease": "measles"
         },
         {
          "count": 1,
          "date": "2018-10-29T00:00:00",
          "disease": "cholera"
         },
         {
          "count": 1,
          "date": "2018-10-29T00:00:00",
          "disease": "dengue"
         },
         {
          "count": 0,
          "date": "2018-10-29T00:00:00",
          "disease": "yellowfever"
         },
         {
          "count": 0,
          "date": "2018-10-29T00:00:00",
          "disease": "undiagnoseddisease"
         },
         {
          "count": 0,
          "date": "2018-10-29T00:00:00",
          "disease": "lassafever"
         },
         {
          "count": 0,
          "date": "2018-10-29T00:00:00",
          "disease": "malaria"
         },
         {
          "count": 0,
          "date": "2018-10-29T00:00:00",
          "disease": "riftvalleyfever"
         },
         {
          "count": 0,
          "date": "2018-10-29T00:00:00",
          "disease": "mers-cov"
         },
         {
          "count": 0,
          "date": "2018-10-29T00:00:00",
          "disease": "diphtheria"
         },
         {
          "count": 3,
          "date": "2018-11-05T00:00:00",
          "disease": "measles"
         },
         {
          "count": 0,
          "date": "2018-11-05T00:00:00",
          "disease": "cholera"
         },
         {
          "count": 1,
          "date": "2018-11-05T00:00:00",
          "disease": "dengue"
         },
         {
          "count": 0,
          "date": "2018-11-05T00:00:00",
          "disease": "yellowfever"
         },
         {
          "count": 0,
          "date": "2018-11-05T00:00:00",
          "disease": "undiagnoseddisease"
         },
         {
          "count": 0,
          "date": "2018-11-05T00:00:00",
          "disease": "lassafever"
         },
         {
          "count": 0,
          "date": "2018-11-05T00:00:00",
          "disease": "malaria"
         },
         {
          "count": 0,
          "date": "2018-11-05T00:00:00",
          "disease": "riftvalleyfever"
         },
         {
          "count": 0,
          "date": "2018-11-05T00:00:00",
          "disease": "mers-cov"
         },
         {
          "count": 0,
          "date": "2018-11-05T00:00:00",
          "disease": "diphtheria"
         },
         {
          "count": 2,
          "date": "2018-11-12T00:00:00",
          "disease": "measles"
         },
         {
          "count": 0,
          "date": "2018-11-12T00:00:00",
          "disease": "cholera"
         },
         {
          "count": 1,
          "date": "2018-11-12T00:00:00",
          "disease": "dengue"
         },
         {
          "count": 0,
          "date": "2018-11-12T00:00:00",
          "disease": "yellowfever"
         },
         {
          "count": 0,
          "date": "2018-11-12T00:00:00",
          "disease": "undiagnoseddisease"
         },
         {
          "count": 1,
          "date": "2018-11-12T00:00:00",
          "disease": "lassafever"
         },
         {
          "count": 0,
          "date": "2018-11-12T00:00:00",
          "disease": "malaria"
         },
         {
          "count": 0,
          "date": "2018-11-12T00:00:00",
          "disease": "riftvalleyfever"
         },
         {
          "count": 0,
          "date": "2018-11-12T00:00:00",
          "disease": "mers-cov"
         },
         {
          "count": 0,
          "date": "2018-11-12T00:00:00",
          "disease": "diphtheria"
         },
         {
          "count": 0,
          "date": "2018-11-19T00:00:00",
          "disease": "measles"
         },
         {
          "count": 1,
          "date": "2018-11-19T00:00:00",
          "disease": "cholera"
         },
         {
          "count": 0,
          "date": "2018-11-19T00:00:00",
          "disease": "dengue"
         },
         {
          "count": 2,
          "date": "2018-11-19T00:00:00",
          "disease": "yellowfever"
         },
         {
          "count": 0,
          "date": "2018-11-19T00:00:00",
          "disease": "undiagnoseddisease"
         },
         {
          "count": 1,
          "date": "2018-11-19T00:00:00",
          "disease": "lassafever"
         },
         {
          "count": 0,
          "date": "2018-11-19T00:00:00",
          "disease": "malaria"
         },
         {
          "count": 1,
          "date": "2018-11-19T00:00:00",
          "disease": "riftvalleyfever"
         },
         {
          "count": 0,
          "date": "2018-11-19T00:00:00",
          "disease": "mers-cov"
         },
         {
          "count": 0,
          "date": "2018-11-19T00:00:00",
          "disease": "diphtheria"
         },
         {
          "count": 0,
          "date": "2018-11-26T00:00:00",
          "disease": "measles"
         },
         {
          "count": 1,
          "date": "2018-11-26T00:00:00",
          "disease": "cholera"
         },
         {
          "count": 1,
          "date": "2018-11-26T00:00:00",
          "disease": "dengue"
         },
         {
          "count": 2,
          "date": "2018-11-26T00:00:00",
          "disease": "yellowfever"
         },
         {
          "count": 0,
          "date": "2018-11-26T00:00:00",
          "disease": "undiagnoseddisease"
         },
         {
          "count": 0,
          "date": "2018-11-26T00:00:00",
          "disease": "lassafever"
         },
         {
          "count": 0,
          "date": "2018-11-26T00:00:00",
          "disease": "malaria"
         },
         {
          "count": 1,
          "date": "2018-11-26T00:00:00",
          "disease": "riftvalleyfever"
         },
         {
          "count": 0,
          "date": "2018-11-26T00:00:00",
          "disease": "mers-cov"
         },
         {
          "count": 0,
          "date": "2018-11-26T00:00:00",
          "disease": "diphtheria"
         },
         {
          "count": 0,
          "date": "2018-12-03T00:00:00",
          "disease": "measles"
         },
         {
          "count": 1,
          "date": "2018-12-03T00:00:00",
          "disease": "cholera"
         },
         {
          "count": 0,
          "date": "2018-12-03T00:00:00",
          "disease": "dengue"
         },
         {
          "count": 0,
          "date": "2018-12-03T00:00:00",
          "disease": "yellowfever"
         },
         {
          "count": 0,
          "date": "2018-12-03T00:00:00",
          "disease": "undiagnoseddisease"
         },
         {
          "count": 1,
          "date": "2018-12-03T00:00:00",
          "disease": "lassafever"
         },
         {
          "count": 0,
          "date": "2018-12-03T00:00:00",
          "disease": "malaria"
         },
         {
          "count": 0,
          "date": "2018-12-03T00:00:00",
          "disease": "riftvalleyfever"
         },
         {
          "count": 0,
          "date": "2018-12-03T00:00:00",
          "disease": "mers-cov"
         },
         {
          "count": 0,
          "date": "2018-12-03T00:00:00",
          "disease": "diphtheria"
         },
         {
          "count": 0,
          "date": "2018-12-10T00:00:00",
          "disease": "measles"
         },
         {
          "count": 0,
          "date": "2018-12-10T00:00:00",
          "disease": "cholera"
         },
         {
          "count": 0,
          "date": "2018-12-10T00:00:00",
          "disease": "dengue"
         },
         {
          "count": 2,
          "date": "2018-12-10T00:00:00",
          "disease": "yellowfever"
         },
         {
          "count": 0,
          "date": "2018-12-10T00:00:00",
          "disease": "undiagnoseddisease"
         },
         {
          "count": 2,
          "date": "2018-12-10T00:00:00",
          "disease": "lassafever"
         },
         {
          "count": 0,
          "date": "2018-12-10T00:00:00",
          "disease": "malaria"
         },
         {
          "count": 0,
          "date": "2018-12-10T00:00:00",
          "disease": "riftvalleyfever"
         },
         {
          "count": 0,
          "date": "2018-12-10T00:00:00",
          "disease": "mers-cov"
         },
         {
          "count": 0,
          "date": "2018-12-10T00:00:00",
          "disease": "diphtheria"
         },
         {
          "count": 1,
          "date": "2018-12-17T00:00:00",
          "disease": "measles"
         },
         {
          "count": 0,
          "date": "2018-12-17T00:00:00",
          "disease": "cholera"
         },
         {
          "count": 1,
          "date": "2018-12-17T00:00:00",
          "disease": "dengue"
         },
         {
          "count": 0,
          "date": "2018-12-17T00:00:00",
          "disease": "yellowfever"
         },
         {
          "count": 0,
          "date": "2018-12-17T00:00:00",
          "disease": "undiagnoseddisease"
         },
         {
          "count": 0,
          "date": "2018-12-17T00:00:00",
          "disease": "lassafever"
         },
         {
          "count": 0,
          "date": "2018-12-17T00:00:00",
          "disease": "malaria"
         },
         {
          "count": 0,
          "date": "2018-12-17T00:00:00",
          "disease": "riftvalleyfever"
         },
         {
          "count": 0,
          "date": "2018-12-17T00:00:00",
          "disease": "mers-cov"
         },
         {
          "count": 1,
          "date": "2018-12-17T00:00:00",
          "disease": "diphtheria"
         },
         {
          "count": 0,
          "date": "2018-12-24T00:00:00",
          "disease": "measles"
         },
         {
          "count": 0,
          "date": "2018-12-24T00:00:00",
          "disease": "cholera"
         },
         {
          "count": 2,
          "date": "2018-12-24T00:00:00",
          "disease": "dengue"
         },
         {
          "count": 1,
          "date": "2018-12-24T00:00:00",
          "disease": "yellowfever"
         },
         {
          "count": 0,
          "date": "2018-12-24T00:00:00",
          "disease": "undiagnoseddisease"
         },
         {
          "count": 0,
          "date": "2018-12-24T00:00:00",
          "disease": "lassafever"
         },
         {
          "count": 0,
          "date": "2018-12-24T00:00:00",
          "disease": "malaria"
         },
         {
          "count": 0,
          "date": "2018-12-24T00:00:00",
          "disease": "riftvalleyfever"
         },
         {
          "count": 0,
          "date": "2018-12-24T00:00:00",
          "disease": "mers-cov"
         },
         {
          "count": 0,
          "date": "2018-12-24T00:00:00",
          "disease": "diphtheria"
         },
         {
          "count": 0,
          "date": "2018-12-31T00:00:00",
          "disease": "measles"
         },
         {
          "count": 0,
          "date": "2018-12-31T00:00:00",
          "disease": "cholera"
         },
         {
          "count": 0,
          "date": "2018-12-31T00:00:00",
          "disease": "dengue"
         },
         {
          "count": 0,
          "date": "2018-12-31T00:00:00",
          "disease": "yellowfever"
         },
         {
          "count": 0,
          "date": "2018-12-31T00:00:00",
          "disease": "undiagnoseddisease"
         },
         {
          "count": 0,
          "date": "2018-12-31T00:00:00",
          "disease": "lassafever"
         },
         {
          "count": 0,
          "date": "2018-12-31T00:00:00",
          "disease": "malaria"
         },
         {
          "count": 0,
          "date": "2018-12-31T00:00:00",
          "disease": "riftvalleyfever"
         },
         {
          "count": 0,
          "date": "2018-12-31T00:00:00",
          "disease": "mers-cov"
         },
         {
          "count": 0,
          "date": "2018-12-31T00:00:00",
          "disease": "diphtheria"
         },
         {
          "count": 0,
          "date": "2019-01-07T00:00:00",
          "disease": "measles"
         },
         {
          "count": 1,
          "date": "2019-01-07T00:00:00",
          "disease": "cholera"
         },
         {
          "count": 0,
          "date": "2019-01-07T00:00:00",
          "disease": "dengue"
         },
         {
          "count": 0,
          "date": "2019-01-07T00:00:00",
          "disease": "yellowfever"
         },
         {
          "count": 0,
          "date": "2019-01-07T00:00:00",
          "disease": "undiagnoseddisease"
         },
         {
          "count": 0,
          "date": "2019-01-07T00:00:00",
          "disease": "lassafever"
         },
         {
          "count": 0,
          "date": "2019-01-07T00:00:00",
          "disease": "malaria"
         },
         {
          "count": 1,
          "date": "2019-01-07T00:00:00",
          "disease": "riftvalleyfever"
         },
         {
          "count": 0,
          "date": "2019-01-07T00:00:00",
          "disease": "mers-cov"
         },
         {
          "count": 0,
          "date": "2019-01-07T00:00:00",
          "disease": "diphtheria"
         },
         {
          "count": 0,
          "date": "2019-01-14T00:00:00",
          "disease": "measles"
         },
         {
          "count": 1,
          "date": "2019-01-14T00:00:00",
          "disease": "cholera"
         },
         {
          "count": 1,
          "date": "2019-01-14T00:00:00",
          "disease": "dengue"
         },
         {
          "count": 0,
          "date": "2019-01-14T00:00:00",
          "disease": "yellowfever"
         },
         {
          "count": 0,
          "date": "2019-01-14T00:00:00",
          "disease": "undiagnoseddisease"
         },
         {
          "count": 1,
          "date": "2019-01-14T00:00:00",
          "disease": "lassafever"
         },
         {
          "count": 0,
          "date": "2019-01-14T00:00:00",
          "disease": "malaria"
         },
         {
          "count": 0,
          "date": "2019-01-14T00:00:00",
          "disease": "riftvalleyfever"
         },
         {
          "count": 0,
          "date": "2019-01-14T00:00:00",
          "disease": "mers-cov"
         },
         {
          "count": 0,
          "date": "2019-01-14T00:00:00",
          "disease": "diphtheria"
         },
         {
          "count": 5,
          "date": "2019-01-21T00:00:00",
          "disease": "measles"
         },
         {
          "count": 1,
          "date": "2019-01-21T00:00:00",
          "disease": "cholera"
         },
         {
          "count": 1,
          "date": "2019-01-21T00:00:00",
          "disease": "dengue"
         },
         {
          "count": 1,
          "date": "2019-01-21T00:00:00",
          "disease": "yellowfever"
         },
         {
          "count": 0,
          "date": "2019-01-21T00:00:00",
          "disease": "undiagnoseddisease"
         },
         {
          "count": 0,
          "date": "2019-01-21T00:00:00",
          "disease": "lassafever"
         },
         {
          "count": 0,
          "date": "2019-01-21T00:00:00",
          "disease": "malaria"
         },
         {
          "count": 0,
          "date": "2019-01-21T00:00:00",
          "disease": "riftvalleyfever"
         },
         {
          "count": 0,
          "date": "2019-01-21T00:00:00",
          "disease": "mers-cov"
         },
         {
          "count": 0,
          "date": "2019-01-21T00:00:00",
          "disease": "diphtheria"
         },
         {
          "count": 3,
          "date": "2019-01-28T00:00:00",
          "disease": "measles"
         },
         {
          "count": 1,
          "date": "2019-01-28T00:00:00",
          "disease": "cholera"
         },
         {
          "count": 0,
          "date": "2019-01-28T00:00:00",
          "disease": "dengue"
         },
         {
          "count": 2,
          "date": "2019-01-28T00:00:00",
          "disease": "yellowfever"
         },
         {
          "count": 0,
          "date": "2019-01-28T00:00:00",
          "disease": "undiagnoseddisease"
         },
         {
          "count": 2,
          "date": "2019-01-28T00:00:00",
          "disease": "lassafever"
         },
         {
          "count": 0,
          "date": "2019-01-28T00:00:00",
          "disease": "malaria"
         },
         {
          "count": 0,
          "date": "2019-01-28T00:00:00",
          "disease": "riftvalleyfever"
         },
         {
          "count": 1,
          "date": "2019-01-28T00:00:00",
          "disease": "mers-cov"
         },
         {
          "count": 1,
          "date": "2019-01-28T00:00:00",
          "disease": "diphtheria"
         },
         {
          "count": 1,
          "date": "2019-02-04T00:00:00",
          "disease": "measles"
         },
         {
          "count": 0,
          "date": "2019-02-04T00:00:00",
          "disease": "cholera"
         },
         {
          "count": 0,
          "date": "2019-02-04T00:00:00",
          "disease": "dengue"
         },
         {
          "count": 1,
          "date": "2019-02-04T00:00:00",
          "disease": "yellowfever"
         },
         {
          "count": 0,
          "date": "2019-02-04T00:00:00",
          "disease": "undiagnoseddisease"
         },
         {
          "count": 3,
          "date": "2019-02-04T00:00:00",
          "disease": "lassafever"
         },
         {
          "count": 0,
          "date": "2019-02-04T00:00:00",
          "disease": "malaria"
         },
         {
          "count": 2,
          "date": "2019-02-04T00:00:00",
          "disease": "riftvalleyfever"
         },
         {
          "count": 1,
          "date": "2019-02-04T00:00:00",
          "disease": "mers-cov"
         },
         {
          "count": 0,
          "date": "2019-02-04T00:00:00",
          "disease": "diphtheria"
         },
         {
          "count": 4,
          "date": "2019-02-11T00:00:00",
          "disease": "measles"
         },
         {
          "count": 2,
          "date": "2019-02-11T00:00:00",
          "disease": "cholera"
         },
         {
          "count": 0,
          "date": "2019-02-11T00:00:00",
          "disease": "dengue"
         },
         {
          "count": 1,
          "date": "2019-02-11T00:00:00",
          "disease": "yellowfever"
         },
         {
          "count": 0,
          "date": "2019-02-11T00:00:00",
          "disease": "undiagnoseddisease"
         },
         {
          "count": 0,
          "date": "2019-02-11T00:00:00",
          "disease": "lassafever"
         },
         {
          "count": 0,
          "date": "2019-02-11T00:00:00",
          "disease": "malaria"
         },
         {
          "count": 0,
          "date": "2019-02-11T00:00:00",
          "disease": "riftvalleyfever"
         },
         {
          "count": 0,
          "date": "2019-02-11T00:00:00",
          "disease": "mers-cov"
         },
         {
          "count": 0,
          "date": "2019-02-11T00:00:00",
          "disease": "diphtheria"
         },
         {
          "count": 2,
          "date": "2019-02-18T00:00:00",
          "disease": "measles"
         },
         {
          "count": 0,
          "date": "2019-02-18T00:00:00",
          "disease": "cholera"
         },
         {
          "count": 0,
          "date": "2019-02-18T00:00:00",
          "disease": "dengue"
         },
         {
          "count": 1,
          "date": "2019-02-18T00:00:00",
          "disease": "yellowfever"
         },
         {
          "count": 0,
          "date": "2019-02-18T00:00:00",
          "disease": "undiagnoseddisease"
         },
         {
          "count": 0,
          "date": "2019-02-18T00:00:00",
          "disease": "lassafever"
         },
         {
          "count": 3,
          "date": "2019-02-18T00:00:00",
          "disease": "malaria"
         },
         {
          "count": 1,
          "date": "2019-02-18T00:00:00",
          "disease": "riftvalleyfever"
         },
         {
          "count": 0,
          "date": "2019-02-18T00:00:00",
          "disease": "mers-cov"
         },
         {
          "count": 1,
          "date": "2019-02-18T00:00:00",
          "disease": "diphtheria"
         },
         {
          "count": 3,
          "date": "2019-02-25T00:00:00",
          "disease": "measles"
         },
         {
          "count": 1,
          "date": "2019-02-25T00:00:00",
          "disease": "cholera"
         },
         {
          "count": 1,
          "date": "2019-02-25T00:00:00",
          "disease": "dengue"
         },
         {
          "count": 0,
          "date": "2019-02-25T00:00:00",
          "disease": "yellowfever"
         },
         {
          "count": 0,
          "date": "2019-02-25T00:00:00",
          "disease": "undiagnoseddisease"
         },
         {
          "count": 0,
          "date": "2019-02-25T00:00:00",
          "disease": "lassafever"
         },
         {
          "count": 1,
          "date": "2019-02-25T00:00:00",
          "disease": "malaria"
         },
         {
          "count": 0,
          "date": "2019-02-25T00:00:00",
          "disease": "riftvalleyfever"
         },
         {
          "count": 1,
          "date": "2019-02-25T00:00:00",
          "disease": "mers-cov"
         },
         {
          "count": 0,
          "date": "2019-02-25T00:00:00",
          "disease": "diphtheria"
         },
         {
          "count": 4,
          "date": "2019-03-04T00:00:00",
          "disease": "measles"
         },
         {
          "count": 1,
          "date": "2019-03-04T00:00:00",
          "disease": "cholera"
         },
         {
          "count": 0,
          "date": "2019-03-04T00:00:00",
          "disease": "dengue"
         },
         {
          "count": 1,
          "date": "2019-03-04T00:00:00",
          "disease": "yellowfever"
         },
         {
          "count": 2,
          "date": "2019-03-04T00:00:00",
          "disease": "undiagnoseddisease"
         },
         {
          "count": 0,
          "date": "2019-03-04T00:00:00",
          "disease": "lassafever"
         },
         {
          "count": 0,
          "date": "2019-03-04T00:00:00",
          "disease": "malaria"
         },
         {
          "count": 1,
          "date": "2019-03-04T00:00:00",
          "disease": "riftvalleyfever"
         },
         {
          "count": 0,
          "date": "2019-03-04T00:00:00",
          "disease": "mers-cov"
         },
         {
          "count": 0,
          "date": "2019-03-04T00:00:00",
          "disease": "diphtheria"
         },
         {
          "count": 5,
          "date": "2019-03-11T00:00:00",
          "disease": "measles"
         },
         {
          "count": 0,
          "date": "2019-03-11T00:00:00",
          "disease": "cholera"
         },
         {
          "count": 0,
          "date": "2019-03-11T00:00:00",
          "disease": "dengue"
         },
         {
          "count": 0,
          "date": "2019-03-11T00:00:00",
          "disease": "yellowfever"
         },
         {
          "count": 0,
          "date": "2019-03-11T00:00:00",
          "disease": "undiagnoseddisease"
         },
         {
          "count": 1,
          "date": "2019-03-11T00:00:00",
          "disease": "lassafever"
         },
         {
          "count": 1,
          "date": "2019-03-11T00:00:00",
          "disease": "malaria"
         },
         {
          "count": 0,
          "date": "2019-03-11T00:00:00",
          "disease": "riftvalleyfever"
         },
         {
          "count": 0,
          "date": "2019-03-11T00:00:00",
          "disease": "mers-cov"
         },
         {
          "count": 1,
          "date": "2019-03-11T00:00:00",
          "disease": "diphtheria"
         },
         {
          "count": 1,
          "date": "2019-03-18T00:00:00",
          "disease": "measles"
         },
         {
          "count": 0,
          "date": "2019-03-18T00:00:00",
          "disease": "cholera"
         },
         {
          "count": 1,
          "date": "2019-03-18T00:00:00",
          "disease": "dengue"
         },
         {
          "count": 0,
          "date": "2019-03-18T00:00:00",
          "disease": "yellowfever"
         },
         {
          "count": 0,
          "date": "2019-03-18T00:00:00",
          "disease": "undiagnoseddisease"
         },
         {
          "count": 0,
          "date": "2019-03-18T00:00:00",
          "disease": "lassafever"
         },
         {
          "count": 0,
          "date": "2019-03-18T00:00:00",
          "disease": "malaria"
         },
         {
          "count": 0,
          "date": "2019-03-18T00:00:00",
          "disease": "riftvalleyfever"
         },
         {
          "count": 0,
          "date": "2019-03-18T00:00:00",
          "disease": "mers-cov"
         },
         {
          "count": 0,
          "date": "2019-03-18T00:00:00",
          "disease": "diphtheria"
         },
         {
          "count": 1,
          "date": "2019-03-25T00:00:00",
          "disease": "measles"
         },
         {
          "count": 0,
          "date": "2019-03-25T00:00:00",
          "disease": "cholera"
         },
         {
          "count": 0,
          "date": "2019-03-25T00:00:00",
          "disease": "dengue"
         },
         {
          "count": 2,
          "date": "2019-03-25T00:00:00",
          "disease": "yellowfever"
         },
         {
          "count": 0,
          "date": "2019-03-25T00:00:00",
          "disease": "undiagnoseddisease"
         },
         {
          "count": 0,
          "date": "2019-03-25T00:00:00",
          "disease": "lassafever"
         },
         {
          "count": 0,
          "date": "2019-03-25T00:00:00",
          "disease": "malaria"
         },
         {
          "count": 0,
          "date": "2019-03-25T00:00:00",
          "disease": "riftvalleyfever"
         },
         {
          "count": 0,
          "date": "2019-03-25T00:00:00",
          "disease": "mers-cov"
         },
         {
          "count": 1,
          "date": "2019-03-25T00:00:00",
          "disease": "diphtheria"
         },
         {
          "count": 1,
          "date": "2019-04-01T00:00:00",
          "disease": "measles"
         },
         {
          "count": 2,
          "date": "2019-04-01T00:00:00",
          "disease": "cholera"
         },
         {
          "count": 0,
          "date": "2019-04-01T00:00:00",
          "disease": "dengue"
         },
         {
          "count": 2,
          "date": "2019-04-01T00:00:00",
          "disease": "yellowfever"
         },
         {
          "count": 0,
          "date": "2019-04-01T00:00:00",
          "disease": "undiagnoseddisease"
         },
         {
          "count": 0,
          "date": "2019-04-01T00:00:00",
          "disease": "lassafever"
         },
         {
          "count": 1,
          "date": "2019-04-01T00:00:00",
          "disease": "malaria"
         },
         {
          "count": 1,
          "date": "2019-04-01T00:00:00",
          "disease": "riftvalleyfever"
         },
         {
          "count": 0,
          "date": "2019-04-01T00:00:00",
          "disease": "mers-cov"
         },
         {
          "count": 0,
          "date": "2019-04-01T00:00:00",
          "disease": "diphtheria"
         },
         {
          "count": 2,
          "date": "2019-04-08T00:00:00",
          "disease": "measles"
         },
         {
          "count": 1,
          "date": "2019-04-08T00:00:00",
          "disease": "cholera"
         },
         {
          "count": 0,
          "date": "2019-04-08T00:00:00",
          "disease": "dengue"
         },
         {
          "count": 0,
          "date": "2019-04-08T00:00:00",
          "disease": "yellowfever"
         },
         {
          "count": 0,
          "date": "2019-04-08T00:00:00",
          "disease": "undiagnoseddisease"
         },
         {
          "count": 0,
          "date": "2019-04-08T00:00:00",
          "disease": "lassafever"
         },
         {
          "count": 1,
          "date": "2019-04-08T00:00:00",
          "disease": "malaria"
         },
         {
          "count": 0,
          "date": "2019-04-08T00:00:00",
          "disease": "riftvalleyfever"
         },
         {
          "count": 0,
          "date": "2019-04-08T00:00:00",
          "disease": "mers-cov"
         },
         {
          "count": 0,
          "date": "2019-04-08T00:00:00",
          "disease": "diphtheria"
         },
         {
          "count": 1,
          "date": "2019-04-15T00:00:00",
          "disease": "measles"
         },
         {
          "count": 0,
          "date": "2019-04-15T00:00:00",
          "disease": "cholera"
         },
         {
          "count": 3,
          "date": "2019-04-15T00:00:00",
          "disease": "dengue"
         },
         {
          "count": 0,
          "date": "2019-04-15T00:00:00",
          "disease": "yellowfever"
         },
         {
          "count": 0,
          "date": "2019-04-15T00:00:00",
          "disease": "undiagnoseddisease"
         },
         {
          "count": 0,
          "date": "2019-04-15T00:00:00",
          "disease": "lassafever"
         },
         {
          "count": 0,
          "date": "2019-04-15T00:00:00",
          "disease": "malaria"
         },
         {
          "count": 0,
          "date": "2019-04-15T00:00:00",
          "disease": "riftvalleyfever"
         },
         {
          "count": 2,
          "date": "2019-04-15T00:00:00",
          "disease": "mers-cov"
         },
         {
          "count": 0,
          "date": "2019-04-15T00:00:00",
          "disease": "diphtheria"
         },
         {
          "count": 1,
          "date": "2019-04-22T00:00:00",
          "disease": "measles"
         },
         {
          "count": 2,
          "date": "2019-04-22T00:00:00",
          "disease": "cholera"
         },
         {
          "count": 1,
          "date": "2019-04-22T00:00:00",
          "disease": "dengue"
         },
         {
          "count": 0,
          "date": "2019-04-22T00:00:00",
          "disease": "yellowfever"
         },
         {
          "count": 0,
          "date": "2019-04-22T00:00:00",
          "disease": "undiagnoseddisease"
         },
         {
          "count": 0,
          "date": "2019-04-22T00:00:00",
          "disease": "lassafever"
         },
         {
          "count": 0,
          "date": "2019-04-22T00:00:00",
          "disease": "malaria"
         },
         {
          "count": 0,
          "date": "2019-04-22T00:00:00",
          "disease": "riftvalleyfever"
         },
         {
          "count": 0,
          "date": "2019-04-22T00:00:00",
          "disease": "mers-cov"
         },
         {
          "count": 0,
          "date": "2019-04-22T00:00:00",
          "disease": "diphtheria"
         },
         {
          "count": 0,
          "date": "2019-04-29T00:00:00",
          "disease": "measles"
         },
         {
          "count": 0,
          "date": "2019-04-29T00:00:00",
          "disease": "cholera"
         },
         {
          "count": 0,
          "date": "2019-04-29T00:00:00",
          "disease": "dengue"
         },
         {
          "count": 0,
          "date": "2019-04-29T00:00:00",
          "disease": "yellowfever"
         },
         {
          "count": 0,
          "date": "2019-04-29T00:00:00",
          "disease": "undiagnoseddisease"
         },
         {
          "count": 0,
          "date": "2019-04-29T00:00:00",
          "disease": "lassafever"
         },
         {
          "count": 0,
          "date": "2019-04-29T00:00:00",
          "disease": "malaria"
         },
         {
          "count": 1,
          "date": "2019-04-29T00:00:00",
          "disease": "riftvalleyfever"
         },
         {
          "count": 0,
          "date": "2019-04-29T00:00:00",
          "disease": "mers-cov"
         },
         {
          "count": 1,
          "date": "2019-04-29T00:00:00",
          "disease": "diphtheria"
         },
         {
          "count": 0,
          "date": "2019-05-06T00:00:00",
          "disease": "measles"
         },
         {
          "count": 1,
          "date": "2019-05-06T00:00:00",
          "disease": "cholera"
         },
         {
          "count": 2,
          "date": "2019-05-06T00:00:00",
          "disease": "dengue"
         },
         {
          "count": 0,
          "date": "2019-05-06T00:00:00",
          "disease": "yellowfever"
         },
         {
          "count": 1,
          "date": "2019-05-06T00:00:00",
          "disease": "undiagnoseddisease"
         },
         {
          "count": 0,
          "date": "2019-05-06T00:00:00",
          "disease": "lassafever"
         },
         {
          "count": 0,
          "date": "2019-05-06T00:00:00",
          "disease": "malaria"
         },
         {
          "count": 0,
          "date": "2019-05-06T00:00:00",
          "disease": "riftvalleyfever"
         },
         {
          "count": 0,
          "date": "2019-05-06T00:00:00",
          "disease": "mers-cov"
         },
         {
          "count": 1,
          "date": "2019-05-06T00:00:00",
          "disease": "diphtheria"
         },
         {
          "count": 0,
          "date": "2019-05-13T00:00:00",
          "disease": "measles"
         },
         {
          "count": 0,
          "date": "2019-05-13T00:00:00",
          "disease": "cholera"
         },
         {
          "count": 1,
          "date": "2019-05-13T00:00:00",
          "disease": "dengue"
         },
         {
          "count": 1,
          "date": "2019-05-13T00:00:00",
          "disease": "yellowfever"
         },
         {
          "count": 0,
          "date": "2019-05-13T00:00:00",
          "disease": "undiagnoseddisease"
         },
         {
          "count": 0,
          "date": "2019-05-13T00:00:00",
          "disease": "lassafever"
         },
         {
          "count": 0,
          "date": "2019-05-13T00:00:00",
          "disease": "malaria"
         },
         {
          "count": 0,
          "date": "2019-05-13T00:00:00",
          "disease": "riftvalleyfever"
         },
         {
          "count": 0,
          "date": "2019-05-13T00:00:00",
          "disease": "mers-cov"
         },
         {
          "count": 0,
          "date": "2019-05-13T00:00:00",
          "disease": "diphtheria"
         },
         {
          "count": 0,
          "date": "2019-05-20T00:00:00",
          "disease": "measles"
         },
         {
          "count": 1,
          "date": "2019-05-20T00:00:00",
          "disease": "cholera"
         },
         {
          "count": 1,
          "date": "2019-05-20T00:00:00",
          "disease": "dengue"
         },
         {
          "count": 0,
          "date": "2019-05-20T00:00:00",
          "disease": "yellowfever"
         },
         {
          "count": 1,
          "date": "2019-05-20T00:00:00",
          "disease": "undiagnoseddisease"
         },
         {
          "count": 0,
          "date": "2019-05-20T00:00:00",
          "disease": "lassafever"
         },
         {
          "count": 0,
          "date": "2019-05-20T00:00:00",
          "disease": "malaria"
         },
         {
          "count": 0,
          "date": "2019-05-20T00:00:00",
          "disease": "riftvalleyfever"
         },
         {
          "count": 0,
          "date": "2019-05-20T00:00:00",
          "disease": "mers-cov"
         },
         {
          "count": 0,
          "date": "2019-05-20T00:00:00",
          "disease": "diphtheria"
         },
         {
          "count": 0,
          "date": "2019-05-27T00:00:00",
          "disease": "measles"
         },
         {
          "count": 0,
          "date": "2019-05-27T00:00:00",
          "disease": "cholera"
         },
         {
          "count": 1,
          "date": "2019-05-27T00:00:00",
          "disease": "dengue"
         },
         {
          "count": 0,
          "date": "2019-05-27T00:00:00",
          "disease": "yellowfever"
         },
         {
          "count": 0,
          "date": "2019-05-27T00:00:00",
          "disease": "undiagnoseddisease"
         },
         {
          "count": 0,
          "date": "2019-05-27T00:00:00",
          "disease": "lassafever"
         },
         {
          "count": 1,
          "date": "2019-05-27T00:00:00",
          "disease": "malaria"
         },
         {
          "count": 0,
          "date": "2019-05-27T00:00:00",
          "disease": "riftvalleyfever"
         },
         {
          "count": 0,
          "date": "2019-05-27T00:00:00",
          "disease": "mers-cov"
         },
         {
          "count": 0,
          "date": "2019-05-27T00:00:00",
          "disease": "diphtheria"
         },
         {
          "count": 3,
          "date": "2019-06-03T00:00:00",
          "disease": "measles"
         },
         {
          "count": 1,
          "date": "2019-06-03T00:00:00",
          "disease": "cholera"
         },
         {
          "count": 2,
          "date": "2019-06-03T00:00:00",
          "disease": "dengue"
         },
         {
          "count": 0,
          "date": "2019-06-03T00:00:00",
          "disease": "yellowfever"
         },
         {
          "count": 0,
          "date": "2019-06-03T00:00:00",
          "disease": "undiagnoseddisease"
         },
         {
          "count": 0,
          "date": "2019-06-03T00:00:00",
          "disease": "lassafever"
         },
         {
          "count": 1,
          "date": "2019-06-03T00:00:00",
          "disease": "malaria"
         },
         {
          "count": 0,
          "date": "2019-06-03T00:00:00",
          "disease": "riftvalleyfever"
         },
         {
          "count": 0,
          "date": "2019-06-03T00:00:00",
          "disease": "mers-cov"
         },
         {
          "count": 0,
          "date": "2019-06-03T00:00:00",
          "disease": "diphtheria"
         },
         {
          "count": 1,
          "date": "2019-06-10T00:00:00",
          "disease": "measles"
         },
         {
          "count": 3,
          "date": "2019-06-10T00:00:00",
          "disease": "cholera"
         },
         {
          "count": 3,
          "date": "2019-06-10T00:00:00",
          "disease": "dengue"
         },
         {
          "count": 1,
          "date": "2019-06-10T00:00:00",
          "disease": "yellowfever"
         },
         {
          "count": 1,
          "date": "2019-06-10T00:00:00",
          "disease": "undiagnoseddisease"
         },
         {
          "count": 0,
          "date": "2019-06-10T00:00:00",
          "disease": "lassafever"
         },
         {
          "count": 0,
          "date": "2019-06-10T00:00:00",
          "disease": "malaria"
         },
         {
          "count": 0,
          "date": "2019-06-10T00:00:00",
          "disease": "riftvalleyfever"
         },
         {
          "count": 0,
          "date": "2019-06-10T00:00:00",
          "disease": "mers-cov"
         },
         {
          "count": 0,
          "date": "2019-06-10T00:00:00",
          "disease": "diphtheria"
         },
         {
          "count": 0,
          "date": "2019-06-17T00:00:00",
          "disease": "measles"
         },
         {
          "count": 0,
          "date": "2019-06-17T00:00:00",
          "disease": "cholera"
         },
         {
          "count": 1,
          "date": "2019-06-17T00:00:00",
          "disease": "dengue"
         },
         {
          "count": 1,
          "date": "2019-06-17T00:00:00",
          "disease": "yellowfever"
         },
         {
          "count": 0,
          "date": "2019-06-17T00:00:00",
          "disease": "undiagnoseddisease"
         },
         {
          "count": 0,
          "date": "2019-06-17T00:00:00",
          "disease": "lassafever"
         },
         {
          "count": 0,
          "date": "2019-06-17T00:00:00",
          "disease": "malaria"
         },
         {
          "count": 0,
          "date": "2019-06-17T00:00:00",
          "disease": "riftvalleyfever"
         },
         {
          "count": 0,
          "date": "2019-06-17T00:00:00",
          "disease": "mers-cov"
         },
         {
          "count": 0,
          "date": "2019-06-17T00:00:00",
          "disease": "diphtheria"
         },
         {
          "count": 1,
          "date": "2019-06-24T00:00:00",
          "disease": "measles"
         },
         {
          "count": 0,
          "date": "2019-06-24T00:00:00",
          "disease": "cholera"
         },
         {
          "count": 0,
          "date": "2019-06-24T00:00:00",
          "disease": "dengue"
         },
         {
          "count": 0,
          "date": "2019-06-24T00:00:00",
          "disease": "yellowfever"
         },
         {
          "count": 0,
          "date": "2019-06-24T00:00:00",
          "disease": "undiagnoseddisease"
         },
         {
          "count": 0,
          "date": "2019-06-24T00:00:00",
          "disease": "lassafever"
         },
         {
          "count": 0,
          "date": "2019-06-24T00:00:00",
          "disease": "malaria"
         },
         {
          "count": 0,
          "date": "2019-06-24T00:00:00",
          "disease": "riftvalleyfever"
         },
         {
          "count": 0,
          "date": "2019-06-24T00:00:00",
          "disease": "mers-cov"
         },
         {
          "count": 0,
          "date": "2019-06-24T00:00:00",
          "disease": "diphtheria"
         },
         {
          "count": 0,
          "date": "2019-07-01T00:00:00",
          "disease": "measles"
         },
         {
          "count": 2,
          "date": "2019-07-01T00:00:00",
          "disease": "cholera"
         },
         {
          "count": 1,
          "date": "2019-07-01T00:00:00",
          "disease": "dengue"
         },
         {
          "count": 1,
          "date": "2019-07-01T00:00:00",
          "disease": "yellowfever"
         },
         {
          "count": 0,
          "date": "2019-07-01T00:00:00",
          "disease": "undiagnoseddisease"
         },
         {
          "count": 0,
          "date": "2019-07-01T00:00:00",
          "disease": "lassafever"
         },
         {
          "count": 0,
          "date": "2019-07-01T00:00:00",
          "disease": "malaria"
         },
         {
          "count": 0,
          "date": "2019-07-01T00:00:00",
          "disease": "riftvalleyfever"
         },
         {
          "count": 0,
          "date": "2019-07-01T00:00:00",
          "disease": "mers-cov"
         },
         {
          "count": 0,
          "date": "2019-07-01T00:00:00",
          "disease": "diphtheria"
         },
         {
          "count": 0,
          "date": "2019-07-08T00:00:00",
          "disease": "measles"
         },
         {
          "count": 0,
          "date": "2019-07-08T00:00:00",
          "disease": "cholera"
         },
         {
          "count": 0,
          "date": "2019-07-08T00:00:00",
          "disease": "dengue"
         },
         {
          "count": 0,
          "date": "2019-07-08T00:00:00",
          "disease": "yellowfever"
         },
         {
          "count": 0,
          "date": "2019-07-08T00:00:00",
          "disease": "undiagnoseddisease"
         },
         {
          "count": 0,
          "date": "2019-07-08T00:00:00",
          "disease": "lassafever"
         },
         {
          "count": 0,
          "date": "2019-07-08T00:00:00",
          "disease": "malaria"
         },
         {
          "count": 0,
          "date": "2019-07-08T00:00:00",
          "disease": "riftvalleyfever"
         },
         {
          "count": 0,
          "date": "2019-07-08T00:00:00",
          "disease": "mers-cov"
         },
         {
          "count": 0,
          "date": "2019-07-08T00:00:00",
          "disease": "diphtheria"
         },
         {
          "count": 2,
          "date": "2019-07-15T00:00:00",
          "disease": "measles"
         },
         {
          "count": 2,
          "date": "2019-07-15T00:00:00",
          "disease": "cholera"
         },
         {
          "count": 0,
          "date": "2019-07-15T00:00:00",
          "disease": "dengue"
         },
         {
          "count": 0,
          "date": "2019-07-15T00:00:00",
          "disease": "yellowfever"
         },
         {
          "count": 0,
          "date": "2019-07-15T00:00:00",
          "disease": "undiagnoseddisease"
         },
         {
          "count": 0,
          "date": "2019-07-15T00:00:00",
          "disease": "lassafever"
         },
         {
          "count": 0,
          "date": "2019-07-15T00:00:00",
          "disease": "malaria"
         },
         {
          "count": 0,
          "date": "2019-07-15T00:00:00",
          "disease": "riftvalleyfever"
         },
         {
          "count": 0,
          "date": "2019-07-15T00:00:00",
          "disease": "mers-cov"
         },
         {
          "count": 0,
          "date": "2019-07-15T00:00:00",
          "disease": "diphtheria"
         },
         {
          "count": 2,
          "date": "2019-07-22T00:00:00",
          "disease": "measles"
         },
         {
          "count": 2,
          "date": "2019-07-22T00:00:00",
          "disease": "cholera"
         },
         {
          "count": 3,
          "date": "2019-07-22T00:00:00",
          "disease": "dengue"
         },
         {
          "count": 0,
          "date": "2019-07-22T00:00:00",
          "disease": "yellowfever"
         },
         {
          "count": 0,
          "date": "2019-07-22T00:00:00",
          "disease": "undiagnoseddisease"
         },
         {
          "count": 0,
          "date": "2019-07-22T00:00:00",
          "disease": "lassafever"
         },
         {
          "count": 1,
          "date": "2019-07-22T00:00:00",
          "disease": "malaria"
         },
         {
          "count": 0,
          "date": "2019-07-22T00:00:00",
          "disease": "riftvalleyfever"
         },
         {
          "count": 0,
          "date": "2019-07-22T00:00:00",
          "disease": "mers-cov"
         },
         {
          "count": 0,
          "date": "2019-07-22T00:00:00",
          "disease": "diphtheria"
         },
         {
          "count": 1,
          "date": "2019-07-29T00:00:00",
          "disease": "measles"
         },
         {
          "count": 3,
          "date": "2019-07-29T00:00:00",
          "disease": "cholera"
         },
         {
          "count": 4,
          "date": "2019-07-29T00:00:00",
          "disease": "dengue"
         },
         {
          "count": 0,
          "date": "2019-07-29T00:00:00",
          "disease": "yellowfever"
         },
         {
          "count": 0,
          "date": "2019-07-29T00:00:00",
          "disease": "undiagnoseddisease"
         },
         {
          "count": 0,
          "date": "2019-07-29T00:00:00",
          "disease": "lassafever"
         },
         {
          "count": 1,
          "date": "2019-07-29T00:00:00",
          "disease": "malaria"
         },
         {
          "count": 0,
          "date": "2019-07-29T00:00:00",
          "disease": "riftvalleyfever"
         },
         {
          "count": 1,
          "date": "2019-07-29T00:00:00",
          "disease": "mers-cov"
         },
         {
          "count": 0,
          "date": "2019-07-29T00:00:00",
          "disease": "diphtheria"
         },
         {
          "count": 1,
          "date": "2019-08-05T00:00:00",
          "disease": "measles"
         },
         {
          "count": 0,
          "date": "2019-08-05T00:00:00",
          "disease": "cholera"
         },
         {
          "count": 6,
          "date": "2019-08-05T00:00:00",
          "disease": "dengue"
         },
         {
          "count": 0,
          "date": "2019-08-05T00:00:00",
          "disease": "yellowfever"
         },
         {
          "count": 0,
          "date": "2019-08-05T00:00:00",
          "disease": "undiagnoseddisease"
         },
         {
          "count": 0,
          "date": "2019-08-05T00:00:00",
          "disease": "lassafever"
         },
         {
          "count": 0,
          "date": "2019-08-05T00:00:00",
          "disease": "malaria"
         },
         {
          "count": 0,
          "date": "2019-08-05T00:00:00",
          "disease": "riftvalleyfever"
         },
         {
          "count": 0,
          "date": "2019-08-05T00:00:00",
          "disease": "mers-cov"
         },
         {
          "count": 0,
          "date": "2019-08-05T00:00:00",
          "disease": "diphtheria"
         },
         {
          "count": 0,
          "date": "2019-08-12T00:00:00",
          "disease": "measles"
         },
         {
          "count": 1,
          "date": "2019-08-12T00:00:00",
          "disease": "cholera"
         },
         {
          "count": 3,
          "date": "2019-08-12T00:00:00",
          "disease": "dengue"
         },
         {
          "count": 1,
          "date": "2019-08-12T00:00:00",
          "disease": "yellowfever"
         },
         {
          "count": 0,
          "date": "2019-08-12T00:00:00",
          "disease": "undiagnoseddisease"
         },
         {
          "count": 0,
          "date": "2019-08-12T00:00:00",
          "disease": "lassafever"
         },
         {
          "count": 0,
          "date": "2019-08-12T00:00:00",
          "disease": "malaria"
         },
         {
          "count": 0,
          "date": "2019-08-12T00:00:00",
          "disease": "riftvalleyfever"
         },
         {
          "count": 0,
          "date": "2019-08-12T00:00:00",
          "disease": "mers-cov"
         },
         {
          "count": 0,
          "date": "2019-08-12T00:00:00",
          "disease": "diphtheria"
         },
         {
          "count": 1,
          "date": "2019-08-19T00:00:00",
          "disease": "measles"
         },
         {
          "count": 1,
          "date": "2019-08-19T00:00:00",
          "disease": "cholera"
         },
         {
          "count": 0,
          "date": "2019-08-19T00:00:00",
          "disease": "dengue"
         },
         {
          "count": 0,
          "date": "2019-08-19T00:00:00",
          "disease": "yellowfever"
         },
         {
          "count": 0,
          "date": "2019-08-19T00:00:00",
          "disease": "undiagnoseddisease"
         },
         {
          "count": 0,
          "date": "2019-08-19T00:00:00",
          "disease": "lassafever"
         },
         {
          "count": 0,
          "date": "2019-08-19T00:00:00",
          "disease": "malaria"
         },
         {
          "count": 0,
          "date": "2019-08-19T00:00:00",
          "disease": "riftvalleyfever"
         },
         {
          "count": 0,
          "date": "2019-08-19T00:00:00",
          "disease": "mers-cov"
         },
         {
          "count": 1,
          "date": "2019-08-19T00:00:00",
          "disease": "diphtheria"
         },
         {
          "count": 1,
          "date": "2019-08-26T00:00:00",
          "disease": "measles"
         },
         {
          "count": 0,
          "date": "2019-08-26T00:00:00",
          "disease": "cholera"
         },
         {
          "count": 0,
          "date": "2019-08-26T00:00:00",
          "disease": "dengue"
         },
         {
          "count": 1,
          "date": "2019-08-26T00:00:00",
          "disease": "yellowfever"
         },
         {
          "count": 0,
          "date": "2019-08-26T00:00:00",
          "disease": "undiagnoseddisease"
         },
         {
          "count": 0,
          "date": "2019-08-26T00:00:00",
          "disease": "lassafever"
         },
         {
          "count": 0,
          "date": "2019-08-26T00:00:00",
          "disease": "malaria"
         },
         {
          "count": 0,
          "date": "2019-08-26T00:00:00",
          "disease": "riftvalleyfever"
         },
         {
          "count": 0,
          "date": "2019-08-26T00:00:00",
          "disease": "mers-cov"
         },
         {
          "count": 0,
          "date": "2019-08-26T00:00:00",
          "disease": "diphtheria"
         },
         {
          "count": 2,
          "date": "2019-09-02T00:00:00",
          "disease": "measles"
         },
         {
          "count": 0,
          "date": "2019-09-02T00:00:00",
          "disease": "cholera"
         },
         {
          "count": 1,
          "date": "2019-09-02T00:00:00",
          "disease": "dengue"
         },
         {
          "count": 0,
          "date": "2019-09-02T00:00:00",
          "disease": "yellowfever"
         },
         {
          "count": 1,
          "date": "2019-09-02T00:00:00",
          "disease": "undiagnoseddisease"
         },
         {
          "count": 1,
          "date": "2019-09-02T00:00:00",
          "disease": "lassafever"
         },
         {
          "count": 0,
          "date": "2019-09-02T00:00:00",
          "disease": "malaria"
         },
         {
          "count": 1,
          "date": "2019-09-02T00:00:00",
          "disease": "riftvalleyfever"
         },
         {
          "count": 0,
          "date": "2019-09-02T00:00:00",
          "disease": "mers-cov"
         },
         {
          "count": 0,
          "date": "2019-09-02T00:00:00",
          "disease": "diphtheria"
         },
         {
          "count": 1,
          "date": "2019-09-09T00:00:00",
          "disease": "measles"
         },
         {
          "count": 1,
          "date": "2019-09-09T00:00:00",
          "disease": "cholera"
         },
         {
          "count": 1,
          "date": "2019-09-09T00:00:00",
          "disease": "dengue"
         },
         {
          "count": 1,
          "date": "2019-09-09T00:00:00",
          "disease": "yellowfever"
         },
         {
          "count": 0,
          "date": "2019-09-09T00:00:00",
          "disease": "undiagnoseddisease"
         },
         {
          "count": 1,
          "date": "2019-09-09T00:00:00",
          "disease": "lassafever"
         },
         {
          "count": 0,
          "date": "2019-09-09T00:00:00",
          "disease": "malaria"
         },
         {
          "count": 0,
          "date": "2019-09-09T00:00:00",
          "disease": "riftvalleyfever"
         },
         {
          "count": 0,
          "date": "2019-09-09T00:00:00",
          "disease": "mers-cov"
         },
         {
          "count": 1,
          "date": "2019-09-09T00:00:00",
          "disease": "diphtheria"
         },
         {
          "count": 1,
          "date": "2019-09-16T00:00:00",
          "disease": "measles"
         },
         {
          "count": 2,
          "date": "2019-09-16T00:00:00",
          "disease": "cholera"
         },
         {
          "count": 0,
          "date": "2019-09-16T00:00:00",
          "disease": "dengue"
         },
         {
          "count": 0,
          "date": "2019-09-16T00:00:00",
          "disease": "yellowfever"
         },
         {
          "count": 0,
          "date": "2019-09-16T00:00:00",
          "disease": "undiagnoseddisease"
         },
         {
          "count": 0,
          "date": "2019-09-16T00:00:00",
          "disease": "lassafever"
         },
         {
          "count": 0,
          "date": "2019-09-16T00:00:00",
          "disease": "malaria"
         },
         {
          "count": 0,
          "date": "2019-09-16T00:00:00",
          "disease": "riftvalleyfever"
         },
         {
          "count": 0,
          "date": "2019-09-16T00:00:00",
          "disease": "mers-cov"
         },
         {
          "count": 0,
          "date": "2019-09-16T00:00:00",
          "disease": "diphtheria"
         },
         {
          "count": 0,
          "date": "2019-09-23T00:00:00",
          "disease": "measles"
         },
         {
          "count": 0,
          "date": "2019-09-23T00:00:00",
          "disease": "cholera"
         },
         {
          "count": 2,
          "date": "2019-09-23T00:00:00",
          "disease": "dengue"
         },
         {
          "count": 0,
          "date": "2019-09-23T00:00:00",
          "disease": "yellowfever"
         },
         {
          "count": 0,
          "date": "2019-09-23T00:00:00",
          "disease": "undiagnoseddisease"
         },
         {
          "count": 0,
          "date": "2019-09-23T00:00:00",
          "disease": "lassafever"
         },
         {
          "count": 0,
          "date": "2019-09-23T00:00:00",
          "disease": "malaria"
         },
         {
          "count": 0,
          "date": "2019-09-23T00:00:00",
          "disease": "riftvalleyfever"
         },
         {
          "count": 0,
          "date": "2019-09-23T00:00:00",
          "disease": "mers-cov"
         },
         {
          "count": 0,
          "date": "2019-09-23T00:00:00",
          "disease": "diphtheria"
         },
         {
          "count": 0,
          "date": "2019-09-30T00:00:00",
          "disease": "measles"
         },
         {
          "count": 0,
          "date": "2019-09-30T00:00:00",
          "disease": "cholera"
         },
         {
          "count": 1,
          "date": "2019-09-30T00:00:00",
          "disease": "dengue"
         },
         {
          "count": 0,
          "date": "2019-09-30T00:00:00",
          "disease": "yellowfever"
         },
         {
          "count": 0,
          "date": "2019-09-30T00:00:00",
          "disease": "undiagnoseddisease"
         },
         {
          "count": 1,
          "date": "2019-09-30T00:00:00",
          "disease": "lassafever"
         },
         {
          "count": 0,
          "date": "2019-09-30T00:00:00",
          "disease": "malaria"
         },
         {
          "count": 0,
          "date": "2019-09-30T00:00:00",
          "disease": "riftvalleyfever"
         },
         {
          "count": 0,
          "date": "2019-09-30T00:00:00",
          "disease": "mers-cov"
         },
         {
          "count": 0,
          "date": "2019-09-30T00:00:00",
          "disease": "diphtheria"
         }
        ]
       },
       "encoding": {
        "color": {
         "field": "disease",
         "type": "nominal"
        },
        "tooltip": [
         {
          "field": "date",
          "type": "temporal"
         },
         {
          "field": "disease",
          "type": "nominal"
         },
         {
          "field": "count",
          "type": "quantitative"
         }
        ],
        "x": {
         "field": "date",
         "type": "temporal"
        },
        "y": {
         "aggregate": "sum",
         "field": "count",
         "type": "quantitative"
        }
       },
       "height": 400,
       "mark": "bar",
       "selection": {
        "selector007": {
         "bind": "scales",
         "encodings": [
          "x"
         ],
         "type": "interval"
        }
       },
       "title": "signals weekly count for top 10 dieases",
       "width": 600
      },
      "image/png": "[encoded data removed]",
      "text/plain": [
       "<VegaLite 3 object>\n",
       "\n",
       "If you see this message, it means the renderer has not been properly enabled\n",
       "for the frontend that you are using. For more information, see\n",
       "https://altair-viz.github.io/user_guide/troubleshooting.html\n"
      ]
     },
     "metadata": {
      "application/vnd.vegalite.v3+json": {
       "embed_options": {
        "theme": "dark"
       }
      }
     },
     "output_type": "display_data"
    },
    {
     "data": {
      "application/vnd.vegalite.v3+json": {
       "$schema": "https://vega.github.io/schema/vega-lite/v3.3.0.json",
       "config": {
        "mark": {
         "tooltip": null
        },
        "view": {
         "height": 300,
         "width": 400
        }
       },
       "data": {
        "name": "data-21ef5a798130338fba095aef55e778c1"
       },
       "datasets": {
        "data-21ef5a798130338fba095aef55e778c1": [
         {
          "count": 4,
          "country": "nigeria",
          "date": "2017-10-30T00:00:00"
         },
         {
          "count": 1,
          "country": "uganda",
          "date": "2017-10-30T00:00:00"
         },
         {
          "count": 0,
          "country": "democraticrepublicofthecongo(the)",
          "date": "2017-10-30T00:00:00"
         },
         {
          "count": 1,
          "country": "india",
          "date": "2017-10-30T00:00:00"
         },
         {
          "count": 0,
          "country": "brazil",
          "date": "2017-10-30T00:00:00"
         },
         {
          "count": 2,
          "country": "pakistan",
          "date": "2017-10-30T00:00:00"
         },
         {
          "count": 3,
          "country": "kenya",
          "date": "2017-10-30T00:00:00"
         },
         {
          "count": 1,
          "country": "unitedstatesofamerica(the)",
          "date": "2017-10-30T00:00:00"
         },
         {
          "count": 0,
          "country": "china",
          "date": "2017-10-30T00:00:00"
         },
         {
          "count": 1,
          "country": "saudiarabia",
          "date": "2017-10-30T00:00:00"
         },
         {
          "count": 3,
          "country": "nigeria",
          "date": "2017-11-06T00:00:00"
         },
         {
          "count": 0,
          "country": "uganda",
          "date": "2017-11-06T00:00:00"
         },
         {
          "count": 0,
          "country": "democraticrepublicofthecongo(the)",
          "date": "2017-11-06T00:00:00"
         },
         {
          "count": 1,
          "country": "india",
          "date": "2017-11-06T00:00:00"
         },
         {
          "count": 3,
          "country": "brazil",
          "date": "2017-11-06T00:00:00"
         },
         {
          "count": 3,
          "country": "pakistan",
          "date": "2017-11-06T00:00:00"
         },
         {
          "count": 0,
          "country": "kenya",
          "date": "2017-11-06T00:00:00"
         },
         {
          "count": 3,
          "country": "unitedstatesofamerica(the)",
          "date": "2017-11-06T00:00:00"
         },
         {
          "count": 1,
          "country": "china",
          "date": "2017-11-06T00:00:00"
         },
         {
          "count": 2,
          "country": "saudiarabia",
          "date": "2017-11-06T00:00:00"
         },
         {
          "count": 4,
          "country": "nigeria",
          "date": "2017-11-13T00:00:00"
         },
         {
          "count": 0,
          "country": "uganda",
          "date": "2017-11-13T00:00:00"
         },
         {
          "count": 2,
          "country": "democraticrepublicofthecongo(the)",
          "date": "2017-11-13T00:00:00"
         },
         {
          "count": 4,
          "country": "india",
          "date": "2017-11-13T00:00:00"
         },
         {
          "count": 1,
          "country": "brazil",
          "date": "2017-11-13T00:00:00"
         },
         {
          "count": 0,
          "country": "pakistan",
          "date": "2017-11-13T00:00:00"
         },
         {
          "count": 0,
          "country": "kenya",
          "date": "2017-11-13T00:00:00"
         },
         {
          "count": 2,
          "country": "unitedstatesofamerica(the)",
          "date": "2017-11-13T00:00:00"
         },
         {
          "count": 0,
          "country": "china",
          "date": "2017-11-13T00:00:00"
         },
         {
          "count": 2,
          "country": "saudiarabia",
          "date": "2017-11-13T00:00:00"
         },
         {
          "count": 3,
          "country": "nigeria",
          "date": "2017-11-20T00:00:00"
         },
         {
          "count": 3,
          "country": "uganda",
          "date": "2017-11-20T00:00:00"
         },
         {
          "count": 0,
          "country": "democraticrepublicofthecongo(the)",
          "date": "2017-11-20T00:00:00"
         },
         {
          "count": 0,
          "country": "india",
          "date": "2017-11-20T00:00:00"
         },
         {
          "count": 1,
          "country": "brazil",
          "date": "2017-11-20T00:00:00"
         },
         {
          "count": 2,
          "country": "pakistan",
          "date": "2017-11-20T00:00:00"
         },
         {
          "count": 0,
          "country": "kenya",
          "date": "2017-11-20T00:00:00"
         },
         {
          "count": 1,
          "country": "unitedstatesofamerica(the)",
          "date": "2017-11-20T00:00:00"
         },
         {
          "count": 2,
          "country": "china",
          "date": "2017-11-20T00:00:00"
         },
         {
          "count": 1,
          "country": "saudiarabia",
          "date": "2017-11-20T00:00:00"
         },
         {
          "count": 2,
          "country": "nigeria",
          "date": "2017-11-27T00:00:00"
         },
         {
          "count": 2,
          "country": "uganda",
          "date": "2017-11-27T00:00:00"
         },
         {
          "count": 1,
          "country": "democraticrepublicofthecongo(the)",
          "date": "2017-11-27T00:00:00"
         },
         {
          "count": 1,
          "country": "india",
          "date": "2017-11-27T00:00:00"
         },
         {
          "count": 1,
          "country": "brazil",
          "date": "2017-11-27T00:00:00"
         },
         {
          "count": 0,
          "country": "pakistan",
          "date": "2017-11-27T00:00:00"
         },
         {
          "count": 1,
          "country": "kenya",
          "date": "2017-11-27T00:00:00"
         },
         {
          "count": 0,
          "country": "unitedstatesofamerica(the)",
          "date": "2017-11-27T00:00:00"
         },
         {
          "count": 2,
          "country": "china",
          "date": "2017-11-27T00:00:00"
         },
         {
          "count": 1,
          "country": "saudiarabia",
          "date": "2017-11-27T00:00:00"
         },
         {
          "count": 1,
          "country": "nigeria",
          "date": "2017-12-04T00:00:00"
         },
         {
          "count": 0,
          "country": "uganda",
          "date": "2017-12-04T00:00:00"
         },
         {
          "count": 0,
          "country": "democraticrepublicofthecongo(the)",
          "date": "2017-12-04T00:00:00"
         },
         {
          "count": 0,
          "country": "india",
          "date": "2017-12-04T00:00:00"
         },
         {
          "count": 2,
          "country": "brazil",
          "date": "2017-12-04T00:00:00"
         },
         {
          "count": 1,
          "country": "pakistan",
          "date": "2017-12-04T00:00:00"
         },
         {
          "count": 0,
          "country": "kenya",
          "date": "2017-12-04T00:00:00"
         },
         {
          "count": 0,
          "country": "unitedstatesofamerica(the)",
          "date": "2017-12-04T00:00:00"
         },
         {
          "count": 0,
          "country": "china",
          "date": "2017-12-04T00:00:00"
         },
         {
          "count": 0,
          "country": "saudiarabia",
          "date": "2017-12-04T00:00:00"
         },
         {
          "count": 0,
          "country": "nigeria",
          "date": "2017-12-11T00:00:00"
         },
         {
          "count": 1,
          "country": "uganda",
          "date": "2017-12-11T00:00:00"
         },
         {
          "count": 0,
          "country": "democraticrepublicofthecongo(the)",
          "date": "2017-12-11T00:00:00"
         },
         {
          "count": 0,
          "country": "india",
          "date": "2017-12-11T00:00:00"
         },
         {
          "count": 2,
          "country": "brazil",
          "date": "2017-12-11T00:00:00"
         },
         {
          "count": 0,
          "country": "pakistan",
          "date": "2017-12-11T00:00:00"
         },
         {
          "count": 0,
          "country": "kenya",
          "date": "2017-12-11T00:00:00"
         },
         {
          "count": 0,
          "country": "unitedstatesofamerica(the)",
          "date": "2017-12-11T00:00:00"
         },
         {
          "count": 2,
          "country": "china",
          "date": "2017-12-11T00:00:00"
         },
         {
          "count": 0,
          "country": "saudiarabia",
          "date": "2017-12-11T00:00:00"
         },
         {
          "count": 1,
          "country": "nigeria",
          "date": "2017-12-18T00:00:00"
         },
         {
          "count": 0,
          "country": "uganda",
          "date": "2017-12-18T00:00:00"
         },
         {
          "count": 0,
          "country": "democraticrepublicofthecongo(the)",
          "date": "2017-12-18T00:00:00"
         },
         {
          "count": 0,
          "country": "india",
          "date": "2017-12-18T00:00:00"
         },
         {
          "count": 1,
          "country": "brazil",
          "date": "2017-12-18T00:00:00"
         },
         {
          "count": 1,
          "country": "pakistan",
          "date": "2017-12-18T00:00:00"
         },
         {
          "count": 0,
          "country": "kenya",
          "date": "2017-12-18T00:00:00"
         },
         {
          "count": 0,
          "country": "unitedstatesofamerica(the)",
          "date": "2017-12-18T00:00:00"
         },
         {
          "count": 0,
          "country": "china",
          "date": "2017-12-18T00:00:00"
         },
         {
          "count": 0,
          "country": "saudiarabia",
          "date": "2017-12-18T00:00:00"
         },
         {
          "count": 2,
          "country": "nigeria",
          "date": "2017-12-25T00:00:00"
         },
         {
          "count": 0,
          "country": "uganda",
          "date": "2017-12-25T00:00:00"
         },
         {
          "count": 0,
          "country": "democraticrepublicofthecongo(the)",
          "date": "2017-12-25T00:00:00"
         },
         {
          "count": 0,
          "country": "india",
          "date": "2017-12-25T00:00:00"
         },
         {
          "count": 2,
          "country": "brazil",
          "date": "2017-12-25T00:00:00"
         },
         {
          "count": 0,
          "country": "pakistan",
          "date": "2017-12-25T00:00:00"
         },
         {
          "count": 0,
          "country": "kenya",
          "date": "2017-12-25T00:00:00"
         },
         {
          "count": 0,
          "country": "unitedstatesofamerica(the)",
          "date": "2017-12-25T00:00:00"
         },
         {
          "count": 0,
          "country": "china",
          "date": "2017-12-25T00:00:00"
         },
         {
          "count": 0,
          "country": "saudiarabia",
          "date": "2017-12-25T00:00:00"
         },
         {
          "count": 1,
          "country": "nigeria",
          "date": "2018-01-01T00:00:00"
         },
         {
          "count": 0,
          "country": "uganda",
          "date": "2018-01-01T00:00:00"
         },
         {
          "count": 0,
          "country": "democraticrepublicofthecongo(the)",
          "date": "2018-01-01T00:00:00"
         },
         {
          "count": 1,
          "country": "india",
          "date": "2018-01-01T00:00:00"
         },
         {
          "count": 0,
          "country": "brazil",
          "date": "2018-01-01T00:00:00"
         },
         {
          "count": 1,
          "country": "pakistan",
          "date": "2018-01-01T00:00:00"
         },
         {
          "count": 2,
          "country": "kenya",
          "date": "2018-01-01T00:00:00"
         },
         {
          "count": 1,
          "country": "unitedstatesofamerica(the)",
          "date": "2018-01-01T00:00:00"
         },
         {
          "count": 0,
          "country": "china",
          "date": "2018-01-01T00:00:00"
         },
         {
          "count": 0,
          "country": "saudiarabia",
          "date": "2018-01-01T00:00:00"
         },
         {
          "count": 2,
          "country": "nigeria",
          "date": "2018-01-08T00:00:00"
         },
         {
          "count": 0,
          "country": "uganda",
          "date": "2018-01-08T00:00:00"
         },
         {
          "count": 0,
          "country": "democraticrepublicofthecongo(the)",
          "date": "2018-01-08T00:00:00"
         },
         {
          "count": 1,
          "country": "india",
          "date": "2018-01-08T00:00:00"
         },
         {
          "count": 3,
          "country": "brazil",
          "date": "2018-01-08T00:00:00"
         },
         {
          "count": 0,
          "country": "pakistan",
          "date": "2018-01-08T00:00:00"
         },
         {
          "count": 2,
          "country": "kenya",
          "date": "2018-01-08T00:00:00"
         },
         {
          "count": 5,
          "country": "unitedstatesofamerica(the)",
          "date": "2018-01-08T00:00:00"
         },
         {
          "count": 2,
          "country": "china",
          "date": "2018-01-08T00:00:00"
         },
         {
          "count": 2,
          "country": "saudiarabia",
          "date": "2018-01-08T00:00:00"
         },
         {
          "count": 2,
          "country": "nigeria",
          "date": "2018-01-15T00:00:00"
         },
         {
          "count": 2,
          "country": "uganda",
          "date": "2018-01-15T00:00:00"
         },
         {
          "count": 0,
          "country": "democraticrepublicofthecongo(the)",
          "date": "2018-01-15T00:00:00"
         },
         {
          "count": 2,
          "country": "india",
          "date": "2018-01-15T00:00:00"
         },
         {
          "count": 4,
          "country": "brazil",
          "date": "2018-01-15T00:00:00"
         },
         {
          "count": 1,
          "country": "pakistan",
          "date": "2018-01-15T00:00:00"
         },
         {
          "count": 1,
          "country": "kenya",
          "date": "2018-01-15T00:00:00"
         },
         {
          "count": 1,
          "country": "unitedstatesofamerica(the)",
          "date": "2018-01-15T00:00:00"
         },
         {
          "count": 0,
          "country": "china",
          "date": "2018-01-15T00:00:00"
         },
         {
          "count": 0,
          "country": "saudiarabia",
          "date": "2018-01-15T00:00:00"
         },
         {
          "count": 1,
          "country": "nigeria",
          "date": "2018-01-22T00:00:00"
         },
         {
          "count": 1,
          "country": "uganda",
          "date": "2018-01-22T00:00:00"
         },
         {
          "count": 0,
          "country": "democraticrepublicofthecongo(the)",
          "date": "2018-01-22T00:00:00"
         },
         {
          "count": 1,
          "country": "india",
          "date": "2018-01-22T00:00:00"
         },
         {
          "count": 1,
          "country": "brazil",
          "date": "2018-01-22T00:00:00"
         },
         {
          "count": 0,
          "country": "pakistan",
          "date": "2018-01-22T00:00:00"
         },
         {
          "count": 0,
          "country": "kenya",
          "date": "2018-01-22T00:00:00"
         },
         {
          "count": 1,
          "country": "unitedstatesofamerica(the)",
          "date": "2018-01-22T00:00:00"
         },
         {
          "count": 0,
          "country": "china",
          "date": "2018-01-22T00:00:00"
         },
         {
          "count": 1,
          "country": "saudiarabia",
          "date": "2018-01-22T00:00:00"
         },
         {
          "count": 0,
          "country": "nigeria",
          "date": "2018-01-29T00:00:00"
         },
         {
          "count": 1,
          "country": "uganda",
          "date": "2018-01-29T00:00:00"
         },
         {
          "count": 0,
          "country": "democraticrepublicofthecongo(the)",
          "date": "2018-01-29T00:00:00"
         },
         {
          "count": 0,
          "country": "india",
          "date": "2018-01-29T00:00:00"
         },
         {
          "count": 0,
          "country": "brazil",
          "date": "2018-01-29T00:00:00"
         },
         {
          "count": 1,
          "country": "pakistan",
          "date": "2018-01-29T00:00:00"
         },
         {
          "count": 0,
          "country": "kenya",
          "date": "2018-01-29T00:00:00"
         },
         {
          "count": 0,
          "country": "unitedstatesofamerica(the)",
          "date": "2018-01-29T00:00:00"
         },
         {
          "count": 0,
          "country": "china",
          "date": "2018-01-29T00:00:00"
         },
         {
          "count": 0,
          "country": "saudiarabia",
          "date": "2018-01-29T00:00:00"
         },
         {
          "count": 1,
          "country": "nigeria",
          "date": "2018-02-05T00:00:00"
         },
         {
          "count": 0,
          "country": "uganda",
          "date": "2018-02-05T00:00:00"
         },
         {
          "count": 2,
          "country": "democraticrepublicofthecongo(the)",
          "date": "2018-02-05T00:00:00"
         },
         {
          "count": 2,
          "country": "india",
          "date": "2018-02-05T00:00:00"
         },
         {
          "count": 2,
          "country": "brazil",
          "date": "2018-02-05T00:00:00"
         },
         {
          "count": 0,
          "country": "pakistan",
          "date": "2018-02-05T00:00:00"
         },
         {
          "count": 0,
          "country": "kenya",
          "date": "2018-02-05T00:00:00"
         },
         {
          "count": 0,
          "country": "unitedstatesofamerica(the)",
          "date": "2018-02-05T00:00:00"
         },
         {
          "count": 0,
          "country": "china",
          "date": "2018-02-05T00:00:00"
         },
         {
          "count": 3,
          "country": "saudiarabia",
          "date": "2018-02-05T00:00:00"
         },
         {
          "count": 0,
          "country": "nigeria",
          "date": "2018-02-12T00:00:00"
         },
         {
          "count": 0,
          "country": "uganda",
          "date": "2018-02-12T00:00:00"
         },
         {
          "count": 3,
          "country": "democraticrepublicofthecongo(the)",
          "date": "2018-02-12T00:00:00"
         },
         {
          "count": 0,
          "country": "india",
          "date": "2018-02-12T00:00:00"
         },
         {
          "count": 0,
          "country": "brazil",
          "date": "2018-02-12T00:00:00"
         },
         {
          "count": 0,
          "country": "pakistan",
          "date": "2018-02-12T00:00:00"
         },
         {
          "count": 2,
          "country": "kenya",
          "date": "2018-02-12T00:00:00"
         },
         {
          "count": 0,
          "country": "unitedstatesofamerica(the)",
          "date": "2018-02-12T00:00:00"
         },
         {
          "count": 2,
          "country": "china",
          "date": "2018-02-12T00:00:00"
         },
         {
          "count": 0,
          "country": "saudiarabia",
          "date": "2018-02-12T00:00:00"
         },
         {
          "count": 0,
          "country": "nigeria",
          "date": "2018-02-19T00:00:00"
         },
         {
          "count": 1,
          "country": "uganda",
          "date": "2018-02-19T00:00:00"
         },
         {
          "count": 1,
          "country": "democraticrepublicofthecongo(the)",
          "date": "2018-02-19T00:00:00"
         },
         {
          "count": 0,
          "country": "india",
          "date": "2018-02-19T00:00:00"
         },
         {
          "count": 3,
          "country": "brazil",
          "date": "2018-02-19T00:00:00"
         },
         {
          "count": 0,
          "country": "pakistan",
          "date": "2018-02-19T00:00:00"
         },
         {
          "count": 0,
          "country": "kenya",
          "date": "2018-02-19T00:00:00"
         },
         {
          "count": 0,
          "country": "unitedstatesofamerica(the)",
          "date": "2018-02-19T00:00:00"
         },
         {
          "count": 0,
          "country": "china",
          "date": "2018-02-19T00:00:00"
         },
         {
          "count": 0,
          "country": "saudiarabia",
          "date": "2018-02-19T00:00:00"
         },
         {
          "count": 0,
          "country": "nigeria",
          "date": "2018-02-26T00:00:00"
         },
         {
          "count": 1,
          "country": "uganda",
          "date": "2018-02-26T00:00:00"
         },
         {
          "count": 1,
          "country": "democraticrepublicofthecongo(the)",
          "date": "2018-02-26T00:00:00"
         },
         {
          "count": 0,
          "country": "india",
          "date": "2018-02-26T00:00:00"
         },
         {
          "count": 0,
          "country": "brazil",
          "date": "2018-02-26T00:00:00"
         },
         {
          "count": 0,
          "country": "pakistan",
          "date": "2018-02-26T00:00:00"
         },
         {
          "count": 0,
          "country": "kenya",
          "date": "2018-02-26T00:00:00"
         },
         {
          "count": 2,
          "country": "unitedstatesofamerica(the)",
          "date": "2018-02-26T00:00:00"
         },
         {
          "count": 2,
          "country": "china",
          "date": "2018-02-26T00:00:00"
         },
         {
          "count": 0,
          "country": "saudiarabia",
          "date": "2018-02-26T00:00:00"
         },
         {
          "count": 2,
          "country": "nigeria",
          "date": "2018-03-05T00:00:00"
         },
         {
          "count": 0,
          "country": "uganda",
          "date": "2018-03-05T00:00:00"
         },
         {
          "count": 1,
          "country": "democraticrepublicofthecongo(the)",
          "date": "2018-03-05T00:00:00"
         },
         {
          "count": 0,
          "country": "india",
          "date": "2018-03-05T00:00:00"
         },
         {
          "count": 0,
          "country": "brazil",
          "date": "2018-03-05T00:00:00"
         },
         {
          "count": 0,
          "country": "pakistan",
          "date": "2018-03-05T00:00:00"
         },
         {
          "count": 0,
          "country": "kenya",
          "date": "2018-03-05T00:00:00"
         },
         {
          "count": 0,
          "country": "unitedstatesofamerica(the)",
          "date": "2018-03-05T00:00:00"
         },
         {
          "count": 0,
          "country": "china",
          "date": "2018-03-05T00:00:00"
         },
         {
          "count": 1,
          "country": "saudiarabia",
          "date": "2018-03-05T00:00:00"
         },
         {
          "count": 1,
          "country": "nigeria",
          "date": "2018-03-12T00:00:00"
         },
         {
          "count": 2,
          "country": "uganda",
          "date": "2018-03-12T00:00:00"
         },
         {
          "count": 1,
          "country": "democraticrepublicofthecongo(the)",
          "date": "2018-03-12T00:00:00"
         },
         {
          "count": 0,
          "country": "india",
          "date": "2018-03-12T00:00:00"
         },
         {
          "count": 0,
          "country": "brazil",
          "date": "2018-03-12T00:00:00"
         },
         {
          "count": 0,
          "country": "pakistan",
          "date": "2018-03-12T00:00:00"
         },
         {
          "count": 0,
          "country": "kenya",
          "date": "2018-03-12T00:00:00"
         },
         {
          "count": 0,
          "country": "unitedstatesofamerica(the)",
          "date": "2018-03-12T00:00:00"
         },
         {
          "count": 0,
          "country": "china",
          "date": "2018-03-12T00:00:00"
         },
         {
          "count": 0,
          "country": "saudiarabia",
          "date": "2018-03-12T00:00:00"
         },
         {
          "count": 1,
          "country": "nigeria",
          "date": "2018-03-19T00:00:00"
         },
         {
          "count": 0,
          "country": "uganda",
          "date": "2018-03-19T00:00:00"
         },
         {
          "count": 1,
          "country": "democraticrepublicofthecongo(the)",
          "date": "2018-03-19T00:00:00"
         },
         {
          "count": 0,
          "country": "india",
          "date": "2018-03-19T00:00:00"
         },
         {
          "count": 0,
          "country": "brazil",
          "date": "2018-03-19T00:00:00"
         },
         {
          "count": 0,
          "country": "pakistan",
          "date": "2018-03-19T00:00:00"
         },
         {
          "count": 0,
          "country": "kenya",
          "date": "2018-03-19T00:00:00"
         },
         {
          "count": 0,
          "country": "unitedstatesofamerica(the)",
          "date": "2018-03-19T00:00:00"
         },
         {
          "count": 0,
          "country": "china",
          "date": "2018-03-19T00:00:00"
         },
         {
          "count": 0,
          "country": "saudiarabia",
          "date": "2018-03-19T00:00:00"
         },
         {
          "count": 1,
          "country": "nigeria",
          "date": "2018-03-26T00:00:00"
         },
         {
          "count": 0,
          "country": "uganda",
          "date": "2018-03-26T00:00:00"
         },
         {
          "count": 0,
          "country": "democraticrepublicofthecongo(the)",
          "date": "2018-03-26T00:00:00"
         },
         {
          "count": 0,
          "country": "india",
          "date": "2018-03-26T00:00:00"
         },
         {
          "count": 0,
          "country": "brazil",
          "date": "2018-03-26T00:00:00"
         },
         {
          "count": 0,
          "country": "pakistan",
          "date": "2018-03-26T00:00:00"
         },
         {
          "count": 0,
          "country": "kenya",
          "date": "2018-03-26T00:00:00"
         },
         {
          "count": 0,
          "country": "unitedstatesofamerica(the)",
          "date": "2018-03-26T00:00:00"
         },
         {
          "count": 0,
          "country": "china",
          "date": "2018-03-26T00:00:00"
         },
         {
          "count": 0,
          "country": "saudiarabia",
          "date": "2018-03-26T00:00:00"
         },
         {
          "count": 4,
          "country": "nigeria",
          "date": "2018-04-02T00:00:00"
         },
         {
          "count": 0,
          "country": "uganda",
          "date": "2018-04-02T00:00:00"
         },
         {
          "count": 0,
          "country": "democraticrepublicofthecongo(the)",
          "date": "2018-04-02T00:00:00"
         },
         {
          "count": 1,
          "country": "india",
          "date": "2018-04-02T00:00:00"
         },
         {
          "count": 0,
          "country": "brazil",
          "date": "2018-04-02T00:00:00"
         },
         {
          "count": 2,
          "country": "pakistan",
          "date": "2018-04-02T00:00:00"
         },
         {
          "count": 1,
          "country": "kenya",
          "date": "2018-04-02T00:00:00"
         },
         {
          "count": 1,
          "country": "unitedstatesofamerica(the)",
          "date": "2018-04-02T00:00:00"
         },
         {
          "count": 1,
          "country": "china",
          "date": "2018-04-02T00:00:00"
         },
         {
          "count": 0,
          "country": "saudiarabia",
          "date": "2018-04-02T00:00:00"
         },
         {
          "count": 0,
          "country": "nigeria",
          "date": "2018-04-09T00:00:00"
         },
         {
          "count": 1,
          "country": "uganda",
          "date": "2018-04-09T00:00:00"
         },
         {
          "count": 0,
          "country": "democraticrepublicofthecongo(the)",
          "date": "2018-04-09T00:00:00"
         },
         {
          "count": 0,
          "country": "india",
          "date": "2018-04-09T00:00:00"
         },
         {
          "count": 0,
          "country": "brazil",
          "date": "2018-04-09T00:00:00"
         },
         {
          "count": 1,
          "country": "pakistan",
          "date": "2018-04-09T00:00:00"
         },
         {
          "count": 1,
          "country": "kenya",
          "date": "2018-04-09T00:00:00"
         },
         {
          "count": 1,
          "country": "unitedstatesofamerica(the)",
          "date": "2018-04-09T00:00:00"
         },
         {
          "count": 0,
          "country": "china",
          "date": "2018-04-09T00:00:00"
         },
         {
          "count": 0,
          "country": "saudiarabia",
          "date": "2018-04-09T00:00:00"
         },
         {
          "count": 1,
          "country": "nigeria",
          "date": "2018-04-16T00:00:00"
         },
         {
          "count": 0,
          "country": "uganda",
          "date": "2018-04-16T00:00:00"
         },
         {
          "count": 0,
          "country": "democraticrepublicofthecongo(the)",
          "date": "2018-04-16T00:00:00"
         },
         {
          "count": 1,
          "country": "india",
          "date": "2018-04-16T00:00:00"
         },
         {
          "count": 0,
          "country": "brazil",
          "date": "2018-04-16T00:00:00"
         },
         {
          "count": 2,
          "country": "pakistan",
          "date": "2018-04-16T00:00:00"
         },
         {
          "count": 2,
          "country": "kenya",
          "date": "2018-04-16T00:00:00"
         },
         {
          "count": 1,
          "country": "unitedstatesofamerica(the)",
          "date": "2018-04-16T00:00:00"
         },
         {
          "count": 2,
          "country": "china",
          "date": "2018-04-16T00:00:00"
         },
         {
          "count": 0,
          "country": "saudiarabia",
          "date": "2018-04-16T00:00:00"
         },
         {
          "count": 0,
          "country": "nigeria",
          "date": "2018-04-23T00:00:00"
         },
         {
          "count": 1,
          "country": "uganda",
          "date": "2018-04-23T00:00:00"
         },
         {
          "count": 0,
          "country": "democraticrepublicofthecongo(the)",
          "date": "2018-04-23T00:00:00"
         },
         {
          "count": 0,
          "country": "india",
          "date": "2018-04-23T00:00:00"
         },
         {
          "count": 2,
          "country": "brazil",
          "date": "2018-04-23T00:00:00"
         },
         {
          "count": 2,
          "country": "pakistan",
          "date": "2018-04-23T00:00:00"
         },
         {
          "count": 2,
          "country": "kenya",
          "date": "2018-04-23T00:00:00"
         },
         {
          "count": 2,
          "country": "unitedstatesofamerica(the)",
          "date": "2018-04-23T00:00:00"
         },
         {
          "count": 0,
          "country": "china",
          "date": "2018-04-23T00:00:00"
         },
         {
          "count": 0,
          "country": "saudiarabia",
          "date": "2018-04-23T00:00:00"
         },
         {
          "count": 0,
          "country": "nigeria",
          "date": "2018-04-30T00:00:00"
         },
         {
          "count": 2,
          "country": "uganda",
          "date": "2018-04-30T00:00:00"
         },
         {
          "count": 2,
          "country": "democraticrepublicofthecongo(the)",
          "date": "2018-04-30T00:00:00"
         },
         {
          "count": 0,
          "country": "india",
          "date": "2018-04-30T00:00:00"
         },
         {
          "count": 1,
          "country": "brazil",
          "date": "2018-04-30T00:00:00"
         },
         {
          "count": 0,
          "country": "pakistan",
          "date": "2018-04-30T00:00:00"
         },
         {
          "count": 1,
          "country": "kenya",
          "date": "2018-04-30T00:00:00"
         },
         {
          "count": 1,
          "country": "unitedstatesofamerica(the)",
          "date": "2018-04-30T00:00:00"
         },
         {
          "count": 1,
          "country": "china",
          "date": "2018-04-30T00:00:00"
         },
         {
          "count": 0,
          "country": "saudiarabia",
          "date": "2018-04-30T00:00:00"
         },
         {
          "count": 2,
          "country": "nigeria",
          "date": "2018-05-07T00:00:00"
         },
         {
          "count": 5,
          "country": "uganda",
          "date": "2018-05-07T00:00:00"
         },
         {
          "count": 3,
          "country": "democraticrepublicofthecongo(the)",
          "date": "2018-05-07T00:00:00"
         },
         {
          "count": 0,
          "country": "india",
          "date": "2018-05-07T00:00:00"
         },
         {
          "count": 1,
          "country": "brazil",
          "date": "2018-05-07T00:00:00"
         },
         {
          "count": 0,
          "country": "pakistan",
          "date": "2018-05-07T00:00:00"
         },
         {
          "count": 0,
          "country": "kenya",
          "date": "2018-05-07T00:00:00"
         },
         {
          "count": 1,
          "country": "unitedstatesofamerica(the)",
          "date": "2018-05-07T00:00:00"
         },
         {
          "count": 0,
          "country": "china",
          "date": "2018-05-07T00:00:00"
         },
         {
          "count": 0,
          "country": "saudiarabia",
          "date": "2018-05-07T00:00:00"
         },
         {
          "count": 3,
          "country": "nigeria",
          "date": "2018-05-14T00:00:00"
         },
         {
          "count": 1,
          "country": "uganda",
          "date": "2018-05-14T00:00:00"
         },
         {
          "count": 0,
          "country": "democraticrepublicofthecongo(the)",
          "date": "2018-05-14T00:00:00"
         },
         {
          "count": 0,
          "country": "india",
          "date": "2018-05-14T00:00:00"
         },
         {
          "count": 2,
          "country": "brazil",
          "date": "2018-05-14T00:00:00"
         },
         {
          "count": 0,
          "country": "pakistan",
          "date": "2018-05-14T00:00:00"
         },
         {
          "count": 2,
          "country": "kenya",
          "date": "2018-05-14T00:00:00"
         },
         {
          "count": 0,
          "country": "unitedstatesofamerica(the)",
          "date": "2018-05-14T00:00:00"
         },
         {
          "count": 0,
          "country": "china",
          "date": "2018-05-14T00:00:00"
         },
         {
          "count": 0,
          "country": "saudiarabia",
          "date": "2018-05-14T00:00:00"
         },
         {
          "count": 1,
          "country": "nigeria",
          "date": "2018-05-21T00:00:00"
         },
         {
          "count": 2,
          "country": "uganda",
          "date": "2018-05-21T00:00:00"
         },
         {
          "count": 0,
          "country": "democraticrepublicofthecongo(the)",
          "date": "2018-05-21T00:00:00"
         },
         {
          "count": 3,
          "country": "india",
          "date": "2018-05-21T00:00:00"
         },
         {
          "count": 0,
          "country": "brazil",
          "date": "2018-05-21T00:00:00"
         },
         {
          "count": 0,
          "country": "pakistan",
          "date": "2018-05-21T00:00:00"
         },
         {
          "count": 3,
          "country": "kenya",
          "date": "2018-05-21T00:00:00"
         },
         {
          "count": 0,
          "country": "unitedstatesofamerica(the)",
          "date": "2018-05-21T00:00:00"
         },
         {
          "count": 0,
          "country": "china",
          "date": "2018-05-21T00:00:00"
         },
         {
          "count": 0,
          "country": "saudiarabia",
          "date": "2018-05-21T00:00:00"
         },
         {
          "count": 1,
          "country": "nigeria",
          "date": "2018-05-28T00:00:00"
         },
         {
          "count": 1,
          "country": "uganda",
          "date": "2018-05-28T00:00:00"
         },
         {
          "count": 0,
          "country": "democraticrepublicofthecongo(the)",
          "date": "2018-05-28T00:00:00"
         },
         {
          "count": 4,
          "country": "india",
          "date": "2018-05-28T00:00:00"
         },
         {
          "count": 0,
          "country": "brazil",
          "date": "2018-05-28T00:00:00"
         },
         {
          "count": 2,
          "country": "pakistan",
          "date": "2018-05-28T00:00:00"
         },
         {
          "count": 0,
          "country": "kenya",
          "date": "2018-05-28T00:00:00"
         },
         {
          "count": 0,
          "country": "unitedstatesofamerica(the)",
          "date": "2018-05-28T00:00:00"
         },
         {
          "count": 0,
          "country": "china",
          "date": "2018-05-28T00:00:00"
         },
         {
          "count": 2,
          "country": "saudiarabia",
          "date": "2018-05-28T00:00:00"
         },
         {
          "count": 4,
          "country": "nigeria",
          "date": "2018-06-04T00:00:00"
         },
         {
          "count": 1,
          "country": "uganda",
          "date": "2018-06-04T00:00:00"
         },
         {
          "count": 1,
          "country": "democraticrepublicofthecongo(the)",
          "date": "2018-06-04T00:00:00"
         },
         {
          "count": 1,
          "country": "india",
          "date": "2018-06-04T00:00:00"
         },
         {
          "count": 1,
          "country": "brazil",
          "date": "2018-06-04T00:00:00"
         },
         {
          "count": 0,
          "country": "pakistan",
          "date": "2018-06-04T00:00:00"
         },
         {
          "count": 2,
          "country": "kenya",
          "date": "2018-06-04T00:00:00"
         },
         {
          "count": 1,
          "country": "unitedstatesofamerica(the)",
          "date": "2018-06-04T00:00:00"
         },
         {
          "count": 0,
          "country": "china",
          "date": "2018-06-04T00:00:00"
         },
         {
          "count": 0,
          "country": "saudiarabia",
          "date": "2018-06-04T00:00:00"
         },
         {
          "count": 2,
          "country": "nigeria",
          "date": "2018-06-11T00:00:00"
         },
         {
          "count": 1,
          "country": "uganda",
          "date": "2018-06-11T00:00:00"
         },
         {
          "count": 0,
          "country": "democraticrepublicofthecongo(the)",
          "date": "2018-06-11T00:00:00"
         },
         {
          "count": 0,
          "country": "india",
          "date": "2018-06-11T00:00:00"
         },
         {
          "count": 1,
          "country": "brazil",
          "date": "2018-06-11T00:00:00"
         },
         {
          "count": 0,
          "country": "pakistan",
          "date": "2018-06-11T00:00:00"
         },
         {
          "count": 2,
          "country": "kenya",
          "date": "2018-06-11T00:00:00"
         },
         {
          "count": 1,
          "country": "unitedstatesofamerica(the)",
          "date": "2018-06-11T00:00:00"
         },
         {
          "count": 0,
          "country": "china",
          "date": "2018-06-11T00:00:00"
         },
         {
          "count": 0,
          "country": "saudiarabia",
          "date": "2018-06-11T00:00:00"
         },
         {
          "count": 0,
          "country": "nigeria",
          "date": "2018-06-18T00:00:00"
         },
         {
          "count": 0,
          "country": "uganda",
          "date": "2018-06-18T00:00:00"
         },
         {
          "count": 1,
          "country": "democraticrepublicofthecongo(the)",
          "date": "2018-06-18T00:00:00"
         },
         {
          "count": 1,
          "country": "india",
          "date": "2018-06-18T00:00:00"
         },
         {
          "count": 0,
          "country": "brazil",
          "date": "2018-06-18T00:00:00"
         },
         {
          "count": 0,
          "country": "pakistan",
          "date": "2018-06-18T00:00:00"
         },
         {
          "count": 1,
          "country": "kenya",
          "date": "2018-06-18T00:00:00"
         },
         {
          "count": 0,
          "country": "unitedstatesofamerica(the)",
          "date": "2018-06-18T00:00:00"
         },
         {
          "count": 0,
          "country": "china",
          "date": "2018-06-18T00:00:00"
         },
         {
          "count": 1,
          "country": "saudiarabia",
          "date": "2018-06-18T00:00:00"
         },
         {
          "count": 1,
          "country": "nigeria",
          "date": "2018-06-25T00:00:00"
         },
         {
          "count": 4,
          "country": "uganda",
          "date": "2018-06-25T00:00:00"
         },
         {
          "count": 2,
          "country": "democraticrepublicofthecongo(the)",
          "date": "2018-06-25T00:00:00"
         },
         {
          "count": 2,
          "country": "india",
          "date": "2018-06-25T00:00:00"
         },
         {
          "count": 0,
          "country": "brazil",
          "date": "2018-06-25T00:00:00"
         },
         {
          "count": 0,
          "country": "pakistan",
          "date": "2018-06-25T00:00:00"
         },
         {
          "count": 0,
          "country": "kenya",
          "date": "2018-06-25T00:00:00"
         },
         {
          "count": 1,
          "country": "unitedstatesofamerica(the)",
          "date": "2018-06-25T00:00:00"
         },
         {
          "count": 0,
          "country": "china",
          "date": "2018-06-25T00:00:00"
         },
         {
          "count": 0,
          "country": "saudiarabia",
          "date": "2018-06-25T00:00:00"
         },
         {
          "count": 0,
          "country": "nigeria",
          "date": "2018-07-02T00:00:00"
         },
         {
          "count": 1,
          "country": "uganda",
          "date": "2018-07-02T00:00:00"
         },
         {
          "count": 1,
          "country": "democraticrepublicofthecongo(the)",
          "date": "2018-07-02T00:00:00"
         },
         {
          "count": 1,
          "country": "india",
          "date": "2018-07-02T00:00:00"
         },
         {
          "count": 0,
          "country": "brazil",
          "date": "2018-07-02T00:00:00"
         },
         {
          "count": 0,
          "country": "pakistan",
          "date": "2018-07-02T00:00:00"
         },
         {
          "count": 0,
          "country": "kenya",
          "date": "2018-07-02T00:00:00"
         },
         {
          "count": 0,
          "country": "unitedstatesofamerica(the)",
          "date": "2018-07-02T00:00:00"
         },
         {
          "count": 0,
          "country": "china",
          "date": "2018-07-02T00:00:00"
         },
         {
          "count": 1,
          "country": "saudiarabia",
          "date": "2018-07-02T00:00:00"
         },
         {
          "count": 0,
          "country": "nigeria",
          "date": "2018-07-09T00:00:00"
         },
         {
          "count": 2,
          "country": "uganda",
          "date": "2018-07-09T00:00:00"
         },
         {
          "count": 1,
          "country": "democraticrepublicofthecongo(the)",
          "date": "2018-07-09T00:00:00"
         },
         {
          "count": 1,
          "country": "india",
          "date": "2018-07-09T00:00:00"
         },
         {
          "count": 1,
          "country": "brazil",
          "date": "2018-07-09T00:00:00"
         },
         {
          "count": 1,
          "country": "pakistan",
          "date": "2018-07-09T00:00:00"
         },
         {
          "count": 0,
          "country": "kenya",
          "date": "2018-07-09T00:00:00"
         },
         {
          "count": 1,
          "country": "unitedstatesofamerica(the)",
          "date": "2018-07-09T00:00:00"
         },
         {
          "count": 0,
          "country": "china",
          "date": "2018-07-09T00:00:00"
         },
         {
          "count": 0,
          "country": "saudiarabia",
          "date": "2018-07-09T00:00:00"
         },
         {
          "count": 0,
          "country": "nigeria",
          "date": "2018-07-16T00:00:00"
         },
         {
          "count": 0,
          "country": "uganda",
          "date": "2018-07-16T00:00:00"
         },
         {
          "count": 0,
          "country": "democraticrepublicofthecongo(the)",
          "date": "2018-07-16T00:00:00"
         },
         {
          "count": 0,
          "country": "india",
          "date": "2018-07-16T00:00:00"
         },
         {
          "count": 1,
          "country": "brazil",
          "date": "2018-07-16T00:00:00"
         },
         {
          "count": 0,
          "country": "pakistan",
          "date": "2018-07-16T00:00:00"
         },
         {
          "count": 0,
          "country": "kenya",
          "date": "2018-07-16T00:00:00"
         },
         {
          "count": 0,
          "country": "unitedstatesofamerica(the)",
          "date": "2018-07-16T00:00:00"
         },
         {
          "count": 1,
          "country": "china",
          "date": "2018-07-16T00:00:00"
         },
         {
          "count": 0,
          "country": "saudiarabia",
          "date": "2018-07-16T00:00:00"
         },
         {
          "count": 0,
          "country": "nigeria",
          "date": "2018-07-23T00:00:00"
         },
         {
          "count": 1,
          "country": "uganda",
          "date": "2018-07-23T00:00:00"
         },
         {
          "count": 1,
          "country": "democraticrepublicofthecongo(the)",
          "date": "2018-07-23T00:00:00"
         },
         {
          "count": 0,
          "country": "india",
          "date": "2018-07-23T00:00:00"
         },
         {
          "count": 0,
          "country": "brazil",
          "date": "2018-07-23T00:00:00"
         },
         {
          "count": 0,
          "country": "pakistan",
          "date": "2018-07-23T00:00:00"
         },
         {
          "count": 1,
          "country": "kenya",
          "date": "2018-07-23T00:00:00"
         },
         {
          "count": 0,
          "country": "unitedstatesofamerica(the)",
          "date": "2018-07-23T00:00:00"
         },
         {
          "count": 0,
          "country": "china",
          "date": "2018-07-23T00:00:00"
         },
         {
          "count": 0,
          "country": "saudiarabia",
          "date": "2018-07-23T00:00:00"
         },
         {
          "count": 0,
          "country": "nigeria",
          "date": "2018-07-30T00:00:00"
         },
         {
          "count": 1,
          "country": "uganda",
          "date": "2018-07-30T00:00:00"
         },
         {
          "count": 7,
          "country": "democraticrepublicofthecongo(the)",
          "date": "2018-07-30T00:00:00"
         },
         {
          "count": 0,
          "country": "india",
          "date": "2018-07-30T00:00:00"
         },
         {
          "count": 0,
          "country": "brazil",
          "date": "2018-07-30T00:00:00"
         },
         {
          "count": 0,
          "country": "pakistan",
          "date": "2018-07-30T00:00:00"
         },
         {
          "count": 0,
          "country": "kenya",
          "date": "2018-07-30T00:00:00"
         },
         {
          "count": 0,
          "country": "unitedstatesofamerica(the)",
          "date": "2018-07-30T00:00:00"
         },
         {
          "count": 1,
          "country": "china",
          "date": "2018-07-30T00:00:00"
         },
         {
          "count": 0,
          "country": "saudiarabia",
          "date": "2018-07-30T00:00:00"
         },
         {
          "count": 1,
          "country": "nigeria",
          "date": "2018-08-06T00:00:00"
         },
         {
          "count": 2,
          "country": "uganda",
          "date": "2018-08-06T00:00:00"
         },
         {
          "count": 3,
          "country": "democraticrepublicofthecongo(the)",
          "date": "2018-08-06T00:00:00"
         },
         {
          "count": 0,
          "country": "india",
          "date": "2018-08-06T00:00:00"
         },
         {
          "count": 1,
          "country": "brazil",
          "date": "2018-08-06T00:00:00"
         },
         {
          "count": 0,
          "country": "pakistan",
          "date": "2018-08-06T00:00:00"
         },
         {
          "count": 0,
          "country": "kenya",
          "date": "2018-08-06T00:00:00"
         },
         {
          "count": 0,
          "country": "unitedstatesofamerica(the)",
          "date": "2018-08-06T00:00:00"
         },
         {
          "count": 1,
          "country": "china",
          "date": "2018-08-06T00:00:00"
         },
         {
          "count": 1,
          "country": "saudiarabia",
          "date": "2018-08-06T00:00:00"
         },
         {
          "count": 0,
          "country": "nigeria",
          "date": "2018-08-13T00:00:00"
         },
         {
          "count": 0,
          "country": "uganda",
          "date": "2018-08-13T00:00:00"
         },
         {
          "count": 1,
          "country": "democraticrepublicofthecongo(the)",
          "date": "2018-08-13T00:00:00"
         },
         {
          "count": 0,
          "country": "india",
          "date": "2018-08-13T00:00:00"
         },
         {
          "count": 1,
          "country": "brazil",
          "date": "2018-08-13T00:00:00"
         },
         {
          "count": 0,
          "country": "pakistan",
          "date": "2018-08-13T00:00:00"
         },
         {
          "count": 0,
          "country": "kenya",
          "date": "2018-08-13T00:00:00"
         },
         {
          "count": 0,
          "country": "unitedstatesofamerica(the)",
          "date": "2018-08-13T00:00:00"
         },
         {
          "count": 1,
          "country": "china",
          "date": "2018-08-13T00:00:00"
         },
         {
          "count": 0,
          "country": "saudiarabia",
          "date": "2018-08-13T00:00:00"
         },
         {
          "count": 0,
          "country": "nigeria",
          "date": "2018-08-20T00:00:00"
         },
         {
          "count": 1,
          "country": "uganda",
          "date": "2018-08-20T00:00:00"
         },
         {
          "count": 1,
          "country": "democraticrepublicofthecongo(the)",
          "date": "2018-08-20T00:00:00"
         },
         {
          "count": 0,
          "country": "india",
          "date": "2018-08-20T00:00:00"
         },
         {
          "count": 0,
          "country": "brazil",
          "date": "2018-08-20T00:00:00"
         },
         {
          "count": 0,
          "country": "pakistan",
          "date": "2018-08-20T00:00:00"
         },
         {
          "count": 0,
          "country": "kenya",
          "date": "2018-08-20T00:00:00"
         },
         {
          "count": 0,
          "country": "unitedstatesofamerica(the)",
          "date": "2018-08-20T00:00:00"
         },
         {
          "count": 2,
          "country": "china",
          "date": "2018-08-20T00:00:00"
         },
         {
          "count": 0,
          "country": "saudiarabia",
          "date": "2018-08-20T00:00:00"
         },
         {
          "count": 1,
          "country": "nigeria",
          "date": "2018-08-27T00:00:00"
         },
         {
          "count": 0,
          "country": "uganda",
          "date": "2018-08-27T00:00:00"
         },
         {
          "count": 1,
          "country": "democraticrepublicofthecongo(the)",
          "date": "2018-08-27T00:00:00"
         },
         {
          "count": 1,
          "country": "india",
          "date": "2018-08-27T00:00:00"
         },
         {
          "count": 1,
          "country": "brazil",
          "date": "2018-08-27T00:00:00"
         },
         {
          "count": 0,
          "country": "pakistan",
          "date": "2018-08-27T00:00:00"
         },
         {
          "count": 0,
          "country": "kenya",
          "date": "2018-08-27T00:00:00"
         },
         {
          "count": 0,
          "country": "unitedstatesofamerica(the)",
          "date": "2018-08-27T00:00:00"
         },
         {
          "count": 0,
          "country": "china",
          "date": "2018-08-27T00:00:00"
         },
         {
          "count": 0,
          "country": "saudiarabia",
          "date": "2018-08-27T00:00:00"
         },
         {
          "count": 1,
          "country": "nigeria",
          "date": "2018-09-03T00:00:00"
         },
         {
          "count": 1,
          "country": "uganda",
          "date": "2018-09-03T00:00:00"
         },
         {
          "count": 0,
          "country": "democraticrepublicofthecongo(the)",
          "date": "2018-09-03T00:00:00"
         },
         {
          "count": 0,
          "country": "india",
          "date": "2018-09-03T00:00:00"
         },
         {
          "count": 0,
          "country": "brazil",
          "date": "2018-09-03T00:00:00"
         },
         {
          "count": 0,
          "country": "pakistan",
          "date": "2018-09-03T00:00:00"
         },
         {
          "count": 0,
          "country": "kenya",
          "date": "2018-09-03T00:00:00"
         },
         {
          "count": 1,
          "country": "unitedstatesofamerica(the)",
          "date": "2018-09-03T00:00:00"
         },
         {
          "count": 0,
          "country": "china",
          "date": "2018-09-03T00:00:00"
         },
         {
          "count": 1,
          "country": "saudiarabia",
          "date": "2018-09-03T00:00:00"
         },
         {
          "count": 0,
          "country": "nigeria",
          "date": "2018-09-10T00:00:00"
         },
         {
          "count": 0,
          "country": "uganda",
          "date": "2018-09-10T00:00:00"
         },
         {
          "count": 0,
          "country": "democraticrepublicofthecongo(the)",
          "date": "2018-09-10T00:00:00"
         },
         {
          "count": 0,
          "country": "india",
          "date": "2018-09-10T00:00:00"
         },
         {
          "count": 0,
          "country": "brazil",
          "date": "2018-09-10T00:00:00"
         },
         {
          "count": 0,
          "country": "pakistan",
          "date": "2018-09-10T00:00:00"
         },
         {
          "count": 0,
          "country": "kenya",
          "date": "2018-09-10T00:00:00"
         },
         {
          "count": 0,
          "country": "unitedstatesofamerica(the)",
          "date": "2018-09-10T00:00:00"
         },
         {
          "count": 0,
          "country": "china",
          "date": "2018-09-10T00:00:00"
         },
         {
          "count": 0,
          "country": "saudiarabia",
          "date": "2018-09-10T00:00:00"
         },
         {
          "count": 2,
          "country": "nigeria",
          "date": "2018-09-17T00:00:00"
         },
         {
          "count": 0,
          "country": "uganda",
          "date": "2018-09-17T00:00:00"
         },
         {
          "count": 0,
          "country": "democraticrepublicofthecongo(the)",
          "date": "2018-09-17T00:00:00"
         },
         {
          "count": 0,
          "country": "india",
          "date": "2018-09-17T00:00:00"
         },
         {
          "count": 0,
          "country": "brazil",
          "date": "2018-09-17T00:00:00"
         },
         {
          "count": 0,
          "country": "pakistan",
          "date": "2018-09-17T00:00:00"
         },
         {
          "count": 1,
          "country": "kenya",
          "date": "2018-09-17T00:00:00"
         },
         {
          "count": 0,
          "country": "unitedstatesofamerica(the)",
          "date": "2018-09-17T00:00:00"
         },
         {
          "count": 0,
          "country": "china",
          "date": "2018-09-17T00:00:00"
         },
         {
          "count": 0,
          "country": "saudiarabia",
          "date": "2018-09-17T00:00:00"
         },
         {
          "count": 0,
          "country": "nigeria",
          "date": "2018-09-24T00:00:00"
         },
         {
          "count": 4,
          "country": "uganda",
          "date": "2018-09-24T00:00:00"
         },
         {
          "count": 0,
          "country": "democraticrepublicofthecongo(the)",
          "date": "2018-09-24T00:00:00"
         },
         {
          "count": 0,
          "country": "india",
          "date": "2018-09-24T00:00:00"
         },
         {
          "count": 0,
          "country": "brazil",
          "date": "2018-09-24T00:00:00"
         },
         {
          "count": 0,
          "country": "pakistan",
          "date": "2018-09-24T00:00:00"
         },
         {
          "count": 0,
          "country": "kenya",
          "date": "2018-09-24T00:00:00"
         },
         {
          "count": 0,
          "country": "unitedstatesofamerica(the)",
          "date": "2018-09-24T00:00:00"
         },
         {
          "count": 0,
          "country": "china",
          "date": "2018-09-24T00:00:00"
         },
         {
          "count": 1,
          "country": "saudiarabia",
          "date": "2018-09-24T00:00:00"
         },
         {
          "count": 0,
          "country": "nigeria",
          "date": "2018-10-01T00:00:00"
         },
         {
          "count": 1,
          "country": "uganda",
          "date": "2018-10-01T00:00:00"
         },
         {
          "count": 1,
          "country": "democraticrepublicofthecongo(the)",
          "date": "2018-10-01T00:00:00"
         },
         {
          "count": 3,
          "country": "india",
          "date": "2018-10-01T00:00:00"
         },
         {
          "count": 0,
          "country": "brazil",
          "date": "2018-10-01T00:00:00"
         },
         {
          "count": 0,
          "country": "pakistan",
          "date": "2018-10-01T00:00:00"
         },
         {
          "count": 0,
          "country": "kenya",
          "date": "2018-10-01T00:00:00"
         },
         {
          "count": 0,
          "country": "unitedstatesofamerica(the)",
          "date": "2018-10-01T00:00:00"
         },
         {
          "count": 1,
          "country": "china",
          "date": "2018-10-01T00:00:00"
         },
         {
          "count": 0,
          "country": "saudiarabia",
          "date": "2018-10-01T00:00:00"
         },
         {
          "count": 1,
          "country": "nigeria",
          "date": "2018-10-08T00:00:00"
         },
         {
          "count": 2,
          "country": "uganda",
          "date": "2018-10-08T00:00:00"
         },
         {
          "count": 0,
          "country": "democraticrepublicofthecongo(the)",
          "date": "2018-10-08T00:00:00"
         },
         {
          "count": 1,
          "country": "india",
          "date": "2018-10-08T00:00:00"
         },
         {
          "count": 1,
          "country": "brazil",
          "date": "2018-10-08T00:00:00"
         },
         {
          "count": 0,
          "country": "pakistan",
          "date": "2018-10-08T00:00:00"
         },
         {
          "count": 1,
          "country": "kenya",
          "date": "2018-10-08T00:00:00"
         },
         {
          "count": 0,
          "country": "unitedstatesofamerica(the)",
          "date": "2018-10-08T00:00:00"
         },
         {
          "count": 0,
          "country": "china",
          "date": "2018-10-08T00:00:00"
         },
         {
          "count": 0,
          "country": "saudiarabia",
          "date": "2018-10-08T00:00:00"
         },
         {
          "count": 0,
          "country": "nigeria",
          "date": "2018-10-15T00:00:00"
         },
         {
          "count": 1,
          "country": "uganda",
          "date": "2018-10-15T00:00:00"
         },
         {
          "count": 0,
          "country": "democraticrepublicofthecongo(the)",
          "date": "2018-10-15T00:00:00"
         },
         {
          "count": 0,
          "country": "india",
          "date": "2018-10-15T00:00:00"
         },
         {
          "count": 1,
          "country": "brazil",
          "date": "2018-10-15T00:00:00"
         },
         {
          "count": 0,
          "country": "pakistan",
          "date": "2018-10-15T00:00:00"
         },
         {
          "count": 0,
          "country": "kenya",
          "date": "2018-10-15T00:00:00"
         },
         {
          "count": 0,
          "country": "unitedstatesofamerica(the)",
          "date": "2018-10-15T00:00:00"
         },
         {
          "count": 0,
          "country": "china",
          "date": "2018-10-15T00:00:00"
         },
         {
          "count": 0,
          "country": "saudiarabia",
          "date": "2018-10-15T00:00:00"
         },
         {
          "count": 1,
          "country": "nigeria",
          "date": "2018-10-22T00:00:00"
         },
         {
          "count": 0,
          "country": "uganda",
          "date": "2018-10-22T00:00:00"
         },
         {
          "count": 0,
          "country": "democraticrepublicofthecongo(the)",
          "date": "2018-10-22T00:00:00"
         },
         {
          "count": 2,
          "country": "india",
          "date": "2018-10-22T00:00:00"
         },
         {
          "count": 0,
          "country": "brazil",
          "date": "2018-10-22T00:00:00"
         },
         {
          "count": 0,
          "country": "pakistan",
          "date": "2018-10-22T00:00:00"
         },
         {
          "count": 0,
          "country": "kenya",
          "date": "2018-10-22T00:00:00"
         },
         {
          "count": 0,
          "country": "unitedstatesofamerica(the)",
          "date": "2018-10-22T00:00:00"
         },
         {
          "count": 0,
          "country": "china",
          "date": "2018-10-22T00:00:00"
         },
         {
          "count": 0,
          "country": "saudiarabia",
          "date": "2018-10-22T00:00:00"
         },
         {
          "count": 0,
          "country": "nigeria",
          "date": "2018-10-29T00:00:00"
         },
         {
          "count": 0,
          "country": "uganda",
          "date": "2018-10-29T00:00:00"
         },
         {
          "count": 0,
          "country": "democraticrepublicofthecongo(the)",
          "date": "2018-10-29T00:00:00"
         },
         {
          "count": 0,
          "country": "india",
          "date": "2018-10-29T00:00:00"
         },
         {
          "count": 0,
          "country": "brazil",
          "date": "2018-10-29T00:00:00"
         },
         {
          "count": 0,
          "country": "pakistan",
          "date": "2018-10-29T00:00:00"
         },
         {
          "count": 0,
          "country": "kenya",
          "date": "2018-10-29T00:00:00"
         },
         {
          "count": 0,
          "country": "unitedstatesofamerica(the)",
          "date": "2018-10-29T00:00:00"
         },
         {
          "count": 0,
          "country": "china",
          "date": "2018-10-29T00:00:00"
         },
         {
          "count": 0,
          "country": "saudiarabia",
          "date": "2018-10-29T00:00:00"
         },
         {
          "count": 0,
          "country": "nigeria",
          "date": "2018-11-05T00:00:00"
         },
         {
          "count": 0,
          "country": "uganda",
          "date": "2018-11-05T00:00:00"
         },
         {
          "count": 0,
          "country": "democraticrepublicofthecongo(the)",
          "date": "2018-11-05T00:00:00"
         },
         {
          "count": 0,
          "country": "india",
          "date": "2018-11-05T00:00:00"
         },
         {
          "count": 0,
          "country": "brazil",
          "date": "2018-11-05T00:00:00"
         },
         {
          "count": 2,
          "country": "pakistan",
          "date": "2018-11-05T00:00:00"
         },
         {
          "count": 0,
          "country": "kenya",
          "date": "2018-11-05T00:00:00"
         },
         {
          "count": 0,
          "country": "unitedstatesofamerica(the)",
          "date": "2018-11-05T00:00:00"
         },
         {
          "count": 0,
          "country": "china",
          "date": "2018-11-05T00:00:00"
         },
         {
          "count": 1,
          "country": "saudiarabia",
          "date": "2018-11-05T00:00:00"
         },
         {
          "count": 1,
          "country": "nigeria",
          "date": "2018-11-12T00:00:00"
         },
         {
          "count": 0,
          "country": "uganda",
          "date": "2018-11-12T00:00:00"
         },
         {
          "count": 0,
          "country": "democraticrepublicofthecongo(the)",
          "date": "2018-11-12T00:00:00"
         },
         {
          "count": 0,
          "country": "india",
          "date": "2018-11-12T00:00:00"
         },
         {
          "count": 0,
          "country": "brazil",
          "date": "2018-11-12T00:00:00"
         },
         {
          "count": 1,
          "country": "pakistan",
          "date": "2018-11-12T00:00:00"
         },
         {
          "count": 0,
          "country": "kenya",
          "date": "2018-11-12T00:00:00"
         },
         {
          "count": 0,
          "country": "unitedstatesofamerica(the)",
          "date": "2018-11-12T00:00:00"
         },
         {
          "count": 0,
          "country": "china",
          "date": "2018-11-12T00:00:00"
         },
         {
          "count": 0,
          "country": "saudiarabia",
          "date": "2018-11-12T00:00:00"
         },
         {
          "count": 2,
          "country": "nigeria",
          "date": "2018-11-19T00:00:00"
         },
         {
          "count": 0,
          "country": "uganda",
          "date": "2018-11-19T00:00:00"
         },
         {
          "count": 0,
          "country": "democraticrepublicofthecongo(the)",
          "date": "2018-11-19T00:00:00"
         },
         {
          "count": 0,
          "country": "india",
          "date": "2018-11-19T00:00:00"
         },
         {
          "count": 0,
          "country": "brazil",
          "date": "2018-11-19T00:00:00"
         },
         {
          "count": 0,
          "country": "pakistan",
          "date": "2018-11-19T00:00:00"
         },
         {
          "count": 0,
          "country": "kenya",
          "date": "2018-11-19T00:00:00"
         },
         {
          "count": 0,
          "country": "unitedstatesofamerica(the)",
          "date": "2018-11-19T00:00:00"
         },
         {
          "count": 0,
          "country": "china",
          "date": "2018-11-19T00:00:00"
         },
         {
          "count": 0,
          "country": "saudiarabia",
          "date": "2018-11-19T00:00:00"
         },
         {
          "count": 0,
          "country": "nigeria",
          "date": "2018-11-26T00:00:00"
         },
         {
          "count": 0,
          "country": "uganda",
          "date": "2018-11-26T00:00:00"
         },
         {
          "count": 0,
          "country": "democraticrepublicofthecongo(the)",
          "date": "2018-11-26T00:00:00"
         },
         {
          "count": 0,
          "country": "india",
          "date": "2018-11-26T00:00:00"
         },
         {
          "count": 0,
          "country": "brazil",
          "date": "2018-11-26T00:00:00"
         },
         {
          "count": 0,
          "country": "pakistan",
          "date": "2018-11-26T00:00:00"
         },
         {
          "count": 0,
          "country": "kenya",
          "date": "2018-11-26T00:00:00"
         },
         {
          "count": 0,
          "country": "unitedstatesofamerica(the)",
          "date": "2018-11-26T00:00:00"
         },
         {
          "count": 0,
          "country": "china",
          "date": "2018-11-26T00:00:00"
         },
         {
          "count": 0,
          "country": "saudiarabia",
          "date": "2018-11-26T00:00:00"
         },
         {
          "count": 1,
          "country": "nigeria",
          "date": "2018-12-03T00:00:00"
         },
         {
          "count": 0,
          "country": "uganda",
          "date": "2018-12-03T00:00:00"
         },
         {
          "count": 1,
          "country": "democraticrepublicofthecongo(the)",
          "date": "2018-12-03T00:00:00"
         },
         {
          "count": 0,
          "country": "india",
          "date": "2018-12-03T00:00:00"
         },
         {
          "count": 0,
          "country": "brazil",
          "date": "2018-12-03T00:00:00"
         },
         {
          "count": 0,
          "country": "pakistan",
          "date": "2018-12-03T00:00:00"
         },
         {
          "count": 0,
          "country": "kenya",
          "date": "2018-12-03T00:00:00"
         },
         {
          "count": 0,
          "country": "unitedstatesofamerica(the)",
          "date": "2018-12-03T00:00:00"
         },
         {
          "count": 0,
          "country": "china",
          "date": "2018-12-03T00:00:00"
         },
         {
          "count": 0,
          "country": "saudiarabia",
          "date": "2018-12-03T00:00:00"
         },
         {
          "count": 2,
          "country": "nigeria",
          "date": "2018-12-10T00:00:00"
         },
         {
          "count": 0,
          "country": "uganda",
          "date": "2018-12-10T00:00:00"
         },
         {
          "count": 0,
          "country": "democraticrepublicofthecongo(the)",
          "date": "2018-12-10T00:00:00"
         },
         {
          "count": 0,
          "country": "india",
          "date": "2018-12-10T00:00:00"
         },
         {
          "count": 0,
          "country": "brazil",
          "date": "2018-12-10T00:00:00"
         },
         {
          "count": 0,
          "country": "pakistan",
          "date": "2018-12-10T00:00:00"
         },
         {
          "count": 0,
          "country": "kenya",
          "date": "2018-12-10T00:00:00"
         },
         {
          "count": 0,
          "country": "unitedstatesofamerica(the)",
          "date": "2018-12-10T00:00:00"
         },
         {
          "count": 0,
          "country": "china",
          "date": "2018-12-10T00:00:00"
         },
         {
          "count": 0,
          "country": "saudiarabia",
          "date": "2018-12-10T00:00:00"
         },
         {
          "count": 0,
          "country": "nigeria",
          "date": "2018-12-17T00:00:00"
         },
         {
          "count": 0,
          "country": "uganda",
          "date": "2018-12-17T00:00:00"
         },
         {
          "count": 0,
          "country": "democraticrepublicofthecongo(the)",
          "date": "2018-12-17T00:00:00"
         },
         {
          "count": 1,
          "country": "india",
          "date": "2018-12-17T00:00:00"
         },
         {
          "count": 0,
          "country": "brazil",
          "date": "2018-12-17T00:00:00"
         },
         {
          "count": 1,
          "country": "pakistan",
          "date": "2018-12-17T00:00:00"
         },
         {
          "count": 0,
          "country": "kenya",
          "date": "2018-12-17T00:00:00"
         },
         {
          "count": 0,
          "country": "unitedstatesofamerica(the)",
          "date": "2018-12-17T00:00:00"
         },
         {
          "count": 0,
          "country": "china",
          "date": "2018-12-17T00:00:00"
         },
         {
          "count": 0,
          "country": "saudiarabia",
          "date": "2018-12-17T00:00:00"
         },
         {
          "count": 0,
          "country": "nigeria",
          "date": "2018-12-24T00:00:00"
         },
         {
          "count": 0,
          "country": "uganda",
          "date": "2018-12-24T00:00:00"
         },
         {
          "count": 1,
          "country": "democraticrepublicofthecongo(the)",
          "date": "2018-12-24T00:00:00"
         },
         {
          "count": 0,
          "country": "india",
          "date": "2018-12-24T00:00:00"
         },
         {
          "count": 0,
          "country": "brazil",
          "date": "2018-12-24T00:00:00"
         },
         {
          "count": 0,
          "country": "pakistan",
          "date": "2018-12-24T00:00:00"
         },
         {
          "count": 0,
          "country": "kenya",
          "date": "2018-12-24T00:00:00"
         },
         {
          "count": 0,
          "country": "unitedstatesofamerica(the)",
          "date": "2018-12-24T00:00:00"
         },
         {
          "count": 0,
          "country": "china",
          "date": "2018-12-24T00:00:00"
         },
         {
          "count": 0,
          "country": "saudiarabia",
          "date": "2018-12-24T00:00:00"
         },
         {
          "count": 0,
          "country": "nigeria",
          "date": "2018-12-31T00:00:00"
         },
         {
          "count": 0,
          "country": "uganda",
          "date": "2018-12-31T00:00:00"
         },
         {
          "count": 0,
          "country": "democraticrepublicofthecongo(the)",
          "date": "2018-12-31T00:00:00"
         },
         {
          "count": 0,
          "country": "india",
          "date": "2018-12-31T00:00:00"
         },
         {
          "count": 0,
          "country": "brazil",
          "date": "2018-12-31T00:00:00"
         },
         {
          "count": 0,
          "country": "pakistan",
          "date": "2018-12-31T00:00:00"
         },
         {
          "count": 0,
          "country": "kenya",
          "date": "2018-12-31T00:00:00"
         },
         {
          "count": 0,
          "country": "unitedstatesofamerica(the)",
          "date": "2018-12-31T00:00:00"
         },
         {
          "count": 0,
          "country": "china",
          "date": "2018-12-31T00:00:00"
         },
         {
          "count": 0,
          "country": "saudiarabia",
          "date": "2018-12-31T00:00:00"
         },
         {
          "count": 0,
          "country": "nigeria",
          "date": "2019-01-07T00:00:00"
         },
         {
          "count": 0,
          "country": "uganda",
          "date": "2019-01-07T00:00:00"
         },
         {
          "count": 1,
          "country": "democraticrepublicofthecongo(the)",
          "date": "2019-01-07T00:00:00"
         },
         {
          "count": 0,
          "country": "india",
          "date": "2019-01-07T00:00:00"
         },
         {
          "count": 0,
          "country": "brazil",
          "date": "2019-01-07T00:00:00"
         },
         {
          "count": 0,
          "country": "pakistan",
          "date": "2019-01-07T00:00:00"
         },
         {
          "count": 0,
          "country": "kenya",
          "date": "2019-01-07T00:00:00"
         },
         {
          "count": 1,
          "country": "unitedstatesofamerica(the)",
          "date": "2019-01-07T00:00:00"
         },
         {
          "count": 0,
          "country": "china",
          "date": "2019-01-07T00:00:00"
         },
         {
          "count": 0,
          "country": "saudiarabia",
          "date": "2019-01-07T00:00:00"
         },
         {
          "count": 0,
          "country": "nigeria",
          "date": "2019-01-14T00:00:00"
         },
         {
          "count": 1,
          "country": "uganda",
          "date": "2019-01-14T00:00:00"
         },
         {
          "count": 0,
          "country": "democraticrepublicofthecongo(the)",
          "date": "2019-01-14T00:00:00"
         },
         {
          "count": 1,
          "country": "india",
          "date": "2019-01-14T00:00:00"
         },
         {
          "count": 0,
          "country": "brazil",
          "date": "2019-01-14T00:00:00"
         },
         {
          "count": 0,
          "country": "pakistan",
          "date": "2019-01-14T00:00:00"
         },
         {
          "count": 0,
          "country": "kenya",
          "date": "2019-01-14T00:00:00"
         },
         {
          "count": 0,
          "country": "unitedstatesofamerica(the)",
          "date": "2019-01-14T00:00:00"
         },
         {
          "count": 0,
          "country": "china",
          "date": "2019-01-14T00:00:00"
         },
         {
          "count": 0,
          "country": "saudiarabia",
          "date": "2019-01-14T00:00:00"
         },
         {
          "count": 2,
          "country": "nigeria",
          "date": "2019-01-21T00:00:00"
         },
         {
          "count": 0,
          "country": "uganda",
          "date": "2019-01-21T00:00:00"
         },
         {
          "count": 0,
          "country": "democraticrepublicofthecongo(the)",
          "date": "2019-01-21T00:00:00"
         },
         {
          "count": 0,
          "country": "india",
          "date": "2019-01-21T00:00:00"
         },
         {
          "count": 2,
          "country": "brazil",
          "date": "2019-01-21T00:00:00"
         },
         {
          "count": 1,
          "country": "pakistan",
          "date": "2019-01-21T00:00:00"
         },
         {
          "count": 0,
          "country": "kenya",
          "date": "2019-01-21T00:00:00"
         },
         {
          "count": 0,
          "country": "unitedstatesofamerica(the)",
          "date": "2019-01-21T00:00:00"
         },
         {
          "count": 0,
          "country": "china",
          "date": "2019-01-21T00:00:00"
         },
         {
          "count": 0,
          "country": "saudiarabia",
          "date": "2019-01-21T00:00:00"
         },
         {
          "count": 1,
          "country": "nigeria",
          "date": "2019-01-28T00:00:00"
         },
         {
          "count": 0,
          "country": "uganda",
          "date": "2019-01-28T00:00:00"
         },
         {
          "count": 0,
          "country": "democraticrepublicofthecongo(the)",
          "date": "2019-01-28T00:00:00"
         },
         {
          "count": 1,
          "country": "india",
          "date": "2019-01-28T00:00:00"
         },
         {
          "count": 1,
          "country": "brazil",
          "date": "2019-01-28T00:00:00"
         },
         {
          "count": 2,
          "country": "pakistan",
          "date": "2019-01-28T00:00:00"
         },
         {
          "count": 1,
          "country": "kenya",
          "date": "2019-01-28T00:00:00"
         },
         {
          "count": 0,
          "country": "unitedstatesofamerica(the)",
          "date": "2019-01-28T00:00:00"
         },
         {
          "count": 0,
          "country": "china",
          "date": "2019-01-28T00:00:00"
         },
         {
          "count": 0,
          "country": "saudiarabia",
          "date": "2019-01-28T00:00:00"
         },
         {
          "count": 1,
          "country": "nigeria",
          "date": "2019-02-04T00:00:00"
         },
         {
          "count": 0,
          "country": "uganda",
          "date": "2019-02-04T00:00:00"
         },
         {
          "count": 0,
          "country": "democraticrepublicofthecongo(the)",
          "date": "2019-02-04T00:00:00"
         },
         {
          "count": 0,
          "country": "india",
          "date": "2019-02-04T00:00:00"
         },
         {
          "count": 1,
          "country": "brazil",
          "date": "2019-02-04T00:00:00"
         },
         {
          "count": 0,
          "country": "pakistan",
          "date": "2019-02-04T00:00:00"
         },
         {
          "count": 1,
          "country": "kenya",
          "date": "2019-02-04T00:00:00"
         },
         {
          "count": 0,
          "country": "unitedstatesofamerica(the)",
          "date": "2019-02-04T00:00:00"
         },
         {
          "count": 0,
          "country": "china",
          "date": "2019-02-04T00:00:00"
         },
         {
          "count": 0,
          "country": "saudiarabia",
          "date": "2019-02-04T00:00:00"
         },
         {
          "count": 1,
          "country": "nigeria",
          "date": "2019-02-11T00:00:00"
         },
         {
          "count": 0,
          "country": "uganda",
          "date": "2019-02-11T00:00:00"
         },
         {
          "count": 3,
          "country": "democraticrepublicofthecongo(the)",
          "date": "2019-02-11T00:00:00"
         },
         {
          "count": 0,
          "country": "india",
          "date": "2019-02-11T00:00:00"
         },
         {
          "count": 0,
          "country": "brazil",
          "date": "2019-02-11T00:00:00"
         },
         {
          "count": 0,
          "country": "pakistan",
          "date": "2019-02-11T00:00:00"
         },
         {
          "count": 1,
          "country": "kenya",
          "date": "2019-02-11T00:00:00"
         },
         {
          "count": 1,
          "country": "unitedstatesofamerica(the)",
          "date": "2019-02-11T00:00:00"
         },
         {
          "count": 1,
          "country": "china",
          "date": "2019-02-11T00:00:00"
         },
         {
          "count": 1,
          "country": "saudiarabia",
          "date": "2019-02-11T00:00:00"
         },
         {
          "count": 1,
          "country": "nigeria",
          "date": "2019-02-18T00:00:00"
         },
         {
          "count": 0,
          "country": "uganda",
          "date": "2019-02-18T00:00:00"
         },
         {
          "count": 0,
          "country": "democraticrepublicofthecongo(the)",
          "date": "2019-02-18T00:00:00"
         },
         {
          "count": 0,
          "country": "india",
          "date": "2019-02-18T00:00:00"
         },
         {
          "count": 0,
          "country": "brazil",
          "date": "2019-02-18T00:00:00"
         },
         {
          "count": 2,
          "country": "pakistan",
          "date": "2019-02-18T00:00:00"
         },
         {
          "count": 1,
          "country": "kenya",
          "date": "2019-02-18T00:00:00"
         },
         {
          "count": 1,
          "country": "unitedstatesofamerica(the)",
          "date": "2019-02-18T00:00:00"
         },
         {
          "count": 0,
          "country": "china",
          "date": "2019-02-18T00:00:00"
         },
         {
          "count": 1,
          "country": "saudiarabia",
          "date": "2019-02-18T00:00:00"
         },
         {
          "count": 1,
          "country": "nigeria",
          "date": "2019-02-25T00:00:00"
         },
         {
          "count": 0,
          "country": "uganda",
          "date": "2019-02-25T00:00:00"
         },
         {
          "count": 1,
          "country": "democraticrepublicofthecongo(the)",
          "date": "2019-02-25T00:00:00"
         },
         {
          "count": 0,
          "country": "india",
          "date": "2019-02-25T00:00:00"
         },
         {
          "count": 0,
          "country": "brazil",
          "date": "2019-02-25T00:00:00"
         },
         {
          "count": 0,
          "country": "pakistan",
          "date": "2019-02-25T00:00:00"
         },
         {
          "count": 0,
          "country": "kenya",
          "date": "2019-02-25T00:00:00"
         },
         {
          "count": 0,
          "country": "unitedstatesofamerica(the)",
          "date": "2019-02-25T00:00:00"
         },
         {
          "count": 0,
          "country": "china",
          "date": "2019-02-25T00:00:00"
         },
         {
          "count": 0,
          "country": "saudiarabia",
          "date": "2019-02-25T00:00:00"
         },
         {
          "count": 0,
          "country": "nigeria",
          "date": "2019-03-04T00:00:00"
         },
         {
          "count": 0,
          "country": "uganda",
          "date": "2019-03-04T00:00:00"
         },
         {
          "count": 0,
          "country": "democraticrepublicofthecongo(the)",
          "date": "2019-03-04T00:00:00"
         },
         {
          "count": 1,
          "country": "india",
          "date": "2019-03-04T00:00:00"
         },
         {
          "count": 0,
          "country": "brazil",
          "date": "2019-03-04T00:00:00"
         },
         {
          "count": 0,
          "country": "pakistan",
          "date": "2019-03-04T00:00:00"
         },
         {
          "count": 1,
          "country": "kenya",
          "date": "2019-03-04T00:00:00"
         },
         {
          "count": 0,
          "country": "unitedstatesofamerica(the)",
          "date": "2019-03-04T00:00:00"
         },
         {
          "count": 0,
          "country": "china",
          "date": "2019-03-04T00:00:00"
         },
         {
          "count": 0,
          "country": "saudiarabia",
          "date": "2019-03-04T00:00:00"
         },
         {
          "count": 1,
          "country": "nigeria",
          "date": "2019-03-11T00:00:00"
         },
         {
          "count": 1,
          "country": "uganda",
          "date": "2019-03-11T00:00:00"
         },
         {
          "count": 0,
          "country": "democraticrepublicofthecongo(the)",
          "date": "2019-03-11T00:00:00"
         },
         {
          "count": 0,
          "country": "india",
          "date": "2019-03-11T00:00:00"
         },
         {
          "count": 0,
          "country": "brazil",
          "date": "2019-03-11T00:00:00"
         },
         {
          "count": 0,
          "country": "pakistan",
          "date": "2019-03-11T00:00:00"
         },
         {
          "count": 0,
          "country": "kenya",
          "date": "2019-03-11T00:00:00"
         },
         {
          "count": 1,
          "country": "unitedstatesofamerica(the)",
          "date": "2019-03-11T00:00:00"
         },
         {
          "count": 0,
          "country": "china",
          "date": "2019-03-11T00:00:00"
         },
         {
          "count": 0,
          "country": "saudiarabia",
          "date": "2019-03-11T00:00:00"
         },
         {
          "count": 0,
          "country": "nigeria",
          "date": "2019-03-18T00:00:00"
         },
         {
          "count": 1,
          "country": "uganda",
          "date": "2019-03-18T00:00:00"
         },
         {
          "count": 2,
          "country": "democraticrepublicofthecongo(the)",
          "date": "2019-03-18T00:00:00"
         },
         {
          "count": 2,
          "country": "india",
          "date": "2019-03-18T00:00:00"
         },
         {
          "count": 0,
          "country": "brazil",
          "date": "2019-03-18T00:00:00"
         },
         {
          "count": 1,
          "country": "pakistan",
          "date": "2019-03-18T00:00:00"
         },
         {
          "count": 0,
          "country": "kenya",
          "date": "2019-03-18T00:00:00"
         },
         {
          "count": 0,
          "country": "unitedstatesofamerica(the)",
          "date": "2019-03-18T00:00:00"
         },
         {
          "count": 0,
          "country": "china",
          "date": "2019-03-18T00:00:00"
         },
         {
          "count": 0,
          "country": "saudiarabia",
          "date": "2019-03-18T00:00:00"
         },
         {
          "count": 1,
          "country": "nigeria",
          "date": "2019-03-25T00:00:00"
         },
         {
          "count": 1,
          "country": "uganda",
          "date": "2019-03-25T00:00:00"
         },
         {
          "count": 0,
          "country": "democraticrepublicofthecongo(the)",
          "date": "2019-03-25T00:00:00"
         },
         {
          "count": 0,
          "country": "india",
          "date": "2019-03-25T00:00:00"
         },
         {
          "count": 0,
          "country": "brazil",
          "date": "2019-03-25T00:00:00"
         },
         {
          "count": 0,
          "country": "pakistan",
          "date": "2019-03-25T00:00:00"
         },
         {
          "count": 0,
          "country": "kenya",
          "date": "2019-03-25T00:00:00"
         },
         {
          "count": 0,
          "country": "unitedstatesofamerica(the)",
          "date": "2019-03-25T00:00:00"
         },
         {
          "count": 0,
          "country": "china",
          "date": "2019-03-25T00:00:00"
         },
         {
          "count": 0,
          "country": "saudiarabia",
          "date": "2019-03-25T00:00:00"
         },
         {
          "count": 1,
          "country": "nigeria",
          "date": "2019-04-01T00:00:00"
         },
         {
          "count": 0,
          "country": "uganda",
          "date": "2019-04-01T00:00:00"
         },
         {
          "count": 0,
          "country": "democraticrepublicofthecongo(the)",
          "date": "2019-04-01T00:00:00"
         },
         {
          "count": 0,
          "country": "india",
          "date": "2019-04-01T00:00:00"
         },
         {
          "count": 2,
          "country": "brazil",
          "date": "2019-04-01T00:00:00"
         },
         {
          "count": 0,
          "country": "pakistan",
          "date": "2019-04-01T00:00:00"
         },
         {
          "count": 0,
          "country": "kenya",
          "date": "2019-04-01T00:00:00"
         },
         {
          "count": 0,
          "country": "unitedstatesofamerica(the)",
          "date": "2019-04-01T00:00:00"
         },
         {
          "count": 0,
          "country": "china",
          "date": "2019-04-01T00:00:00"
         },
         {
          "count": 0,
          "country": "saudiarabia",
          "date": "2019-04-01T00:00:00"
         },
         {
          "count": 0,
          "country": "nigeria",
          "date": "2019-04-08T00:00:00"
         },
         {
          "count": 0,
          "country": "uganda",
          "date": "2019-04-08T00:00:00"
         },
         {
          "count": 1,
          "country": "democraticrepublicofthecongo(the)",
          "date": "2019-04-08T00:00:00"
         },
         {
          "count": 0,
          "country": "india",
          "date": "2019-04-08T00:00:00"
         },
         {
          "count": 0,
          "country": "brazil",
          "date": "2019-04-08T00:00:00"
         },
         {
          "count": 0,
          "country": "pakistan",
          "date": "2019-04-08T00:00:00"
         },
         {
          "count": 1,
          "country": "kenya",
          "date": "2019-04-08T00:00:00"
         },
         {
          "count": 0,
          "country": "unitedstatesofamerica(the)",
          "date": "2019-04-08T00:00:00"
         },
         {
          "count": 1,
          "country": "china",
          "date": "2019-04-08T00:00:00"
         },
         {
          "count": 0,
          "country": "saudiarabia",
          "date": "2019-04-08T00:00:00"
         },
         {
          "count": 0,
          "country": "nigeria",
          "date": "2019-04-15T00:00:00"
         },
         {
          "count": 0,
          "country": "uganda",
          "date": "2019-04-15T00:00:00"
         },
         {
          "count": 2,
          "country": "democraticrepublicofthecongo(the)",
          "date": "2019-04-15T00:00:00"
         },
         {
          "count": 0,
          "country": "india",
          "date": "2019-04-15T00:00:00"
         },
         {
          "count": 0,
          "country": "brazil",
          "date": "2019-04-15T00:00:00"
         },
         {
          "count": 0,
          "country": "pakistan",
          "date": "2019-04-15T00:00:00"
         },
         {
          "count": 1,
          "country": "kenya",
          "date": "2019-04-15T00:00:00"
         },
         {
          "count": 0,
          "country": "unitedstatesofamerica(the)",
          "date": "2019-04-15T00:00:00"
         },
         {
          "count": 0,
          "country": "china",
          "date": "2019-04-15T00:00:00"
         },
         {
          "count": 2,
          "country": "saudiarabia",
          "date": "2019-04-15T00:00:00"
         },
         {
          "count": 0,
          "country": "nigeria",
          "date": "2019-04-22T00:00:00"
         },
         {
          "count": 1,
          "country": "uganda",
          "date": "2019-04-22T00:00:00"
         },
         {
          "count": 2,
          "country": "democraticrepublicofthecongo(the)",
          "date": "2019-04-22T00:00:00"
         },
         {
          "count": 0,
          "country": "india",
          "date": "2019-04-22T00:00:00"
         },
         {
          "count": 0,
          "country": "brazil",
          "date": "2019-04-22T00:00:00"
         },
         {
          "count": 0,
          "country": "pakistan",
          "date": "2019-04-22T00:00:00"
         },
         {
          "count": 1,
          "country": "kenya",
          "date": "2019-04-22T00:00:00"
         },
         {
          "count": 0,
          "country": "unitedstatesofamerica(the)",
          "date": "2019-04-22T00:00:00"
         },
         {
          "count": 0,
          "country": "china",
          "date": "2019-04-22T00:00:00"
         },
         {
          "count": 0,
          "country": "saudiarabia",
          "date": "2019-04-22T00:00:00"
         },
         {
          "count": 1,
          "country": "nigeria",
          "date": "2019-04-29T00:00:00"
         },
         {
          "count": 0,
          "country": "uganda",
          "date": "2019-04-29T00:00:00"
         },
         {
          "count": 0,
          "country": "democraticrepublicofthecongo(the)",
          "date": "2019-04-29T00:00:00"
         },
         {
          "count": 0,
          "country": "india",
          "date": "2019-04-29T00:00:00"
         },
         {
          "count": 0,
          "country": "brazil",
          "date": "2019-04-29T00:00:00"
         },
         {
          "count": 0,
          "country": "pakistan",
          "date": "2019-04-29T00:00:00"
         },
         {
          "count": 0,
          "country": "kenya",
          "date": "2019-04-29T00:00:00"
         },
         {
          "count": 0,
          "country": "unitedstatesofamerica(the)",
          "date": "2019-04-29T00:00:00"
         },
         {
          "count": 0,
          "country": "china",
          "date": "2019-04-29T00:00:00"
         },
         {
          "count": 0,
          "country": "saudiarabia",
          "date": "2019-04-29T00:00:00"
         },
         {
          "count": 0,
          "country": "nigeria",
          "date": "2019-05-06T00:00:00"
         },
         {
          "count": 0,
          "country": "uganda",
          "date": "2019-05-06T00:00:00"
         },
         {
          "count": 1,
          "country": "democraticrepublicofthecongo(the)",
          "date": "2019-05-06T00:00:00"
         },
         {
          "count": 0,
          "country": "india",
          "date": "2019-05-06T00:00:00"
         },
         {
          "count": 0,
          "country": "brazil",
          "date": "2019-05-06T00:00:00"
         },
         {
          "count": 0,
          "country": "pakistan",
          "date": "2019-05-06T00:00:00"
         },
         {
          "count": 0,
          "country": "kenya",
          "date": "2019-05-06T00:00:00"
         },
         {
          "count": 0,
          "country": "unitedstatesofamerica(the)",
          "date": "2019-05-06T00:00:00"
         },
         {
          "count": 0,
          "country": "china",
          "date": "2019-05-06T00:00:00"
         },
         {
          "count": 0,
          "country": "saudiarabia",
          "date": "2019-05-06T00:00:00"
         },
         {
          "count": 0,
          "country": "nigeria",
          "date": "2019-05-13T00:00:00"
         },
         {
          "count": 1,
          "country": "uganda",
          "date": "2019-05-13T00:00:00"
         },
         {
          "count": 0,
          "country": "democraticrepublicofthecongo(the)",
          "date": "2019-05-13T00:00:00"
         },
         {
          "count": 0,
          "country": "india",
          "date": "2019-05-13T00:00:00"
         },
         {
          "count": 0,
          "country": "brazil",
          "date": "2019-05-13T00:00:00"
         },
         {
          "count": 2,
          "country": "pakistan",
          "date": "2019-05-13T00:00:00"
         },
         {
          "count": 0,
          "country": "kenya",
          "date": "2019-05-13T00:00:00"
         },
         {
          "count": 0,
          "country": "unitedstatesofamerica(the)",
          "date": "2019-05-13T00:00:00"
         },
         {
          "count": 1,
          "country": "china",
          "date": "2019-05-13T00:00:00"
         },
         {
          "count": 0,
          "country": "saudiarabia",
          "date": "2019-05-13T00:00:00"
         },
         {
          "count": 0,
          "country": "nigeria",
          "date": "2019-05-20T00:00:00"
         },
         {
          "count": 1,
          "country": "uganda",
          "date": "2019-05-20T00:00:00"
         },
         {
          "count": 0,
          "country": "democraticrepublicofthecongo(the)",
          "date": "2019-05-20T00:00:00"
         },
         {
          "count": 1,
          "country": "india",
          "date": "2019-05-20T00:00:00"
         },
         {
          "count": 0,
          "country": "brazil",
          "date": "2019-05-20T00:00:00"
         },
         {
          "count": 0,
          "country": "pakistan",
          "date": "2019-05-20T00:00:00"
         },
         {
          "count": 0,
          "country": "kenya",
          "date": "2019-05-20T00:00:00"
         },
         {
          "count": 0,
          "country": "unitedstatesofamerica(the)",
          "date": "2019-05-20T00:00:00"
         },
         {
          "count": 0,
          "country": "china",
          "date": "2019-05-20T00:00:00"
         },
         {
          "count": 0,
          "country": "saudiarabia",
          "date": "2019-05-20T00:00:00"
         },
         {
          "count": 0,
          "country": "nigeria",
          "date": "2019-05-27T00:00:00"
         },
         {
          "count": 1,
          "country": "uganda",
          "date": "2019-05-27T00:00:00"
         },
         {
          "count": 0,
          "country": "democraticrepublicofthecongo(the)",
          "date": "2019-05-27T00:00:00"
         },
         {
          "count": 0,
          "country": "india",
          "date": "2019-05-27T00:00:00"
         },
         {
          "count": 0,
          "country": "brazil",
          "date": "2019-05-27T00:00:00"
         },
         {
          "count": 1,
          "country": "pakistan",
          "date": "2019-05-27T00:00:00"
         },
         {
          "count": 0,
          "country": "kenya",
          "date": "2019-05-27T00:00:00"
         },
         {
          "count": 0,
          "country": "unitedstatesofamerica(the)",
          "date": "2019-05-27T00:00:00"
         },
         {
          "count": 0,
          "country": "china",
          "date": "2019-05-27T00:00:00"
         },
         {
          "count": 0,
          "country": "saudiarabia",
          "date": "2019-05-27T00:00:00"
         },
         {
          "count": 0,
          "country": "nigeria",
          "date": "2019-06-03T00:00:00"
         },
         {
          "count": 0,
          "country": "uganda",
          "date": "2019-06-03T00:00:00"
         },
         {
          "count": 0,
          "country": "democraticrepublicofthecongo(the)",
          "date": "2019-06-03T00:00:00"
         },
         {
          "count": 0,
          "country": "india",
          "date": "2019-06-03T00:00:00"
         },
         {
          "count": 0,
          "country": "brazil",
          "date": "2019-06-03T00:00:00"
         },
         {
          "count": 0,
          "country": "pakistan",
          "date": "2019-06-03T00:00:00"
         },
         {
          "count": 0,
          "country": "kenya",
          "date": "2019-06-03T00:00:00"
         },
         {
          "count": 1,
          "country": "unitedstatesofamerica(the)",
          "date": "2019-06-03T00:00:00"
         },
         {
          "count": 0,
          "country": "china",
          "date": "2019-06-03T00:00:00"
         },
         {
          "count": 0,
          "country": "saudiarabia",
          "date": "2019-06-03T00:00:00"
         },
         {
          "count": 0,
          "country": "nigeria",
          "date": "2019-06-10T00:00:00"
         },
         {
          "count": 0,
          "country": "uganda",
          "date": "2019-06-10T00:00:00"
         },
         {
          "count": 1,
          "country": "democraticrepublicofthecongo(the)",
          "date": "2019-06-10T00:00:00"
         },
         {
          "count": 2,
          "country": "india",
          "date": "2019-06-10T00:00:00"
         },
         {
          "count": 0,
          "country": "brazil",
          "date": "2019-06-10T00:00:00"
         },
         {
          "count": 0,
          "country": "pakistan",
          "date": "2019-06-10T00:00:00"
         },
         {
          "count": 0,
          "country": "kenya",
          "date": "2019-06-10T00:00:00"
         },
         {
          "count": 0,
          "country": "unitedstatesofamerica(the)",
          "date": "2019-06-10T00:00:00"
         },
         {
          "count": 0,
          "country": "china",
          "date": "2019-06-10T00:00:00"
         },
         {
          "count": 0,
          "country": "saudiarabia",
          "date": "2019-06-10T00:00:00"
         },
         {
          "count": 0,
          "country": "nigeria",
          "date": "2019-06-17T00:00:00"
         },
         {
          "count": 2,
          "country": "uganda",
          "date": "2019-06-17T00:00:00"
         },
         {
          "count": 0,
          "country": "democraticrepublicofthecongo(the)",
          "date": "2019-06-17T00:00:00"
         },
         {
          "count": 2,
          "country": "india",
          "date": "2019-06-17T00:00:00"
         },
         {
          "count": 0,
          "country": "brazil",
          "date": "2019-06-17T00:00:00"
         },
         {
          "count": 0,
          "country": "pakistan",
          "date": "2019-06-17T00:00:00"
         },
         {
          "count": 0,
          "country": "kenya",
          "date": "2019-06-17T00:00:00"
         },
         {
          "count": 0,
          "country": "unitedstatesofamerica(the)",
          "date": "2019-06-17T00:00:00"
         },
         {
          "count": 0,
          "country": "china",
          "date": "2019-06-17T00:00:00"
         },
         {
          "count": 0,
          "country": "saudiarabia",
          "date": "2019-06-17T00:00:00"
         },
         {
          "count": 0,
          "country": "nigeria",
          "date": "2019-06-24T00:00:00"
         },
         {
          "count": 0,
          "country": "uganda",
          "date": "2019-06-24T00:00:00"
         },
         {
          "count": 0,
          "country": "democraticrepublicofthecongo(the)",
          "date": "2019-06-24T00:00:00"
         },
         {
          "count": 2,
          "country": "india",
          "date": "2019-06-24T00:00:00"
         },
         {
          "count": 0,
          "country": "brazil",
          "date": "2019-06-24T00:00:00"
         },
         {
          "count": 0,
          "country": "pakistan",
          "date": "2019-06-24T00:00:00"
         },
         {
          "count": 0,
          "country": "kenya",
          "date": "2019-06-24T00:00:00"
         },
         {
          "count": 0,
          "country": "unitedstatesofamerica(the)",
          "date": "2019-06-24T00:00:00"
         },
         {
          "count": 0,
          "country": "china",
          "date": "2019-06-24T00:00:00"
         },
         {
          "count": 1,
          "country": "saudiarabia",
          "date": "2019-06-24T00:00:00"
         },
         {
          "count": 1,
          "country": "nigeria",
          "date": "2019-07-01T00:00:00"
         },
         {
          "count": 0,
          "country": "uganda",
          "date": "2019-07-01T00:00:00"
         },
         {
          "count": 2,
          "country": "democraticrepublicofthecongo(the)",
          "date": "2019-07-01T00:00:00"
         },
         {
          "count": 0,
          "country": "india",
          "date": "2019-07-01T00:00:00"
         },
         {
          "count": 1,
          "country": "brazil",
          "date": "2019-07-01T00:00:00"
         },
         {
          "count": 1,
          "country": "pakistan",
          "date": "2019-07-01T00:00:00"
         },
         {
          "count": 0,
          "country": "kenya",
          "date": "2019-07-01T00:00:00"
         },
         {
          "count": 1,
          "country": "unitedstatesofamerica(the)",
          "date": "2019-07-01T00:00:00"
         },
         {
          "count": 0,
          "country": "china",
          "date": "2019-07-01T00:00:00"
         },
         {
          "count": 0,
          "country": "saudiarabia",
          "date": "2019-07-01T00:00:00"
         },
         {
          "count": 1,
          "country": "nigeria",
          "date": "2019-07-08T00:00:00"
         },
         {
          "count": 0,
          "country": "uganda",
          "date": "2019-07-08T00:00:00"
         },
         {
          "count": 0,
          "country": "democraticrepublicofthecongo(the)",
          "date": "2019-07-08T00:00:00"
         },
         {
          "count": 0,
          "country": "india",
          "date": "2019-07-08T00:00:00"
         },
         {
          "count": 0,
          "country": "brazil",
          "date": "2019-07-08T00:00:00"
         },
         {
          "count": 1,
          "country": "pakistan",
          "date": "2019-07-08T00:00:00"
         },
         {
          "count": 0,
          "country": "kenya",
          "date": "2019-07-08T00:00:00"
         },
         {
          "count": 0,
          "country": "unitedstatesofamerica(the)",
          "date": "2019-07-08T00:00:00"
         },
         {
          "count": 1,
          "country": "china",
          "date": "2019-07-08T00:00:00"
         },
         {
          "count": 0,
          "country": "saudiarabia",
          "date": "2019-07-08T00:00:00"
         },
         {
          "count": 0,
          "country": "nigeria",
          "date": "2019-07-15T00:00:00"
         },
         {
          "count": 0,
          "country": "uganda",
          "date": "2019-07-15T00:00:00"
         },
         {
          "count": 1,
          "country": "democraticrepublicofthecongo(the)",
          "date": "2019-07-15T00:00:00"
         },
         {
          "count": 0,
          "country": "india",
          "date": "2019-07-15T00:00:00"
         },
         {
          "count": 0,
          "country": "brazil",
          "date": "2019-07-15T00:00:00"
         },
         {
          "count": 0,
          "country": "pakistan",
          "date": "2019-07-15T00:00:00"
         },
         {
          "count": 0,
          "country": "kenya",
          "date": "2019-07-15T00:00:00"
         },
         {
          "count": 0,
          "country": "unitedstatesofamerica(the)",
          "date": "2019-07-15T00:00:00"
         },
         {
          "count": 1,
          "country": "china",
          "date": "2019-07-15T00:00:00"
         },
         {
          "count": 0,
          "country": "saudiarabia",
          "date": "2019-07-15T00:00:00"
         },
         {
          "count": 0,
          "country": "nigeria",
          "date": "2019-07-22T00:00:00"
         },
         {
          "count": 0,
          "country": "uganda",
          "date": "2019-07-22T00:00:00"
         },
         {
          "count": 0,
          "country": "democraticrepublicofthecongo(the)",
          "date": "2019-07-22T00:00:00"
         },
         {
          "count": 0,
          "country": "india",
          "date": "2019-07-22T00:00:00"
         },
         {
          "count": 0,
          "country": "brazil",
          "date": "2019-07-22T00:00:00"
         },
         {
          "count": 0,
          "country": "pakistan",
          "date": "2019-07-22T00:00:00"
         },
         {
          "count": 0,
          "country": "kenya",
          "date": "2019-07-22T00:00:00"
         },
         {
          "count": 0,
          "country": "unitedstatesofamerica(the)",
          "date": "2019-07-22T00:00:00"
         },
         {
          "count": 0,
          "country": "china",
          "date": "2019-07-22T00:00:00"
         },
         {
          "count": 0,
          "country": "saudiarabia",
          "date": "2019-07-22T00:00:00"
         },
         {
          "count": 1,
          "country": "nigeria",
          "date": "2019-07-29T00:00:00"
         },
         {
          "count": 0,
          "country": "uganda",
          "date": "2019-07-29T00:00:00"
         },
         {
          "count": 0,
          "country": "democraticrepublicofthecongo(the)",
          "date": "2019-07-29T00:00:00"
         },
         {
          "count": 1,
          "country": "india",
          "date": "2019-07-29T00:00:00"
         },
         {
          "count": 0,
          "country": "brazil",
          "date": "2019-07-29T00:00:00"
         },
         {
          "count": 1,
          "country": "pakistan",
          "date": "2019-07-29T00:00:00"
         },
         {
          "count": 0,
          "country": "kenya",
          "date": "2019-07-29T00:00:00"
         },
         {
          "count": 0,
          "country": "unitedstatesofamerica(the)",
          "date": "2019-07-29T00:00:00"
         },
         {
          "count": 0,
          "country": "china",
          "date": "2019-07-29T00:00:00"
         },
         {
          "count": 0,
          "country": "saudiarabia",
          "date": "2019-07-29T00:00:00"
         },
         {
          "count": 0,
          "country": "nigeria",
          "date": "2019-08-05T00:00:00"
         },
         {
          "count": 0,
          "country": "uganda",
          "date": "2019-08-05T00:00:00"
         },
         {
          "count": 0,
          "country": "democraticrepublicofthecongo(the)",
          "date": "2019-08-05T00:00:00"
         },
         {
          "count": 1,
          "country": "india",
          "date": "2019-08-05T00:00:00"
         },
         {
          "count": 0,
          "country": "brazil",
          "date": "2019-08-05T00:00:00"
         },
         {
          "count": 0,
          "country": "pakistan",
          "date": "2019-08-05T00:00:00"
         },
         {
          "count": 0,
          "country": "kenya",
          "date": "2019-08-05T00:00:00"
         },
         {
          "count": 0,
          "country": "unitedstatesofamerica(the)",
          "date": "2019-08-05T00:00:00"
         },
         {
          "count": 1,
          "country": "china",
          "date": "2019-08-05T00:00:00"
         },
         {
          "count": 0,
          "country": "saudiarabia",
          "date": "2019-08-05T00:00:00"
         },
         {
          "count": 1,
          "country": "nigeria",
          "date": "2019-08-12T00:00:00"
         },
         {
          "count": 0,
          "country": "uganda",
          "date": "2019-08-12T00:00:00"
         },
         {
          "count": 0,
          "country": "democraticrepublicofthecongo(the)",
          "date": "2019-08-12T00:00:00"
         },
         {
          "count": 0,
          "country": "india",
          "date": "2019-08-12T00:00:00"
         },
         {
          "count": 0,
          "country": "brazil",
          "date": "2019-08-12T00:00:00"
         },
         {
          "count": 0,
          "country": "pakistan",
          "date": "2019-08-12T00:00:00"
         },
         {
          "count": 0,
          "country": "kenya",
          "date": "2019-08-12T00:00:00"
         },
         {
          "count": 0,
          "country": "unitedstatesofamerica(the)",
          "date": "2019-08-12T00:00:00"
         },
         {
          "count": 0,
          "country": "china",
          "date": "2019-08-12T00:00:00"
         },
         {
          "count": 0,
          "country": "saudiarabia",
          "date": "2019-08-12T00:00:00"
         },
         {
          "count": 1,
          "country": "nigeria",
          "date": "2019-08-19T00:00:00"
         },
         {
          "count": 0,
          "country": "uganda",
          "date": "2019-08-19T00:00:00"
         },
         {
          "count": 0,
          "country": "democraticrepublicofthecongo(the)",
          "date": "2019-08-19T00:00:00"
         },
         {
          "count": 1,
          "country": "india",
          "date": "2019-08-19T00:00:00"
         },
         {
          "count": 0,
          "country": "brazil",
          "date": "2019-08-19T00:00:00"
         },
         {
          "count": 0,
          "country": "pakistan",
          "date": "2019-08-19T00:00:00"
         },
         {
          "count": 0,
          "country": "kenya",
          "date": "2019-08-19T00:00:00"
         },
         {
          "count": 0,
          "country": "unitedstatesofamerica(the)",
          "date": "2019-08-19T00:00:00"
         },
         {
          "count": 0,
          "country": "china",
          "date": "2019-08-19T00:00:00"
         },
         {
          "count": 0,
          "country": "saudiarabia",
          "date": "2019-08-19T00:00:00"
         },
         {
          "count": 0,
          "country": "nigeria",
          "date": "2019-08-26T00:00:00"
         },
         {
          "count": 0,
          "country": "uganda",
          "date": "2019-08-26T00:00:00"
         },
         {
          "count": 0,
          "country": "democraticrepublicofthecongo(the)",
          "date": "2019-08-26T00:00:00"
         },
         {
          "count": 0,
          "country": "india",
          "date": "2019-08-26T00:00:00"
         },
         {
          "count": 0,
          "country": "brazil",
          "date": "2019-08-26T00:00:00"
         },
         {
          "count": 2,
          "country": "pakistan",
          "date": "2019-08-26T00:00:00"
         },
         {
          "count": 1,
          "country": "kenya",
          "date": "2019-08-26T00:00:00"
         },
         {
          "count": 0,
          "country": "unitedstatesofamerica(the)",
          "date": "2019-08-26T00:00:00"
         },
         {
          "count": 1,
          "country": "china",
          "date": "2019-08-26T00:00:00"
         },
         {
          "count": 0,
          "country": "saudiarabia",
          "date": "2019-08-26T00:00:00"
         },
         {
          "count": 0,
          "country": "nigeria",
          "date": "2019-09-02T00:00:00"
         },
         {
          "count": 1,
          "country": "uganda",
          "date": "2019-09-02T00:00:00"
         },
         {
          "count": 0,
          "country": "democraticrepublicofthecongo(the)",
          "date": "2019-09-02T00:00:00"
         },
         {
          "count": 0,
          "country": "india",
          "date": "2019-09-02T00:00:00"
         },
         {
          "count": 0,
          "country": "brazil",
          "date": "2019-09-02T00:00:00"
         },
         {
          "count": 0,
          "country": "pakistan",
          "date": "2019-09-02T00:00:00"
         },
         {
          "count": 0,
          "country": "kenya",
          "date": "2019-09-02T00:00:00"
         },
         {
          "count": 0,
          "country": "unitedstatesofamerica(the)",
          "date": "2019-09-02T00:00:00"
         },
         {
          "count": 0,
          "country": "china",
          "date": "2019-09-02T00:00:00"
         },
         {
          "count": 0,
          "country": "saudiarabia",
          "date": "2019-09-02T00:00:00"
         },
         {
          "count": 1,
          "country": "nigeria",
          "date": "2019-09-09T00:00:00"
         },
         {
          "count": 1,
          "country": "uganda",
          "date": "2019-09-09T00:00:00"
         },
         {
          "count": 0,
          "country": "democraticrepublicofthecongo(the)",
          "date": "2019-09-09T00:00:00"
         },
         {
          "count": 1,
          "country": "india",
          "date": "2019-09-09T00:00:00"
         },
         {
          "count": 0,
          "country": "brazil",
          "date": "2019-09-09T00:00:00"
         },
         {
          "count": 1,
          "country": "pakistan",
          "date": "2019-09-09T00:00:00"
         },
         {
          "count": 0,
          "country": "kenya",
          "date": "2019-09-09T00:00:00"
         },
         {
          "count": 1,
          "country": "unitedstatesofamerica(the)",
          "date": "2019-09-09T00:00:00"
         },
         {
          "count": 0,
          "country": "china",
          "date": "2019-09-09T00:00:00"
         },
         {
          "count": 0,
          "country": "saudiarabia",
          "date": "2019-09-09T00:00:00"
         },
         {
          "count": 0,
          "country": "nigeria",
          "date": "2019-09-16T00:00:00"
         },
         {
          "count": 0,
          "country": "uganda",
          "date": "2019-09-16T00:00:00"
         },
         {
          "count": 0,
          "country": "democraticrepublicofthecongo(the)",
          "date": "2019-09-16T00:00:00"
         },
         {
          "count": 1,
          "country": "india",
          "date": "2019-09-16T00:00:00"
         },
         {
          "count": 0,
          "country": "brazil",
          "date": "2019-09-16T00:00:00"
         },
         {
          "count": 0,
          "country": "pakistan",
          "date": "2019-09-16T00:00:00"
         },
         {
          "count": 0,
          "country": "kenya",
          "date": "2019-09-16T00:00:00"
         },
         {
          "count": 0,
          "country": "unitedstatesofamerica(the)",
          "date": "2019-09-16T00:00:00"
         },
         {
          "count": 0,
          "country": "china",
          "date": "2019-09-16T00:00:00"
         },
         {
          "count": 0,
          "country": "saudiarabia",
          "date": "2019-09-16T00:00:00"
         },
         {
          "count": 0,
          "country": "nigeria",
          "date": "2019-09-23T00:00:00"
         },
         {
          "count": 0,
          "country": "uganda",
          "date": "2019-09-23T00:00:00"
         },
         {
          "count": 0,
          "country": "democraticrepublicofthecongo(the)",
          "date": "2019-09-23T00:00:00"
         },
         {
          "count": 0,
          "country": "india",
          "date": "2019-09-23T00:00:00"
         },
         {
          "count": 0,
          "country": "brazil",
          "date": "2019-09-23T00:00:00"
         },
         {
          "count": 0,
          "country": "pakistan",
          "date": "2019-09-23T00:00:00"
         },
         {
          "count": 0,
          "country": "kenya",
          "date": "2019-09-23T00:00:00"
         },
         {
          "count": 0,
          "country": "unitedstatesofamerica(the)",
          "date": "2019-09-23T00:00:00"
         },
         {
          "count": 0,
          "country": "china",
          "date": "2019-09-23T00:00:00"
         },
         {
          "count": 0,
          "country": "saudiarabia",
          "date": "2019-09-23T00:00:00"
         },
         {
          "count": 1,
          "country": "nigeria",
          "date": "2019-09-30T00:00:00"
         },
         {
          "count": 0,
          "country": "uganda",
          "date": "2019-09-30T00:00:00"
         },
         {
          "count": 0,
          "country": "democraticrepublicofthecongo(the)",
          "date": "2019-09-30T00:00:00"
         },
         {
          "count": 0,
          "country": "india",
          "date": "2019-09-30T00:00:00"
         },
         {
          "count": 1,
          "country": "brazil",
          "date": "2019-09-30T00:00:00"
         },
         {
          "count": 1,
          "country": "pakistan",
          "date": "2019-09-30T00:00:00"
         },
         {
          "count": 0,
          "country": "kenya",
          "date": "2019-09-30T00:00:00"
         },
         {
          "count": 1,
          "country": "unitedstatesofamerica(the)",
          "date": "2019-09-30T00:00:00"
         },
         {
          "count": 0,
          "country": "china",
          "date": "2019-09-30T00:00:00"
         },
         {
          "count": 0,
          "country": "saudiarabia",
          "date": "2019-09-30T00:00:00"
         }
        ]
       },
       "encoding": {
        "color": {
         "field": "country",
         "type": "nominal"
        },
        "tooltip": [
         {
          "field": "date",
          "type": "temporal"
         },
         {
          "field": "country",
          "type": "nominal"
         },
         {
          "field": "count",
          "type": "quantitative"
         }
        ],
        "x": {
         "field": "date",
         "type": "temporal"
        },
        "y": {
         "aggregate": "sum",
         "field": "count",
         "type": "quantitative"
        }
       },
       "height": 400,
       "mark": "bar",
       "selection": {
        "selector008": {
         "bind": "scales",
         "encodings": [
          "x"
         ],
         "type": "interval"
        }
       },
       "title": "signals weekly count for top 10 countries",
       "width": 600
      },
      "image/png": "[encoded data removed]",
      "text/plain": [
       "<VegaLite 3 object>\n",
       "\n",
       "If you see this message, it means the renderer has not been properly enabled\n",
       "for the frontend that you are using. For more information, see\n",
       "https://altair-viz.github.io/user_guide/troubleshooting.html\n"
      ]
     },
     "metadata": {
      "application/vnd.vegalite.v3+json": {
       "embed_options": {
        "theme": "dark"
       }
      }
     },
     "output_type": "display_data"
    }
   ],
   "source": [
    "# Plots\n",
    "highlight = alt.selection(type = 'single', on = 'mouseover', fields = ['date'])\n",
    "\n",
    "# day\n",
    "signals_day_count_plot_line = (\n",
    "    alt.Chart(signals_day_count)\n",
    "    .mark_line(size = 1)\n",
    "    .encode(\n",
    "        x = alt.Y('date', sort = None),\n",
    "        y = 'mult'\n",
    "    )\n",
    ")\n",
    "signals_day_count_plot_points = (\n",
    "    alt.Chart(signals_day_count, title = 'signals daily count')\n",
    "    .mark_circle(size = 25)\n",
    "    .encode(\n",
    "        x = alt.Y('date', sort = None),\n",
    "        y = 'mult',\n",
    "        tooltip = ['date', 'mult'],\n",
    "        color = alt.condition(~highlight, alt.value('#1f77b4'),\n",
    "                              alt.value('#aec7e8'))\n",
    "    ).add_selection(\n",
    "        highlight\n",
    "    )\n",
    ")\n",
    "signals_day_count_plot = ((signals_day_count_plot_line\n",
    "                           + signals_day_count_plot_points)\n",
    "                          .interactive(bind_y = False)\n",
    "                          .properties(height = 400, width = 600))\n",
    "display(signals_day_count_plot)\n",
    "signals_day_count_plot.save(plot_dir+'/signals_day_count.html')\n",
    "\n",
    "# week\n",
    "signals_week_count_plot_line = (\n",
    "    alt.Chart(signals_week_count)\n",
    "    .mark_line(size = 1)\n",
    "    .encode(\n",
    "        x = alt.Y('date', sort = None),\n",
    "        y = 'mult'\n",
    "    )\n",
    ")\n",
    "signals_week_count_plot_points = (\n",
    "    alt.Chart(signals_week_count, title = 'signals weekly count')\n",
    "    .mark_circle(size = 25)\n",
    "    .encode(\n",
    "        x = alt.Y('date', sort = None),\n",
    "        y = 'mult',\n",
    "        tooltip = ['date', 'mult'],\n",
    "        color = alt.condition(~highlight, alt.value('#1f77b4'),\n",
    "                              alt.value('#aec7e8'))\n",
    "    ).add_selection(\n",
    "        highlight\n",
    "    )\n",
    ")\n",
    "signals_week_count_plot = ((signals_week_count_plot_line\n",
    "                            + signals_week_count_plot_points)\n",
    "                           .interactive(bind_y = False)\n",
    "                           .properties(height = 400, width = 600))\n",
    "display(signals_week_count_plot)\n",
    "signals_week_count_plot.save(plot_dir+'/signals_week_count.html')\n",
    "\n",
    "# month\n",
    "signals_month_count_plot_line = (\n",
    "    alt.Chart(signals_month_count)\n",
    "    .mark_line(size = 1)\n",
    "    .encode(\n",
    "        x = alt.Y('date', sort = None),\n",
    "        y = 'mult'\n",
    "    )\n",
    ")\n",
    "signals_month_count_plot_points = (\n",
    "    alt.Chart(signals_month_count, title = 'signals monthly count')\n",
    "    .mark_circle(size = 25)\n",
    "    .encode(\n",
    "        x = alt.Y('date', sort = None),\n",
    "        y = 'mult',\n",
    "        tooltip = ['date', 'mult'],\n",
    "        color = alt.condition(~highlight, alt.value('#1f77b4'),\n",
    "                              alt.value('#aec7e8'))\n",
    "    ).add_selection(\n",
    "        highlight\n",
    "    )\n",
    ")\n",
    "signals_month_count_plot = ((signals_month_count_plot_line\n",
    "                             + signals_month_count_plot_points)\n",
    "                            .interactive(bind_y = False)\n",
    "                            .properties(height = 400, width = 600))\n",
    "display(signals_month_count_plot)\n",
    "signals_month_count_plot.save(plot_dir+'/signals_month_count.html')\n",
    "\n",
    "# week and disease\n",
    "signals_week_disease_count_plot = (\n",
    "    alt.Chart(signals_week_disease_count,\n",
    "              title = 'signals weekly count for top 10 dieases')\n",
    "    .mark_bar()\n",
    "    .encode(\n",
    "        x = 'date',\n",
    "        y = 'sum(count)',\n",
    "        color = 'disease', \n",
    "        tooltip = ['date', 'disease', 'count']\n",
    "    ).interactive(\n",
    "        bind_y = False\n",
    "    ).properties(height = 400, width = 600)\n",
    ")\n",
    "display(signals_week_disease_count_plot)\n",
    "signals_week_disease_count_plot.save(plot_dir+'/signals_week_disease_count.html')\n",
    "\n",
    "# week and country\n",
    "signals_week_country_count_plot = (\n",
    "    alt.Chart(signals_week_country_count,\n",
    "              title = 'signals weekly count for top 10 countries')\n",
    "    .mark_bar()\n",
    "    .encode(\n",
    "        x = 'date',\n",
    "        y = 'sum(count)',\n",
    "        color = 'country', \n",
    "        tooltip = ['date', 'country', 'count']\n",
    "    ).interactive(\n",
    "        bind_y = False\n",
    "    ).properties(height = 400, width = 600)\n",
    ")\n",
    "display(signals_week_country_count_plot)\n",
    "signals_week_country_count_plot.save(plot_dir+'/signals_week_country_count.html')"
   ]
  },
  {
   "cell_type": "markdown",
   "metadata": {},
   "source": [
    "### Sources\n",
    "\n",
    "EMS on the one hand, media and other online sources on the other."
   ]
  },
  {
   "cell_type": "code",
   "execution_count": 32,
   "metadata": {},
   "outputs": [],
   "source": [
    "#         link_list = [y.strip().strip(strip_lead_trail).strip() \n",
    "#                      for sublist in [x.split(charsplit) for x in link_list]\n",
    "#                      for y in sublist]\n",
    "#         link_list_media = [l for l in link_list\n",
    "#                           if (all(sep in l for sep in ['.','/']) \n",
    "#                               & (len(l) >= 5)\n",
    "#                               & all([intern not in l \n",
    "#                                     for intern in ['who.int','?eid=']]))]\n",
    "\n",
    "\n",
    "# EMS\n",
    "signals_idx_ems_inems = signals_table_corr.index[signals_table_corr.InEMS == 1]\n",
    "signals_idx_ems_link1 = signals_table_corr.index[\n",
    "    signals_table_corr.Weblink.notna()\n",
    "    & signals_table_corr.Weblink.str.contains('ems.who.int', regex=False)\n",
    "]\n",
    "signals_idx_ems_link2 = signals_table_corr.index[\n",
    "    signals_table_corr.Weblink.notna()\n",
    "    & signals_table_corr.Weblink.str.contains('?eid=', regex=False)\n",
    "]\n",
    "signals_idx_ems_source = signals_table_corr.index[\n",
    "    signals_table_corr.SOURCE.notna()\n",
    "    & signals_table_corr.SOURCE.str.contains('EMS')\n",
    "]\n",
    "\n",
    "# Media and other online public sources that are potentially in EIOS\n",
    "media_tags_include = ['bulletin','gphin','healthmap','healtmap','media','news',\n",
    "                      'official','press','promed','pubmed','reliefweb',\n",
    "                      'statement','update']\n",
    "media_tags_exclude = ['internal','personal','private']\n",
    "\n",
    "signals_idx_media_source = signals_table_corr.index[\n",
    "    signals_table_corr.SOURCE.notna()\n",
    "    & signals_table_corr.SOURCE.str.contains('|'.join(media_tags_include),\n",
    "                                             case=False)\n",
    "    & ~signals_table_corr.SOURCE.str.contains('|'.join(media_tags_exclude),\n",
    "                                              case=False)]\n",
    "\n",
    "signals_idx_media_link = signals_table_corr.index[\n",
    "    signals_table_corr.Weblink.notna()\n",
    "    & signals_table_corr.Weblink.str.contains('http|www|htm')\n",
    "    & signals_table_corr.Weblink.str.contains('.')\n",
    "    & signals_table_corr.Weblink.str.contains('/')\n",
    "    & (~signals_table_corr.Weblink.str.contains('who.int|\\?eid=') \n",
    "       | signals_table_corr.Weblink.str.contains('media', case=False)\n",
    "       | (signals_table_corr.Weblink.str.count('http|www|htm') > 1))]"
   ]
  },
  {
   "cell_type": "code",
   "execution_count": 33,
   "metadata": {},
   "outputs": [
    {
     "name": "stdout",
     "output_type": "stream",
     "text": [
      "Links containing \"ems.who.int\" but not \"?eid=\"\n",
      "http://ems.who.int/summary/summaryCountry.aspx?countryID=36\n",
      "\n",
      "Links containing \"?eid=\" but not \"ems.who.int\"\n",
      "http://www.newtimes.co.rw/news/rift-valley-fever-disease-now-reported-kamonyi-district                                                                               http://ems/Event/eventSummary.aspx?eid=2018-E000254 // \n",
      "http://ems/Event/eventSummary.aspx?eid=2018-E000210 // \n",
      "http://ems/Event/eventSummary.aspx?eid=2018-E000288// \n",
      "http://ems/Event/eventSummary.aspx?eid=2018-E000287// \n",
      "http://ems/Event/eventSummary.aspx?eid=2018-E000290// \n",
      "http://ems/Event/eventSummary.aspx?eid=2018-E000187 // \n",
      "http://ems/Event/eventSummary.aspx?eid=2018-E000253 // \n",
      "http://ems/Event/eventSummary.aspx?eid=2018-E000210 // \n",
      "http://ems/Event/eventSummary.aspx?eid=2018-E000284 // \n",
      "http://ems/Event/eventSummary.aspx?eid=2018-E000432 \n",
      "\n",
      "So we'll use \"?eid=\" to identify EMS links.\n"
     ]
    }
   ],
   "source": [
    "# Choose between, or combine, ems_link1 and ems_link2 \n",
    "print('Links containing \"ems.who.int\" but not \"?eid=\"') \n",
    "print(*signals_table_corr.loc[\n",
    "          signals_idx_ems_link1[\n",
    "              ~signals_idx_ems_link1.isin(\n",
    "                  signals_idx_ems_link2\n",
    "              )],\n",
    "          'Weblink'], \n",
    "      sep = '// \\n')\n",
    "print()\n",
    "print('Links containing \"?eid=\" but not \"ems.who.int\"') \n",
    "print(*signals_table_corr.loc[\n",
    "          signals_idx_ems_link2[\n",
    "              ~signals_idx_ems_link2.isin(\n",
    "                  signals_idx_ems_link1\n",
    "              )],\n",
    "          'Weblink'], \n",
    "      sep = '// \\n')\n",
    "print()\n",
    "print('So we\\'ll use \"?eid=\" to identify EMS links.')"
   ]
  },
  {
   "cell_type": "code",
   "execution_count": 34,
   "metadata": {},
   "outputs": [
    {
     "data": {
      "image/png": "[encoded data removed]",
      "text/plain": [
       "<Figure size 432x288 with 1 Axes>"
      ]
     },
     "metadata": {},
     "output_type": "display_data"
    }
   ],
   "source": [
    "# Venn diagram of media_source, media_link, ems_link2\n",
    "venn_media_ems = venn3([set(signals_idx_ems_inems), \n",
    "                        set(signals_idx_ems_link2), \n",
    "                        set(signals_idx_ems_source)], \n",
    "                       ('inems', 'ems_link2', 'ems_source'), alpha = 0)\n",
    "venn_circles_media_ems = venn3_circles([set(signals_idx_ems_inems),\n",
    "                                        set(signals_idx_ems_link2),\n",
    "                                        set(signals_idx_ems_source)], \n",
    "                                       color = 'black')\n",
    "plt.savefig(plot_dir + '/signals_media_ems-1.pdf')"
   ]
  },
  {
   "cell_type": "code",
   "execution_count": 35,
   "metadata": {},
   "outputs": [
    {
     "data": {
      "image/png": "[encoded data removed]",
      "text/plain": [
       "<Figure size 432x288 with 1 Axes>"
      ]
     },
     "metadata": {},
     "output_type": "display_data"
    }
   ],
   "source": [
    "# Venn diagram of media_source, media_link, ems_link2\n",
    "venn_media_ems = venn3([set(signals_idx_media_source), \n",
    "                        set(signals_idx_media_link), \n",
    "                        set(signals_idx_ems_link2)], \n",
    "                       ('media_source', 'media_link', 'ems_link2'), alpha = 0)\n",
    "venn_circles_media_ems = venn3_circles([set(signals_idx_media_source),\n",
    "                                        set(signals_idx_media_link),\n",
    "                                        set(signals_idx_ems_link2)], \n",
    "                                       color = 'black')\n",
    "plt.savefig(plot_dir + '/signals_media_ems-2.pdf')"
   ]
  },
  {
   "cell_type": "code",
   "execution_count": 36,
   "metadata": {},
   "outputs": [
    {
     "data": {
      "image/png": "[encoded data removed]",
      "text/plain": [
       "<Figure size 432x288 with 1 Axes>"
      ]
     },
     "metadata": {},
     "output_type": "display_data"
    }
   ],
   "source": [
    "# Venn diagram of media_source, media_link, inems\n",
    "venn_media_ems = venn3([set(signals_idx_media_source), \n",
    "                        set(signals_idx_media_link), \n",
    "                        set(signals_idx_ems_inems)], \n",
    "                       ('media_source', 'media_link', 'inems'), alpha = 0)\n",
    "venn_circles_media_ems = venn3_circles([set(signals_idx_media_source),\n",
    "                                        set(signals_idx_media_link),\n",
    "                                        set(signals_idx_ems_inems)], \n",
    "                                       color = 'black')\n",
    "plt.savefig(plot_dir + '/signals_media_ems-3.pdf')"
   ]
  },
  {
   "cell_type": "code",
   "execution_count": 18,
   "metadata": {},
   "outputs": [
    {
     "data": {
      "text/html": [
       "<div>\n",
       "<style scoped>\n",
       "    .dataframe tbody tr th:only-of-type {\n",
       "        vertical-align: middle;\n",
       "    }\n",
       "\n",
       "    .dataframe tbody tr th {\n",
       "        vertical-align: top;\n",
       "    }\n",
       "\n",
       "    .dataframe thead th {\n",
       "        text-align: right;\n",
       "    }\n",
       "</style>\n",
       "<table border=\"1\" class=\"dataframe\">\n",
       "  <thead>\n",
       "    <tr style=\"text-align: right;\">\n",
       "      <th></th>\n",
       "      <th>url</th>\n",
       "      <th>date</th>\n",
       "      <th>disease</th>\n",
       "      <th>country</th>\n",
       "      <th>event_id</th>\n",
       "    </tr>\n",
       "  </thead>\n",
       "  <tbody>\n",
       "    <tr>\n",
       "      <th>0</th>\n",
       "      <td>promedmail.org/direct.php?id=20171031.5416115</td>\n",
       "      <td>2017-11-01</td>\n",
       "      <td>Cholera</td>\n",
       "      <td>Kenya</td>\n",
       "      <td>None</td>\n",
       "    </tr>\n",
       "    <tr>\n",
       "      <th>1</th>\n",
       "      <td>thenationonlineng.net/monkeypox-hits-edo</td>\n",
       "      <td>2017-11-01</td>\n",
       "      <td>Monkeypox</td>\n",
       "      <td>Nigeria</td>\n",
       "      <td>None</td>\n",
       "    </tr>\n",
       "    <tr>\n",
       "      <th>2</th>\n",
       "      <td>moh.gov.sa/en/CCC/PressReleases/Pages/default....</td>\n",
       "      <td>2017-11-01</td>\n",
       "      <td>MERS-CoV</td>\n",
       "      <td>Saudi Arabia</td>\n",
       "      <td>None</td>\n",
       "    </tr>\n",
       "    <tr>\n",
       "      <th>3</th>\n",
       "      <td>promedmail.org/direct.php?id=20171031.5417235</td>\n",
       "      <td>2017-11-01</td>\n",
       "      <td>Rabies</td>\n",
       "      <td>United States of America (the)</td>\n",
       "      <td>None</td>\n",
       "    </tr>\n",
       "    <tr>\n",
       "      <th>4</th>\n",
       "      <td>citizentv.co.ke/news/marburg-alert-four-people...</td>\n",
       "      <td>2017-11-01</td>\n",
       "      <td>Marburg</td>\n",
       "      <td>Kenya</td>\n",
       "      <td>None</td>\n",
       "    </tr>\n",
       "  </tbody>\n",
       "</table>\n",
       "</div>"
      ],
      "text/plain": [
       "                                                 url       date    disease  \\\n",
       "0      promedmail.org/direct.php?id=20171031.5416115 2017-11-01    Cholera   \n",
       "1           thenationonlineng.net/monkeypox-hits-edo 2017-11-01  Monkeypox   \n",
       "2  moh.gov.sa/en/CCC/PressReleases/Pages/default.... 2017-11-01   MERS-CoV   \n",
       "3      promedmail.org/direct.php?id=20171031.5417235 2017-11-01     Rabies   \n",
       "4  citizentv.co.ke/news/marburg-alert-four-people... 2017-11-01    Marburg   \n",
       "\n",
       "                          country event_id  \n",
       "0                           Kenya     None  \n",
       "1                         Nigeria     None  \n",
       "2                    Saudi Arabia     None  \n",
       "3  United States of America (the)     None  \n",
       "4                           Kenya     None  "
      ]
     },
     "metadata": {},
     "output_type": "display_data"
    }
   ],
   "source": [
    "# Distribution of media sources\n",
    "# Heuristic to find individual links: Split Weblink along \" \", then split \n",
    "# along noninfo_substr. A valid media link will contain both a \".\" and a \n",
    "# \"/\", be at least five characters long, and don't contain \"ems.who.int\"\n",
    "# or \"?eid=\".\n",
    "# Leading and trailing undesired characters, including regex special\n",
    "# characters, are then removed.\n",
    "noninfo_substr = ['http://','https://','www.','www2.','wwwnc.']\n",
    "strip_lead_trail = ' /,;.?!<>\\r\\n'\n",
    "\n",
    "signals_media_links = pd.DataFrame(columns=['url','date','disease','country','event_id'])\n",
    "media_sites = []\n",
    "for i in signals_idx_media_link:\n",
    "# for link_list in signals_media_links:\n",
    "    link_date = signals_table_corr.DATE[i]\n",
    "    link_list = signals_table_corr.Weblink[i].split(' ')\n",
    "#     link_disease = signals_table_corr.disease[i]\n",
    "    link_disease = signals_table_corr.loc[i,'Disease-Condition']\n",
    "#     link_country = signals_table_corr.country[i]\n",
    "    link_country = signals_table_corr.loc[i,'CountryAffected']\n",
    "    # Further split concatanated URLs and remove non-informative\n",
    "    # substrings\n",
    "    for charsplit in noninfo_substr:\n",
    "        # Separate URLs.\n",
    "        # Remove leading or trailing escaped characters, \n",
    "        # whitspaces or punctuation. Just to be sure, also\n",
    "        # apply .strip() twice to remove special characters\n",
    "        # that might not be in strip_lead_trail\n",
    "        link_list = [y.strip().strip(strip_lead_trail).strip() \n",
    "                     for sublist in [x.split(charsplit) for x in link_list]\n",
    "                     for y in sublist]\n",
    "        link_list_media = [l for l in link_list\n",
    "                          if (all(sep in l for sep in ['.','/']) \n",
    "                              & (len(l) >= 5)\n",
    "                              & all([intern not in l \n",
    "                                    for intern in ['who.int','?eid=']]))]\n",
    "        link_list_ems = [l for l in link_list if '?eid=' in l]\n",
    "    if len(link_list_media) > 0:\n",
    "        for unique_link in link_list_media:\n",
    "            if len(link_list_ems) > 0:\n",
    "                for ems_link in link_list_ems:\n",
    "                    ems_id = ems_link.split('?eid=')[-1].split('&')[0].split('\\n')[0]\n",
    "                signals_media_links = (\n",
    "                    signals_media_links.append(\n",
    "                        {'url':unique_link, 'date':link_date,\n",
    "                         'disease':link_disease, 'country':link_country,\n",
    "                         'event_id':ems_id}, \n",
    "                        ignore_index=True))\n",
    "            else:\n",
    "                signals_media_links = (\n",
    "                    signals_media_links.append(\n",
    "                        {'url':unique_link, 'date':link_date,\n",
    "                         'disease':link_disease, 'country':link_country,\n",
    "                         'event_id':None}, \n",
    "                        ignore_index=True))\n",
    "            \n",
    "            unique_site = unique_link.split('/')[0]\n",
    "            if len(unique_site) > 0:\n",
    "                media_sites.append(unique_site)\n",
    "\n",
    "display(signals_media_links.head())"
   ]
  },
  {
   "cell_type": "code",
   "execution_count": 19,
   "metadata": {},
   "outputs": [],
   "source": [
    "# Save unique links\n",
    "pickle.dump(signals_media_links,\n",
    "            open('pickles/signals_data.pickle', 'wb'))"
   ]
  },
  {
   "cell_type": "code",
   "execution_count": 20,
   "metadata": {},
   "outputs": [
    {
     "name": "stdout",
     "output_type": "stream",
     "text": [
      "                        source  count\n",
      "0               promedmail.org    118\n",
      "1                reliefweb.int     25\n",
      "2        outbreaknewstoday.com     15\n",
      "3                  ncdc.gov.ng     14\n",
      "4                   moh.gov.sa     14\n",
      "5                xinhuanet.com     13\n",
      "6                 g1.globo.com     11\n",
      "7  timesofindia.indiatimes.com     11\n",
      "8                  info.gov.hk      9\n",
      "9         polioeradication.org      9\n",
      "number of media sources = 520\n"
     ]
    }
   ],
   "source": [
    "# Count media sources\n",
    "media_sites_count = pd.Series(media_sites).value_counts().to_frame()\n",
    "media_sites_count.reset_index(inplace = True)\n",
    "media_sites_count.rename(columns = {'index':'source', 0:'count'}, inplace=True)\n",
    "print(media_sites_count.head(10))\n",
    "print('number of media sources =', media_sites_count.shape[0])"
   ]
  },
  {
   "cell_type": "code",
   "execution_count": 21,
   "metadata": {},
   "outputs": [
    {
     "data": {
      "application/vnd.vegalite.v3+json": {
       "$schema": "https://vega.github.io/schema/vega-lite/v3.3.0.json",
       "config": {
        "mark": {
         "tooltip": null
        },
        "view": {
         "height": 300,
         "width": 400
        }
       },
       "data": {
        "name": "data-efce21a702ddb4648c925d53f14a4d8d"
       },
       "datasets": {
        "data-efce21a702ddb4648c925d53f14a4d8d": [
         {
          "count": 118,
          "source": "promedmail.org"
         },
         {
          "count": 25,
          "source": "reliefweb.int"
         },
         {
          "count": 15,
          "source": "outbreaknewstoday.com"
         },
         {
          "count": 14,
          "source": "ncdc.gov.ng"
         },
         {
          "count": 14,
          "source": "moh.gov.sa"
         },
         {
          "count": 13,
          "source": "xinhuanet.com"
         },
         {
          "count": 11,
          "source": "g1.globo.com"
         },
         {
          "count": 11,
          "source": "timesofindia.indiatimes.com"
         },
         {
          "count": 9,
          "source": "info.gov.hk"
         },
         {
          "count": 9,
          "source": "polioeradication.org"
         },
         {
          "count": 7,
          "source": "paho.org"
         },
         {
          "count": 7,
          "source": "allafrica.com"
         },
         {
          "count": 7,
          "source": "oie.int"
         },
         {
          "count": 7,
          "source": "reuters.com"
         },
         {
          "count": 6,
          "source": "angop.ao"
         },
         {
          "count": 6,
          "source": "foodsafetynews.com"
         },
         {
          "count": 6,
          "source": "the-star.co.ke"
         },
         {
          "count": 6,
          "source": "tribune.com.pk"
         },
         {
          "count": 6,
          "source": "cdc.gov"
         },
         {
          "count": 5,
          "source": "namibian.com.na"
         }
        ]
       },
       "encoding": {
        "color": {
         "condition": {
          "selection": {
           "not": "selector009"
          },
          "value": "#1f77b4"
         },
         "value": "#aec7e8"
        },
        "tooltip": [
         {
          "field": "source",
          "type": "nominal"
         },
         {
          "field": "count",
          "type": "quantitative"
         }
        ],
        "x": {
         "field": "source",
         "sort": null,
         "type": "nominal"
        },
        "y": {
         "field": "count",
         "type": "quantitative"
        }
       },
       "mark": "bar",
       "selection": {
        "selector009": {
         "fields": [
          "source"
         ],
         "on": "mouseover",
         "type": "single"
        }
       },
       "title": "top 20 signal domains"
      },
      "image/png": "[encoded data removed]",
      "text/plain": [
       "<VegaLite 3 object>\n",
       "\n",
       "If you see this message, it means the renderer has not been properly enabled\n",
       "for the frontend that you are using. For more information, see\n",
       "https://altair-viz.github.io/user_guide/troubleshooting.html\n"
      ]
     },
     "metadata": {
      "application/vnd.vegalite.v3+json": {
       "embed_options": {
        "theme": "dark"
       }
      }
     },
     "output_type": "display_data"
    }
   ],
   "source": [
    "highlight = alt.selection(type = 'single', on = 'mouseover',\n",
    "                          fields = ['source'])\n",
    "media_sites_count_plot = alt.Chart(media_sites_count.iloc[0:20],\n",
    "                                   title = 'top 20 signal domains').mark_bar().encode(\n",
    "    x = alt.Y('source', sort = None),\n",
    "    y = 'count',\n",
    "    tooltip = ['source', 'count'],\n",
    "    color = alt.condition(~highlight, alt.value('#1f77b4'),\n",
    "                          alt.value('#aec7e8'))\n",
    ").add_selection(\n",
    "    highlight\n",
    ")\n",
    "display(media_sites_count_plot)\n",
    "media_sites_count_plot.save(plot_dir+'/signals_media_sites_count.html')"
   ]
  },
  {
   "cell_type": "markdown",
   "metadata": {},
   "source": [
    "## Signals Ebola"
   ]
  },
  {
   "cell_type": "code",
   "execution_count": 22,
   "metadata": {},
   "outputs": [],
   "source": [
    "ebola_table = pd.read_excel(\n",
    "    '../data/dva_era/Updated Ebola alert tracker_new-20190929-SG.xlsx', \n",
    "    sheet_name = 'Alerts')"
   ]
  },
  {
   "cell_type": "code",
   "execution_count": null,
   "metadata": {},
   "outputs": [],
   "source": [
    "print(ebola_table.shape,'\\n\\n')\n",
    "display(ebola_table.tail())\n",
    "print(*ebola_table.columns, sep='; ')"
   ]
  },
  {
   "cell_type": "code",
   "execution_count": 24,
   "metadata": {},
   "outputs": [
    {
     "name": "stdout",
     "output_type": "stream",
     "text": [
      "(28, 5)\n"
     ]
    },
    {
     "data": {
      "text/html": [
       "<div>\n",
       "<style scoped>\n",
       "    .dataframe tbody tr th:only-of-type {\n",
       "        vertical-align: middle;\n",
       "    }\n",
       "\n",
       "    .dataframe tbody tr th {\n",
       "        vertical-align: top;\n",
       "    }\n",
       "\n",
       "    .dataframe thead th {\n",
       "        text-align: right;\n",
       "    }\n",
       "</style>\n",
       "<table border=\"1\" class=\"dataframe\">\n",
       "  <thead>\n",
       "    <tr style=\"text-align: right;\">\n",
       "      <th></th>\n",
       "      <th>url</th>\n",
       "      <th>date</th>\n",
       "      <th>disease</th>\n",
       "      <th>country</th>\n",
       "      <th>event_id</th>\n",
       "    </tr>\n",
       "  </thead>\n",
       "  <tbody>\n",
       "    <tr>\n",
       "      <th>0</th>\n",
       "      <td>observer.ug/news/headlines/58281-strange-disea...</td>\n",
       "      <td>NaT</td>\n",
       "      <td>Ebola</td>\n",
       "      <td>Uganda</td>\n",
       "      <td>None</td>\n",
       "    </tr>\n",
       "    <tr>\n",
       "      <th>1</th>\n",
       "      <td>observer.ug/news/headlines/58281-strange-disea...</td>\n",
       "      <td>NaT</td>\n",
       "      <td>Ebola</td>\n",
       "      <td>Uganda</td>\n",
       "      <td>None</td>\n",
       "    </tr>\n",
       "    <tr>\n",
       "      <th>2</th>\n",
       "      <td>observer.ug/news/headlines/58281-strange-disea...</td>\n",
       "      <td>NaT</td>\n",
       "      <td>Ebola</td>\n",
       "      <td>Uganda</td>\n",
       "      <td>None</td>\n",
       "    </tr>\n",
       "    <tr>\n",
       "      <th>3</th>\n",
       "      <td>observer.ug/news/headlines/58281-strange-disea...</td>\n",
       "      <td>NaT</td>\n",
       "      <td>Ebola</td>\n",
       "      <td>Uganda</td>\n",
       "      <td>None</td>\n",
       "    </tr>\n",
       "    <tr>\n",
       "      <th>4</th>\n",
       "      <td>observer.ug/news/headlines/58281-strange-disea...</td>\n",
       "      <td>NaT</td>\n",
       "      <td>Ebola</td>\n",
       "      <td>Uganda</td>\n",
       "      <td>None</td>\n",
       "    </tr>\n",
       "  </tbody>\n",
       "</table>\n",
       "</div>"
      ],
      "text/plain": [
       "                                                 url date disease country  \\\n",
       "0  observer.ug/news/headlines/58281-strange-disea...  NaT   Ebola  Uganda   \n",
       "1  observer.ug/news/headlines/58281-strange-disea...  NaT   Ebola  Uganda   \n",
       "2  observer.ug/news/headlines/58281-strange-disea...  NaT   Ebola  Uganda   \n",
       "3  observer.ug/news/headlines/58281-strange-disea...  NaT   Ebola  Uganda   \n",
       "4  observer.ug/news/headlines/58281-strange-disea...  NaT   Ebola  Uganda   \n",
       "\n",
       "  event_id  \n",
       "0     None  \n",
       "1     None  \n",
       "2     None  \n",
       "3     None  \n",
       "4     None  "
      ]
     },
     "metadata": {},
     "output_type": "display_data"
    }
   ],
   "source": [
    "ebola_media_links = pd.DataFrame(columns=['url','date','disease','country','event_id'])\n",
    "ebola_idx_media_link = ebola_table[\n",
    "    [url != 'nan' for url in ebola_table.Weblink.astype(str)]\n",
    "].index\n",
    "for i in ebola_idx_media_link:\n",
    "# for link_list in signals_media_links:\n",
    "    link_date = ebola_table.loc[i,'Date Open']\n",
    "    if type(link_date) is str:\n",
    "        link_date = [int(da) for da in link_date.split('/')]\n",
    "        if link_date[2] == 209:\n",
    "            link_date[2] = 2019\n",
    "        link_date = datetime.datetime(link_date[2],link_date[1],link_date[0])\n",
    "    elif type(link_date) == float:\n",
    "        link_date = np.nan\n",
    "    link_list = ebola_table.Weblink[i].split(' ')\n",
    "    link_disease = 'Ebola'\n",
    "    link_country = ebola_table.Country[i]\n",
    "    # Further split concatanated URLs and remove non-informative\n",
    "    # substrings.\n",
    "    # N.B. Ebola alerts don't have EMS event IDs\n",
    "    for charsplit in noninfo_substr:\n",
    "        # Remove leading or trailing escaped characters, \n",
    "        # whitspaces or punctuation. Just to be sure, also\n",
    "        # apply .strip() twice to remove special characters\n",
    "        # that might not be in strip_lead_trail\n",
    "        link_list = [y.strip().strip(strip_lead_trail).strip() \n",
    "                     for sublist in [x.split(charsplit) for x in link_list]\n",
    "                     for y in sublist]\n",
    "        link_list_media = [l for l in link_list\n",
    "                          if (all(sep in l for sep in ['.','/']) \n",
    "                              & (len(l) >= 5)\n",
    "                              & all([intern not in l \n",
    "                                    for intern in ['who.int','?eid=']]))]\n",
    "    if len(link_list_media) > 0:\n",
    "        for unique_link in link_list_media:\n",
    "            ebola_media_links = (\n",
    "                ebola_media_links.append(\n",
    "                    {'url':unique_link, 'date':link_date,\n",
    "                     'disease':link_disease, 'country':link_country,\n",
    "                     'event_id':None}, \n",
    "                    ignore_index=True))\n",
    "print(ebola_media_links.shape)\n",
    "display(ebola_media_links.head())"
   ]
  },
  {
   "cell_type": "code",
   "execution_count": 25,
   "metadata": {},
   "outputs": [],
   "source": [
    "# Save Ebola links\n",
    "pickle.dump(ebola_media_links,\n",
    "            open('pickles/ebola_alerts_data.pickle', 'wb'))"
   ]
  },
  {
   "cell_type": "markdown",
   "metadata": {},
   "source": [
    "## EMS data\n",
    "\n",
    "Instead of trying to query the EMS databases, we will work with the export possibilities offered by the platform. For conveniance but also because the export didn't work for longer time ranges, we will work for the moment with events created between **1 July 2018 and 31 August 2018.** \n",
    "\n",
    "### List of events from the Events page\n",
    " \n",
    "The list was exported from the \"all events\" tab with the \"All variables\" template as a CSV file. To XML formats are also available (simple and Excel Worksheet) but they don't bring anything as the variables are not nested and the types are always given as \"String\".\n",
    "\n",
    "A data model of sorts is provided as an HTML table: *../data/ems/EMS-all_variables_template-datamodel.html*\n",
    "\n",
    "Selecting manually all variables to be exported results in somewhat more variables (about 168 instead of 152 here), but the export didn't work."
   ]
  },
  {
   "cell_type": "code",
   "execution_count": null,
   "metadata": {},
   "outputs": [],
   "source": [
    "ems_list_main = pd.read_csv(\n",
    "    '../data/ems/EMS-all_variables_template-20180701-20180831.csv')\n",
    "print(ems_list_main.shape)\n",
    "display(ems_list_main.head())\n",
    "# print(*ems_list_main.columns,sep='; ')"
   ]
  },
  {
   "cell_type": "markdown",
   "metadata": {},
   "source": [
    "### List of events from the Reports page\n",
    "\n",
    "The dedicated Reports page \"EMS Data Export\" offers three tables."
   ]
  },
  {
   "cell_type": "code",
   "execution_count": null,
   "metadata": {},
   "outputs": [],
   "source": [
    "ems_list_export_1 = pd.read_excel(\n",
    "    '../data/ems/EMS-Data_TableView1-20180701-20180831.xls')\n",
    "ems_list_export_2 = pd.read_excel(\n",
    "    '../data/ems/EMS-Data_TableView2-20180701-20180831.xls')\n",
    "ems_list_export_3 = pd.read_excel(\n",
    "    '../data/ems/EMS-Data_TableView3-20180701-20180831.xls')\n",
    "\n",
    "print(ems_list_export_1.shape)\n",
    "display(ems_list_export_1.head())\n",
    "print(*ems_list_export_1.columns, sep='; ')\n",
    "print('\\n\\n')\n",
    "print(ems_list_export_2.shape)\n",
    "display(ems_list_export_2.head())\n",
    "print(*ems_list_export_2.columns, sep='; ')\n",
    "print('\\n\\n')\n",
    "print(ems_list_export_3.shape)\n",
    "display(ems_list_export_3.head())\n",
    "print(*ems_list_export_3.columns, sep='; ')"
   ]
  },
  {
   "cell_type": "markdown",
   "metadata": {},
   "source": [
    "### Risk assessments\n",
    "\n",
    "More information on the Rapid Risk Assessment itself can be downloaded from the corresponding report \"Overview of Rapid Risk Assessments\"."
   ]
  },
  {
   "cell_type": "code",
   "execution_count": null,
   "metadata": {},
   "outputs": [],
   "source": [
    "ems_rra = pd.read_excel(\n",
    "    '../data/ems/EMS-RapidRiskAssessment_TableView1-20180701-20180831.xls')\n",
    "print(ems_rra.shape)\n",
    "display(ems_rra.head())\n",
    "print(*ems_rra.columns, sep='; ')"
   ]
  },
  {
   "cell_type": "markdown",
   "metadata": {},
   "source": [
    "## Final EMS data set\n",
    "\n",
    "The Table2 from EMS Data has the most information, we'll work with it."
   ]
  },
  {
   "cell_type": "code",
   "execution_count": null,
   "metadata": {},
   "outputs": [],
   "source": [
    "ems_data_raw = pd.read_excel(\n",
    "    '../data/ems/EMS-Data_TableView2-20171001-20190930_20191001.xls')\n",
    "print(ems_data_raw.shape)\n",
    "display(ems_data_raw.head())"
   ]
  },
  {
   "cell_type": "code",
   "execution_count": null,
   "metadata": {},
   "outputs": [],
   "source": [
    "# Simplify and arrange\n",
    "date_from = [min(ems_data_raw.loc[i,'Date Information First Received'],\n",
    "                 ems_data_raw.loc[i,'Date Created'],\n",
    "                 ems_data_raw.loc[i,'Estimated Date of Onset'])\n",
    "             for i in range(ems_data_raw.shape[0])]\n",
    "date_to = [min(ems_data_raw.loc[i,'Last Updated'],\n",
    "               ems_data_raw.loc[i,'Designation Date'],\n",
    "               ems_data_raw.loc[i,'Last Verification Request Sent on'],\n",
    "               ems_data_raw.loc[i,'RRAFinalizedDate'])\n",
    "             for i in range(ems_data_raw.shape[0])]\n",
    "source_media = [int('media' in ems_data_raw.loc[i,'Source Type'].lower()) \n",
    "                for i in range(ems_data_raw.shape[0])]\n",
    "ems_data = pd.DataFrame({\n",
    "    'event_id':ems_data_raw['Event link'],\n",
    "    'date_from':date_from,\n",
    "    'date_to':date_to,\n",
    "    'disease':ems_data_raw['Disease or Condition'],\n",
    "    'country':ems_data_raw['Country or Area'],\n",
    "    'media':source_media,\n",
    "    'ihr_assessment':ems_data_raw['IHR Assessment'],\n",
    "    'serious_ph':ems_data_raw['Serious Public Health Impact (WHO)'],\n",
    "    'unusual_unexpected':ems_data_raw['Unusual or Unexpected (WHO)'],\n",
    "    'international_spread':ems_data_raw['International Disease Spread (WHO)'],\n",
    "    'travel_trade':ems_data_raw['Interference with international travel or trade (WHO)'],\n",
    "    'rra_national':ems_data_raw['RRANationalRiskLevel'],\n",
    "    'rra_regional':ems_data_raw['RRARegionalRiskLevel'],\n",
    "    'rra_global':ems_data_raw['RRAGlobalRiskLevel']\n",
    "})\n",
    "print(ems_data.shape)\n",
    "print(len(ems_data.event_id.unique()))\n",
    "print_stats = [col for col in ems_data.columns if not col in ['event_id','date_from','date_to']]\n",
    "for col in print_stats:\n",
    "    print('-----', col, ems_data[col].value_counts(dropna=False).to_frame())\n",
    "    \n",
    "# print('-----Source = media:', sum(ems_data.media))\n",
    "# print('-----IHR Assessment:', ems_data.ihr_assessment.value_counts(dropna=False).to_frame())\n",
    "# print('-----Serious...:', ems_data.serious_ph.value_counts(dropna=False).to_frame())\n",
    "# print('-----Unusual...:', ems_data.unusual_unexpected.value_counts(dropna=False).to_frame())\n",
    "# print('-----Spread...:', ems_data.international_spread.value_counts(dropna=False).to_frame())\n",
    "# print('-----Travel...:', ems_data.travel_trade.value_counts(dropna=False).to_frame())\n",
    "# print('-----RRA national:', ems_data.rra_national.value_counts(dropna=False).to_frame())\n",
    "# print('-----RRA regional:', ems_data.rra_regional.value_counts(dropna=False).to_frame())\n",
    "# print('-----RRA global:', ems_data.rra_global.value_counts(dropna=False).to_frame())\n",
    "display(ems_data.head())\n",
    "display(ems_data_raw[['Disease or Condition','Aetiology',\n",
    "                      'Syndrome','Hazard']]\n",
    "        [[type(di) == float for di in ems_data_raw['Disease or Condition']]])"
   ]
  },
  {
   "cell_type": "code",
   "execution_count": 31,
   "metadata": {},
   "outputs": [],
   "source": [
    "# Save Ebola links\n",
    "pickle.dump(ems_data,\n",
    "            open('pickles/ems_data.pickle', 'wb'))"
   ]
  }
 ],
 "metadata": {
  "kernelspec": {
   "display_name": "Python (eios_anomaly)",
   "language": "python",
   "name": "eios_anomaly"
  },
  "language_info": {
   "codemirror_mode": {
    "name": "ipython",
    "version": 3
   },
   "file_extension": ".py",
   "mimetype": "text/x-python",
   "name": "python",
   "nbconvert_exporter": "python",
   "pygments_lexer": "ipython3",
   "version": "3.7.3"
  }
 },
 "nbformat": 4,
 "nbformat_minor": 4
}